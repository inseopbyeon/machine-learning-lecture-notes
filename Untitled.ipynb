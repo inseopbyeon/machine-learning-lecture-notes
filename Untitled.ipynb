{
 "cells": [
  {
   "cell_type": "code",
   "execution_count": 143,
   "metadata": {},
   "outputs": [
    {
     "data": {
      "text/plain": [
       "array([[ 2.32311605e+00+0.j        , -2.44408862e-01+0.32806747j,\n",
       "        -2.44408862e-01-0.32806747j],\n",
       "       [ 2.19249488e+00+0.j        ,  2.01067589e-03-0.27567487j,\n",
       "         2.01067589e-03+0.27567487j],\n",
       "       [ 1.71868423e+00+0.j        ,  1.78920575e-01+0.0174642j ,\n",
       "         1.78920575e-01-0.0174642j ]])"
      ]
     },
     "execution_count": 143,
     "metadata": {},
     "output_type": "execute_result"
    }
   ],
   "source": [
    "import numpy as np\n",
    "\n",
    "rng= np.random.RandomState(42)\n",
    "\n",
    "x = rng.randint(1,3,9).reshape(3,3)\n",
    "y = np.linalg.inv(x)\n",
    "# np.matmul(x,y)\n",
    "eig_val, eig_vec = np.linalg.eig(x)\n",
    "x@eig_vec\n",
    "# eig_val@x"
   ]
  }
 ],
 "metadata": {
  "kernelspec": {
   "display_name": "Python 3",
   "language": "python",
   "name": "python3"
  },
  "language_info": {
   "codemirror_mode": {
    "name": "ipython",
    "version": 3
   },
   "file_extension": ".py",
   "mimetype": "text/x-python",
   "name": "python",
   "nbconvert_exporter": "python",
   "pygments_lexer": "ipython3",
   "version": "3.7.0"
  }
 },
 "nbformat": 4,
 "nbformat_minor": 2
}
