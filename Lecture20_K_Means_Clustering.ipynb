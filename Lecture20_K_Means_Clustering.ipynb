{
 "cells": [
  {
   "cell_type": "markdown",
   "metadata": {},
   "source": [
    "# K-means clustering"
   ]
  },
  {
   "cell_type": "markdown",
   "metadata": {},
   "source": [
    "Clustering(군집화)의 목적은 관측값을 서로 유사성이 높은 것끼리 묶어 다수의 그룹으로 만드는 것으로 동일 그룹 내 구성원 간의 유사성은 매우 높지만 다른 그룹의 구성원과의 유사성은 거의 없도록 하는 것입니다.\n",
    "\n",
    "- 자금 세탁 방지를 위한 척도로서, 이상 탐지를 통해 의심스러운 자금 흐름이나 개인을 찾아낼 수 있습니다.\n",
    "- 생물학에서는 유사한 패턴을 가진 유전자 그룹을 찾는 데 사용할 수 있습니다.\n",
    "- 마케팅 분석에서 유사한 고객 세그먼트를 찾기 위해 군집화를 사용하고 각기 다른 고객 세그먼트에 대해 서로 다른 마케팅 전략을 적용할 수 있습니다.\n",
    "\n",
    "K-means clustering은 반복적인 작업으로 각 클러스터의 현재 중심을 구성원의 평균 위치로 옮기고 중심이 옮겨진 위치로부터 가장 가까운 점들로 다시 구성원을 형성한 후 새로운 평균을 구하고 위치를 옮기는 작업을 반복합니다. 이 반복은 클러스터의 중심이 더 이상 유의미한 변화가 없거나 미리 설정해둔 반복 횟수에 도달하면 멈춥니다.\n",
    "\n",
    "K-means의 비용함수 : 클러스터의 중심과 클러스터에 속한 관측값 사이의 유클리디언 거리"
   ]
  },
  {
   "cell_type": "markdown",
   "metadata": {},
   "source": [
    "## 1. 최적 클러스터 개수와 클러스터 평가"
   ]
  },
  {
   "cell_type": "markdown",
   "metadata": {},
   "source": [
    "사실 적절한 클러스터의 개수를 정하는 것은 과학이라기보다 예술의 경지라 할 수 있습니다."
   ]
  },
  {
   "cell_type": "markdown",
   "metadata": {},
   "source": [
    "### Elbow method(엘보 기법)\n",
    "K-means clustering에서 최적 클러스터 개수를 찾기 위해서는 엘보 기법을 사용해야 해야합니다. Cluster의 갯수인 $k$가 증가하게 되면, 비용함수는 줄어들게 됩니다. 하지만 어느 시점이 지나게 되면 비용함수의 저하가 크게 발생하지 않게 됩니다. 이 시점을 elbow라고 부르고, 더 이상 클러스터를 증가시키지 않아도 될 최적 시점으로 볼 수 있습니다.\n",
    "\n",
    "### Silhouette coefficient(실루엣 계수)\n",
    "실루엣 계수는 클러스터가 어느 정도 밀집해 있는지 알아보는 척도입니다. 이 값이 높을수록 클러스터의 품질이 우수하다는 것을 의미합니다. 실루엣 계수는 클러스터들이 잘 분리돼 있으면 높은 값을 갖고, 서로 겹치면 낮은 값을 갖는데, -1부터 1사이의 어느 한 값을 가지며 값이 클수록 좋습니다.\n",
    "\n",
    "실루엣 계수는 각 개체별로 계산하는데, 개체의 집합에 관해서는 개별 개체 점수의 평균을 계산한다.\n",
    "$$s=\\frac{(b-a)}{\\text{max}(a,b)}$$\n",
    " - $a$ : 같은 클러스터 내의 다른 관측값과의 평균 거리\n",
    " - $b$ : 가장 가까운 다른 클러스터 내에 속한 모든 관측값과의 평균 거리"
   ]
  },
  {
   "cell_type": "markdown",
   "metadata": {},
   "source": [
    "## 2. 데이터 로딩"
   ]
  },
  {
   "cell_type": "code",
   "execution_count": 1,
   "metadata": {},
   "outputs": [],
   "source": [
    "import warnings\n",
    "warnings.filterwarnings('ignore')"
   ]
  },
  {
   "cell_type": "code",
   "execution_count": 2,
   "metadata": {},
   "outputs": [],
   "source": [
    "import pandas as pd\n",
    "import numpy as np\n",
    "import matplotlib.pyplot as plt\n",
    "\n",
    "from scipy.spatial.distance import cdist, pdist\n",
    "\n",
    "from sklearn.cluster import KMeans\n",
    "from sklearn.metrics import silhouette_score\n",
    "from sklearn.datasets import load_iris"
   ]
  },
  {
   "cell_type": "code",
   "execution_count": 3,
   "metadata": {},
   "outputs": [],
   "source": [
    "iris = load_iris()"
   ]
  },
  {
   "cell_type": "code",
   "execution_count": 4,
   "metadata": {},
   "outputs": [],
   "source": [
    "x = iris['data']\n",
    "y = iris['target']"
   ]
  },
  {
   "cell_type": "code",
   "execution_count": 5,
   "metadata": {},
   "outputs": [
    {
     "name": "stdout",
     "output_type": "stream",
     "text": [
      "(150, 4)\n",
      "유니크한 class : {0, 1, 2}\n"
     ]
    }
   ],
   "source": [
    "print(x.shape)\n",
    "print('유니크한 class : {}'.format(set(y)))"
   ]
  },
  {
   "cell_type": "markdown",
   "metadata": {},
   "source": [
    "## 3. Clustering 알고리즘 수행\n",
    "실제로는 몇 개의 클러스터가 필요한지 사전에 알 수 있는 방법은 없습니다. 시행착오를 거쳐 숫자를 찾아낼 수 밖에 없습니다. 우선, 사전정보가 있기 때문에 클러스터를 3이라고 하겠습니다."
   ]
  },
  {
   "cell_type": "code",
   "execution_count": 6,
   "metadata": {},
   "outputs": [
    {
     "data": {
      "text/plain": [
       "KMeans(algorithm='auto', copy_x=True, init='k-means++', max_iter=300,\n",
       "    n_clusters=3, n_init=10, n_jobs=1, precompute_distances='auto',\n",
       "    random_state=None, tol=0.0001, verbose=0)"
      ]
     },
     "execution_count": 6,
     "metadata": {},
     "output_type": "execute_result"
    }
   ],
   "source": [
    "k_means_fit = KMeans(n_clusters=3, max_iter=300)\n",
    "k_means_fit.fit(x)"
   ]
  },
  {
   "cell_type": "markdown",
   "metadata": {},
   "source": [
    "`labels_`를 이용하면, 데이터 샘플에 할당된 cluster를 알 수 있습니다."
   ]
  },
  {
   "cell_type": "code",
   "execution_count": 7,
   "metadata": {},
   "outputs": [
    {
     "data": {
      "text/html": [
       "<div>\n",
       "<style scoped>\n",
       "    .dataframe tbody tr th:only-of-type {\n",
       "        vertical-align: middle;\n",
       "    }\n",
       "\n",
       "    .dataframe tbody tr th {\n",
       "        vertical-align: top;\n",
       "    }\n",
       "\n",
       "    .dataframe thead th {\n",
       "        text-align: right;\n",
       "    }\n",
       "</style>\n",
       "<table border=\"1\" class=\"dataframe\">\n",
       "  <thead>\n",
       "    <tr style=\"text-align: right;\">\n",
       "      <th>Predicted</th>\n",
       "      <th>0</th>\n",
       "      <th>1</th>\n",
       "      <th>2</th>\n",
       "    </tr>\n",
       "    <tr>\n",
       "      <th>Actual</th>\n",
       "      <th></th>\n",
       "      <th></th>\n",
       "      <th></th>\n",
       "    </tr>\n",
       "  </thead>\n",
       "  <tbody>\n",
       "    <tr>\n",
       "      <th>0</th>\n",
       "      <td>0</td>\n",
       "      <td>50</td>\n",
       "      <td>0</td>\n",
       "    </tr>\n",
       "    <tr>\n",
       "      <th>1</th>\n",
       "      <td>2</td>\n",
       "      <td>0</td>\n",
       "      <td>48</td>\n",
       "    </tr>\n",
       "    <tr>\n",
       "      <th>2</th>\n",
       "      <td>36</td>\n",
       "      <td>0</td>\n",
       "      <td>14</td>\n",
       "    </tr>\n",
       "  </tbody>\n",
       "</table>\n",
       "</div>"
      ],
      "text/plain": [
       "Predicted   0   1   2\n",
       "Actual               \n",
       "0           0  50   0\n",
       "1           2   0  48\n",
       "2          36   0  14"
      ]
     },
     "execution_count": 7,
     "metadata": {},
     "output_type": "execute_result"
    }
   ],
   "source": [
    "pd.crosstab(\n",
    "    y, \n",
    "    k_means_fit.labels_, \n",
    "    rownames=['Actual'], \n",
    "    colnames=['Predicted']\n",
    ")"
   ]
  },
  {
   "cell_type": "code",
   "execution_count": 8,
   "metadata": {},
   "outputs": [
    {
     "data": {
      "text/plain": [
       "0.5525919445213676"
      ]
     },
     "execution_count": 8,
     "metadata": {},
     "output_type": "execute_result"
    }
   ],
   "source": [
    "silhouette_score(x, k_means_fit.labels_, metric='euclidean')"
   ]
  },
  {
   "cell_type": "markdown",
   "metadata": {},
   "source": [
    "## 4. Clustering의 품질 측정"
   ]
  },
  {
   "cell_type": "markdown",
   "metadata": {},
   "source": [
    "### (1) 실루엣 계수"
   ]
  },
  {
   "cell_type": "code",
   "execution_count": 9,
   "metadata": {},
   "outputs": [
    {
     "name": "stdout",
     "output_type": "stream",
     "text": [
      "For K value : 2, 실루엣 계수 : 0.6808136202713507\n",
      "For K value : 3, 실루엣 계수 : 0.5525919445213676\n",
      "For K value : 4, 실루엣 계수 : 0.49782569007544936\n",
      "For K value : 5, 실루엣 계수 : 0.48851755085386317\n",
      "For K value : 6, 실루엣 계수 : 0.36339909661124525\n",
      "For K value : 7, 실루엣 계수 : 0.3577679996440562\n",
      "For K value : 8, 실루엣 계수 : 0.3480542239457266\n",
      "For K value : 9, 실루엣 계수 : 0.32409915327705024\n"
     ]
    }
   ],
   "source": [
    "for i in range(2, 10):\n",
    "    k_means_fit = KMeans(n_clusters=i, max_iter=300)\n",
    "    k_means_fit.fit(x)\n",
    "    print('For K value : {}, 실루엣 계수 : {}'\\\n",
    "          .format(i, silhouette_score(x, k_means_fit.labels_, metric='euclidean')))"
   ]
  },
  {
   "cell_type": "markdown",
   "metadata": {},
   "source": [
    "### (2) 엘보 기법"
   ]
  },
  {
   "cell_type": "code",
   "execution_count": 10,
   "metadata": {},
   "outputs": [],
   "source": [
    "K = range(1, 10)\n",
    "\n",
    "clusters = [KMeans(n_clusters=k).fit(x) for k in K]\n",
    "centroids = [cluster.cluster_centers_ for cluster in clusters]"
   ]
  },
  {
   "cell_type": "code",
   "execution_count": 11,
   "metadata": {},
   "outputs": [],
   "source": [
    "distances = [cdist(x, centroid, 'euclidean') for centroid in centroids]"
   ]
  },
  {
   "cell_type": "markdown",
   "metadata": {},
   "source": [
    "> 데이터에 할당된 클러스터의 centroid와의 거리의 평균 (within the clusters)"
   ]
  },
  {
   "cell_type": "code",
   "execution_count": 12,
   "metadata": {},
   "outputs": [],
   "source": [
    "# 각 데이터에서 가장 가까운 클러스터를 찾고, 그 클러스터와의 거리를 구합니다.\n",
    "dist = [np.min(d, axis=1) for d in distances]\n",
    "# 데이터에 할당된 클러스터의 centroid와의 거리와의 평균을 구합니다.\n",
    "avg_within_ss = [sum(d) / x.shape[0] for d in dist]"
   ]
  },
  {
   "cell_type": "code",
   "execution_count": 13,
   "metadata": {},
   "outputs": [
    {
     "data": {
      "text/plain": [
       "Text(0, 0.5, 'Average within-cluster sum of squares')"
      ]
     },
     "execution_count": 13,
     "metadata": {},
     "output_type": "execute_result"
    },
    {
     "data": {
      "image/png": "[encoded data removed]",
      "text/plain": [
       "<Figure size 432x288 with 1 Axes>"
      ]
     },
     "metadata": {
      "needs_background": "light"
     },
     "output_type": "display_data"
    }
   ],
   "source": [
    "# 엘보곡선을 그립니다.\n",
    "fig = plt.figure()\n",
    "ax = fig.add_subplot(111)\n",
    "ax.plot(K, avg_within_ss, 'b*-')\n",
    "plt.grid(True)\n",
    "plt.xlabel('Number of clusters')\n",
    "plt.ylabel('Average within-cluster sum of squares')"
   ]
  },
  {
   "cell_type": "markdown",
   "metadata": {},
   "source": [
    "그래프를 살펴보면 클러스터의 갯수가 3개보다 커지면, 기울기가 급격하게 변합니다. 따라서 클러스터의 갯수가 3개일 때 최적이라고 볼 수 있습니다."
   ]
  },
  {
   "cell_type": "markdown",
   "metadata": {},
   "source": [
    "> 해석된 분산의 비율"
   ]
  },
  {
   "cell_type": "markdown",
   "metadata": {},
   "source": [
    "$$\\frac{\\text{total distance sum of squares} - \\text{within cluster distance sum of squares}}{\\text{total distance sum of squares}}$$"
   ]
  },
  {
   "cell_type": "code",
   "execution_count": 14,
   "metadata": {},
   "outputs": [],
   "source": [
    "# 클러스터 내 제곱의 합계 총합\n",
    "within_cluster_ss = [sum(d**2) for d in dist]"
   ]
  },
  {
   "cell_type": "code",
   "execution_count": 15,
   "metadata": {},
   "outputs": [],
   "source": [
    "total_ss = sum(pdist(x)**2 / x.shape[0])\n",
    "# 클러스터 간 제곱의 합계 총합\n",
    "between_ss = total_ss - within_cluster_ss"
   ]
  },
  {
   "cell_type": "code",
   "execution_count": 16,
   "metadata": {},
   "outputs": [
    {
     "data": {
      "text/plain": [
       "Text(0, 0.5, 'Percentage of variance explained')"
      ]
     },
     "execution_count": 16,
     "metadata": {},
     "output_type": "execute_result"
    },
    {
     "data": {
      "image/png": "[encoded data removed]",
      "text/plain": [
       "<Figure size 432x288 with 1 Axes>"
      ]
     },
     "metadata": {
      "needs_background": "light"
     },
     "output_type": "display_data"
    }
   ],
   "source": [
    "# 엘보곡선을 그립니다.\n",
    "fig = plt.figure()\n",
    "ax = fig.add_subplot(111)\n",
    "ax.plot(K, between_ss/total_ss*100, 'b*-')\n",
    "plt.grid(True)\n",
    "plt.xlabel('Number of clusters')\n",
    "plt.ylabel('Percentage of variance explained')"
   ]
  },
  {
   "cell_type": "markdown",
   "metadata": {},
   "source": [
    "최적 클러스터의 개수로 결정되기 위해서 분산이 최소한 80%를 넘어야 합니다."
   ]
  },
  {
   "cell_type": "markdown",
   "metadata": {},
   "source": [
    "> Inertia\n",
    "\n",
    "**Inertia** can be recognized as a measure of how **internally coherent clusters are**.\n",
    "\n",
    "Inertia is the sum of the squared distances between each training instance and its closest centroid."
   ]
  },
  {
   "cell_type": "code",
   "execution_count": 13,
   "metadata": {},
   "outputs": [],
   "source": [
    "inertias = [c.inertia_ for c in clusters]"
   ]
  },
  {
   "cell_type": "code",
   "execution_count": 15,
   "metadata": {},
   "outputs": [
    {
     "data": {
      "text/plain": [
       "Text(0, 0.5, 'Inertia')"
      ]
     },
     "execution_count": 15,
     "metadata": {},
     "output_type": "execute_result"
    },
    {
     "data": {
      "image/png": "[encoded data removed]",
      "text/plain": [
       "<Figure size 432x288 with 1 Axes>"
      ]
     },
     "metadata": {
      "needs_background": "light"
     },
     "output_type": "display_data"
    }
   ],
   "source": [
    "# 엘보곡선을 그립니다.\n",
    "fig = plt.figure()\n",
    "ax = fig.add_subplot(111)\n",
    "ax.plot(K, inertias, 'b*-')\n",
    "plt.grid(True)\n",
    "plt.xlabel('Number of clusters')\n",
    "plt.ylabel('Inertia')"
   ]
  },
  {
   "cell_type": "markdown",
   "metadata": {},
   "source": [
    "따라서 \n",
    " - 실루엣 계수\n",
    " - 데이터와 데이터에 할당된 centroid 간의 거리에 따른 엘보 기법\n",
    " - 해석된 분산에 따른 엘보 기법\n",
    " \n",
    "에 따라, 최적의 클러스터가 3임을 알 수 있습니다."
   ]
  }
 ],
 "metadata": {
  "kernelspec": {
   "display_name": "Python 3",
   "language": "python",
   "name": "python3"
  },
  "language_info": {
   "codemirror_mode": {
    "name": "ipython",
    "version": 3
   },
   "file_extension": ".py",
   "mimetype": "text/x-python",
   "name": "python",
   "nbconvert_exporter": "python",
   "pygments_lexer": "ipython3",
   "version": "3.6.7"
  }
 },
 "nbformat": 4,
 "nbformat_minor": 2
}
