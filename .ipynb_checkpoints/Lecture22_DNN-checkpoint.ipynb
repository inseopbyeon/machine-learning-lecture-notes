{
 "cells": [
  {
   "cell_type": "markdown",
   "metadata": {},
   "source": [
    "# 신경망 (Deep Neural Network)"
   ]
  },
  {
   "cell_type": "code",
   "execution_count": 1,
   "metadata": {},
   "outputs": [],
   "source": [
    "import warnings\n",
    "warnings.filterwarnings('ignore')\n",
    "\n",
    "import numpy as np\n",
    "import pandas as pd"
   ]
  },
  {
   "cell_type": "markdown",
   "metadata": {},
   "source": [
    "## 1. Tensor"
   ]
  },
  {
   "cell_type": "markdown",
   "metadata": {},
   "source": [
    "**Tensor(텐서)** : 수치형 데이터를 위한 컨테이너입니다. 즉, 임의의 차원 개수를 가지는 행렬의 일반화된 모습입니다(다차원 배열)."
   ]
  },
  {
   "cell_type": "markdown",
   "metadata": {},
   "source": [
    "### (1) 1D 텐서 : 벡터"
   ]
  },
  {
   "cell_type": "code",
   "execution_count": 2,
   "metadata": {},
   "outputs": [
    {
     "name": "stdout",
     "output_type": "stream",
     "text": [
      "[12  3  6 14  7]\n",
      "차원 :  1\n"
     ]
    }
   ],
   "source": [
    "x = np.array([12, 3, 6, 14, 7])\n",
    "print(x)\n",
    "print('차원 : ', x.ndim)"
   ]
  },
  {
   "cell_type": "markdown",
   "metadata": {},
   "source": [
    "### (2) 2D 텐서 : 행렬"
   ]
  },
  {
   "cell_type": "code",
   "execution_count": 3,
   "metadata": {},
   "outputs": [
    {
     "name": "stdout",
     "output_type": "stream",
     "text": [
      "[[ 5 78  2 34  0]\n",
      " [ 6 79  3 35  1]\n",
      " [ 7 80  4 36  2]]\n",
      "차원 :  2\n"
     ]
    }
   ],
   "source": [
    "x = np.array([[5, 78, 2, 34, 0],\n",
    "              [6, 79, 3, 35, 1],\n",
    "              [7, 80, 4, 36, 2]])\n",
    "print(x)\n",
    "print('차원 : ', x.ndim)"
   ]
  },
  {
   "cell_type": "markdown",
   "metadata": {},
   "source": [
    "### (3) 3D 텐서 : 고차원 텐서"
   ]
  },
  {
   "cell_type": "code",
   "execution_count": 6,
   "metadata": {},
   "outputs": [
    {
     "name": "stdout",
     "output_type": "stream",
     "text": [
      "[[[ 5 78  2 34  0]\n",
      "  [ 6 79  3 35  1]\n",
      "  [ 7 80  4 36  2]]\n",
      "\n",
      " [[ 5 78  2 34  0]\n",
      "  [ 6 79  3 35  1]\n",
      "  [ 7 80  4 36  2]]\n",
      "\n",
      " [[ 5 78  2 34  0]\n",
      "  [ 6 79  3 35  1]\n",
      "  [ 7 80  4 36  2]]]\n",
      "차원 :  3\n"
     ]
    }
   ],
   "source": [
    "x = np.array([[[5, 78, 2, 34, 0],\n",
    "               [6, 79, 3, 35, 1],\n",
    "               [7, 80, 4, 36, 2]],\n",
    "              [[5, 78, 2, 34, 0],\n",
    "               [6, 79, 3, 35, 1],\n",
    "               [7, 80, 4, 36, 2]],\n",
    "              [[5, 78, 2, 34, 0],\n",
    "               [6, 79, 3, 35, 1],\n",
    "               [7, 80, 4, 36, 2]]])\n",
    "print(x)\n",
    "print('차원 : ', x.ndim)"
   ]
  },
  {
   "cell_type": "markdown",
   "metadata": {},
   "source": [
    "## 2. 신경망의 구조\n",
    "<img src=\"./images/dnn_network.png\" style=\"height:200px width:400px\">"
   ]
  },
  {
   "cell_type": "markdown",
   "metadata": {},
   "source": [
    "- 층(layer) : 하나 이상의 텐서를 입력으로 받아 하나 이상의 텐서를 출력하는 데이터 처리 모듈입니다.\n",
    "- 가중치(weight) : 층의 상태이며, 확률적 경사 하강법에 의해 학습되는 하나 이상의 텐서입니다. 여기에는 네트워크가 학습한 지식이 들어 있습니다.\n",
    "- 층의 네트워크 : 층을 쌓는 것입니다.\n",
    "- 손실 함수(목적 함수) : 훈련하는 동안 최소화될 값입니다. 주어진 문제에 대한 성공 지표가 됩니다.\n",
    "- 옵티마이저 : 손실 함수를 기반으로 네트워크가 어떻게 업데이트될지를 결정합니다. 특정 종류의 확률적 경사 하강법(SGD)을 구현합니다."
   ]
  },
  {
   "cell_type": "markdown",
   "metadata": {},
   "source": [
    "## 3. Keras"
   ]
  },
  {
   "cell_type": "markdown",
   "metadata": {},
   "source": [
    "케라스는 딥러닝 모델을 간편하게 만들고 훈련시킬 수 있는 파이썬을 위한 딥러닝 프레임워크입니다.\n",
    "\n",
    "케라스의 특징은 다음과 같습니다.\n",
    " - 동일한 코드로 CPU와 GPU에서 실행할 수 있습니다.\n",
    " - 사용하기 쉬운 API를 가지고 있어 딥러닝 모델의 프로토타입을 빠르게 만들 수 있습니다.\n",
    " - 합성곱 신경망, 순환 신경망을 지원하며 이 둘을 자유롭게 조합하여 사용할 수 있습니다.\n",
    " - 다중 입력이나, 다중 출력 모델, 층의 공유, 모델 공유 등 어떤 네트워크 구조도 만들 수 있습니다. 이 말은 적대적 생성 신경망부터 뉴럴 튜링 머신까지 케라스는 기본적으로 어떤 딥러닝 모델에도 적합하다는 뜻입니다.\n",
    " \n",
    "구글, 넷플릭스, 우버, 썬, 옐프, 스퀘어 그리고 다양한 분야의 스타트업 수백 개가 케라스를 사용합니다. 머신 러닝 경연 웹사이트인 캐글에서도 케라스의 인기가 높습니다. 최근에 거의 모든 딥러닝 경련 대회의 우승자들이 케라스를 사용하고 있습니다."
   ]
  },
  {
   "cell_type": "markdown",
   "metadata": {},
   "source": [
    "<img src=\"http://snowdeer.github.io/assets/machine-learning/012.jpg\" style=\"height:200px width:400px\">"
   ]
  },
  {
   "cell_type": "markdown",
   "metadata": {},
   "source": [
    "## 4. Keras의 DNN을 이용하여 MNIST 분류하기\n",
    "### (1) 데이터 로딩"
   ]
  },
  {
   "cell_type": "code",
   "execution_count": 7,
   "metadata": {},
   "outputs": [
    {
     "name": "stderr",
     "output_type": "stream",
     "text": [
      "Using TensorFlow backend.\n"
     ]
    }
   ],
   "source": [
    "from keras.datasets import mnist"
   ]
  },
  {
   "cell_type": "code",
   "execution_count": 8,
   "metadata": {},
   "outputs": [],
   "source": [
    "(train_images, train_labels), (test_images, test_labels) = \\\n",
    "    mnist.load_data()"
   ]
  },
  {
   "cell_type": "code",
   "execution_count": 9,
   "metadata": {},
   "outputs": [
    {
     "name": "stdout",
     "output_type": "stream",
     "text": [
      "학습셋 x :  (60000, 28, 28)\n",
      "학습셋 y :  (60000,)\n",
      "테스트셋 x :  (10000, 28, 28)\n",
      "테스트셋 y :  (10000,)\n"
     ]
    }
   ],
   "source": [
    "print('학습셋 x : ', train_images.shape)\n",
    "print('학습셋 y : ', train_labels.shape)\n",
    "print('테스트셋 x : ', test_images.shape)\n",
    "print('테스트셋 y : ', test_labels.shape)"
   ]
  },
  {
   "cell_type": "code",
   "execution_count": 10,
   "metadata": {},
   "outputs": [
    {
     "data": {
      "text/plain": [
       "array([[  0,   0,   0,   0,   0,   0,   0,   0,   0,   0,   0,   0,   0,\n",
       "          0,   0,   0,   0,   0,   0,   0,   0,   0,   0,   0,   0,   0,\n",
       "          0,   0],\n",
       "       [  0,   0,   0,   0,   0,   0,   0,   0,   0,   0,   0,   0,   0,\n",
       "          0,   0,   0,   0,   0,   0,   0,   0,   0,   0,   0,   0,   0,\n",
       "          0,   0],\n",
       "       [  0,   0,   0,   0,   0,   0,   0,   0,   0,   0,   0,   0,   0,\n",
       "          0,   0,   0,   0,   0,   0,   0,   0,   0,   0,   0,   0,   0,\n",
       "          0,   0],\n",
       "       [  0,   0,   0,   0,   0,   0,   0,   0,   0,   0,   0,   0,   0,\n",
       "          0,   0,   0,   0,   0,   0,   0,   0,   0,   0,   0,   0,   0,\n",
       "          0,   0],\n",
       "       [  0,   0,   0,   0,   0,   0,   0,   0,   0,   0,   0,   0,   0,\n",
       "          0,   0,   0,   0,   0,   0,   0,   0,   0,   0,   0,   0,   0,\n",
       "          0,   0],\n",
       "       [  0,   0,   0,   0,   0,   0,   0,   0,   0,   0,   0,   0,   3,\n",
       "         18,  18,  18, 126, 136, 175,  26, 166, 255, 247, 127,   0,   0,\n",
       "          0,   0],\n",
       "       [  0,   0,   0,   0,   0,   0,   0,   0,  30,  36,  94, 154, 170,\n",
       "        253, 253, 253, 253, 253, 225, 172, 253, 242, 195,  64,   0,   0,\n",
       "          0,   0],\n",
       "       [  0,   0,   0,   0,   0,   0,   0,  49, 238, 253, 253, 253, 253,\n",
       "        253, 253, 253, 253, 251,  93,  82,  82,  56,  39,   0,   0,   0,\n",
       "          0,   0],\n",
       "       [  0,   0,   0,   0,   0,   0,   0,  18, 219, 253, 253, 253, 253,\n",
       "        253, 198, 182, 247, 241,   0,   0,   0,   0,   0,   0,   0,   0,\n",
       "          0,   0],\n",
       "       [  0,   0,   0,   0,   0,   0,   0,   0,  80, 156, 107, 253, 253,\n",
       "        205,  11,   0,  43, 154,   0,   0,   0,   0,   0,   0,   0,   0,\n",
       "          0,   0],\n",
       "       [  0,   0,   0,   0,   0,   0,   0,   0,   0,  14,   1, 154, 253,\n",
       "         90,   0,   0,   0,   0,   0,   0,   0,   0,   0,   0,   0,   0,\n",
       "          0,   0],\n",
       "       [  0,   0,   0,   0,   0,   0,   0,   0,   0,   0,   0, 139, 253,\n",
       "        190,   2,   0,   0,   0,   0,   0,   0,   0,   0,   0,   0,   0,\n",
       "          0,   0],\n",
       "       [  0,   0,   0,   0,   0,   0,   0,   0,   0,   0,   0,  11, 190,\n",
       "        253,  70,   0,   0,   0,   0,   0,   0,   0,   0,   0,   0,   0,\n",
       "          0,   0],\n",
       "       [  0,   0,   0,   0,   0,   0,   0,   0,   0,   0,   0,   0,  35,\n",
       "        241, 225, 160, 108,   1,   0,   0,   0,   0,   0,   0,   0,   0,\n",
       "          0,   0],\n",
       "       [  0,   0,   0,   0,   0,   0,   0,   0,   0,   0,   0,   0,   0,\n",
       "         81, 240, 253, 253, 119,  25,   0,   0,   0,   0,   0,   0,   0,\n",
       "          0,   0],\n",
       "       [  0,   0,   0,   0,   0,   0,   0,   0,   0,   0,   0,   0,   0,\n",
       "          0,  45, 186, 253, 253, 150,  27,   0,   0,   0,   0,   0,   0,\n",
       "          0,   0],\n",
       "       [  0,   0,   0,   0,   0,   0,   0,   0,   0,   0,   0,   0,   0,\n",
       "          0,   0,  16,  93, 252, 253, 187,   0,   0,   0,   0,   0,   0,\n",
       "          0,   0],\n",
       "       [  0,   0,   0,   0,   0,   0,   0,   0,   0,   0,   0,   0,   0,\n",
       "          0,   0,   0,   0, 249, 253, 249,  64,   0,   0,   0,   0,   0,\n",
       "          0,   0],\n",
       "       [  0,   0,   0,   0,   0,   0,   0,   0,   0,   0,   0,   0,   0,\n",
       "          0,  46, 130, 183, 253, 253, 207,   2,   0,   0,   0,   0,   0,\n",
       "          0,   0],\n",
       "       [  0,   0,   0,   0,   0,   0,   0,   0,   0,   0,   0,   0,  39,\n",
       "        148, 229, 253, 253, 253, 250, 182,   0,   0,   0,   0,   0,   0,\n",
       "          0,   0],\n",
       "       [  0,   0,   0,   0,   0,   0,   0,   0,   0,   0,  24, 114, 221,\n",
       "        253, 253, 253, 253, 201,  78,   0,   0,   0,   0,   0,   0,   0,\n",
       "          0,   0],\n",
       "       [  0,   0,   0,   0,   0,   0,   0,   0,  23,  66, 213, 253, 253,\n",
       "        253, 253, 198,  81,   2,   0,   0,   0,   0,   0,   0,   0,   0,\n",
       "          0,   0],\n",
       "       [  0,   0,   0,   0,   0,   0,  18, 171, 219, 253, 253, 253, 253,\n",
       "        195,  80,   9,   0,   0,   0,   0,   0,   0,   0,   0,   0,   0,\n",
       "          0,   0],\n",
       "       [  0,   0,   0,   0,  55, 172, 226, 253, 253, 253, 253, 244, 133,\n",
       "         11,   0,   0,   0,   0,   0,   0,   0,   0,   0,   0,   0,   0,\n",
       "          0,   0],\n",
       "       [  0,   0,   0,   0, 136, 253, 253, 253, 212, 135, 132,  16,   0,\n",
       "          0,   0,   0,   0,   0,   0,   0,   0,   0,   0,   0,   0,   0,\n",
       "          0,   0],\n",
       "       [  0,   0,   0,   0,   0,   0,   0,   0,   0,   0,   0,   0,   0,\n",
       "          0,   0,   0,   0,   0,   0,   0,   0,   0,   0,   0,   0,   0,\n",
       "          0,   0],\n",
       "       [  0,   0,   0,   0,   0,   0,   0,   0,   0,   0,   0,   0,   0,\n",
       "          0,   0,   0,   0,   0,   0,   0,   0,   0,   0,   0,   0,   0,\n",
       "          0,   0],\n",
       "       [  0,   0,   0,   0,   0,   0,   0,   0,   0,   0,   0,   0,   0,\n",
       "          0,   0,   0,   0,   0,   0,   0,   0,   0,   0,   0,   0,   0,\n",
       "          0,   0]], dtype=uint8)"
      ]
     },
     "execution_count": 10,
     "metadata": {},
     "output_type": "execute_result"
    }
   ],
   "source": [
    "train_images[0]"
   ]
  },
  {
   "cell_type": "code",
   "execution_count": 11,
   "metadata": {},
   "outputs": [
    {
     "data": {
      "text/plain": [
       "5"
      ]
     },
     "execution_count": 11,
     "metadata": {},
     "output_type": "execute_result"
    }
   ],
   "source": [
    "train_labels[0]"
   ]
  },
  {
   "cell_type": "markdown",
   "metadata": {},
   "source": [
    "### (2) DNN 학습\n",
    " - 훈련 데이터 train_images, train_labels를 네트워크에 주입\n",
    " - 네트워크는 이미지와 레이블을 연관시킬수 있도록 학습됨\n",
    " - test_images에 대한 예측을 네트워크에 요청\n",
    " - 예측이 train_labels와 맞는지 확인"
   ]
  },
  {
   "cell_type": "markdown",
   "metadata": {},
   "source": [
    "Layer는 주어진 문제에 더 의미있는 **표현(representation)** 을 입력된 데이터로부터 추출합니다. 대부분의 딥러닝은 간단한 층을 연결하여 구성되어 있고, 점진적으로 데이터를 정제하는 형태를 띄고 있습니다. 딥러닝 모델은 데이터 정제 필터(층)가 연속되어 있는 데이터 프로세싱을 위한 여과기와 같습니다."
   ]
  },
  {
   "cell_type": "markdown",
   "metadata": {},
   "source": [
    "> 네트워크 구성"
   ]
  },
  {
   "cell_type": "code",
   "execution_count": 14,
   "metadata": {},
   "outputs": [],
   "source": [
    "from keras import models\n",
    "from keras import layers\n",
    "\n",
    "network = models.Sequential()\n",
    "network.add(layers.Dense(512, activation='relu', input_shape=(28*28, )))\n",
    "network.add(layers.Dense(10, activation='softmax'))"
   ]
  },
  {
   "cell_type": "markdown",
   "metadata": {},
   "source": [
    "첫번째 층은 input이 784 차원이고, output이 512차원입니다.\n",
    "\n",
    "마지막 층은 10개의 확률 점수가 들어 있는 배열을 반환하는 **softmax(소프트맥스)** 층입니다. 각 점수는 현재 숫자 이미지가 10개의 숫자 클래스 중 하나에 속할 확률입니다."
   ]
  },
  {
   "cell_type": "markdown",
   "metadata": {},
   "source": [
    "> 훈련을 위한 컴파일\n",
    "\n",
    " - 손실 함수(loss function) : 훈련 데이터에서 신경망의 성능을 측정하는 방법으로 네트워크가 옳은 방향으로 학습될 수 있도록 도와줍니다.\n",
    " - 옵티마이저(optimizer) : 입력된 데이터와 손실 함수를 기반으로 네트워크를 업데이트하는 메커니즘입니다.\n",
    " - 훈련과 테스트 과정을 모니터링할 지표 : 여기에서는 정확도(정확히 분류된 이미지의 비율)만 고려하겠습니다."
   ]
  },
  {
   "cell_type": "code",
   "execution_count": 15,
   "metadata": {},
   "outputs": [],
   "source": [
    "network.compile(optimizer='rmsprop',\n",
    "                loss='categorical_crossentropy',\n",
    "                metrics=['accuracy'])"
   ]
  },
  {
   "cell_type": "markdown",
   "metadata": {},
   "source": [
    "> 데이터 스케일링"
   ]
  },
  {
   "cell_type": "code",
   "execution_count": 16,
   "metadata": {},
   "outputs": [],
   "source": [
    "# 훈련을 시작하기 전에 모든 값을 0과 1 사이로 스케일을 조정(안해줘도 된다!)\n",
    "train_images = train_images.reshape((60000, 28 * 28))\n",
    "train_images = train_images.astype('float32') / 255\n",
    "\n",
    "test_images = test_images.reshape((10000, 28 * 28))\n",
    "test_images = test_images.astype('float32') / 255"
   ]
  },
  {
   "cell_type": "code",
   "execution_count": 17,
   "metadata": {},
   "outputs": [],
   "source": [
    "# 레이블\n",
    "from keras.utils import to_categorical\n",
    "\n",
    "train_labels = to_categorical(train_labels)\n",
    "test_labels = to_categorical(test_labels)"
   ]
  },
  {
   "cell_type": "code",
   "execution_count": 18,
   "metadata": {},
   "outputs": [
    {
     "data": {
      "text/plain": [
       "array([0., 0., 0., 0., 0., 1., 0., 0., 0., 0.], dtype=float32)"
      ]
     },
     "execution_count": 18,
     "metadata": {},
     "output_type": "execute_result"
    }
   ],
   "source": [
    "train_labels[0]"
   ]
  },
  {
   "cell_type": "code",
   "execution_count": 19,
   "metadata": {},
   "outputs": [
    {
     "name": "stdout",
     "output_type": "stream",
     "text": [
      "(60000, 10)\n",
      "(10000, 10)\n"
     ]
    }
   ],
   "source": [
    "print(train_labels.shape)\n",
    "print(test_labels.shape)"
   ]
  },
  {
   "cell_type": "markdown",
   "metadata": {},
   "source": [
    "> 훈련"
   ]
  },
  {
   "cell_type": "code",
   "execution_count": 20,
   "metadata": {},
   "outputs": [
    {
     "name": "stdout",
     "output_type": "stream",
     "text": [
      "WARNING:tensorflow:From C:\\Users\\isbyeon\\Anaconda3\\lib\\site-packages\\tensorflow\\python\\ops\\math_ops.py:3066: to_int32 (from tensorflow.python.ops.math_ops) is deprecated and will be removed in a future version.\n",
      "Instructions for updating:\n",
      "Use tf.cast instead.\n",
      "Epoch 1/5\n",
      "60000/60000 [==============================] - 7s 111us/step - loss: 0.2583 - acc: 0.9250\n",
      "Epoch 2/5\n",
      "60000/60000 [==============================] - 6s 104us/step - loss: 0.1045 - acc: 0.9691\n",
      "Epoch 3/5\n",
      "60000/60000 [==============================] - 6s 104us/step - loss: 0.0693 - acc: 0.9792\n",
      "Epoch 4/5\n",
      "60000/60000 [==============================] - 7s 111us/step - loss: 0.0500 - acc: 0.9850\n",
      "Epoch 5/5\n",
      "60000/60000 [==============================] - 7s 110us/step - loss: 0.0375 - acc: 0.9886\n"
     ]
    },
    {
     "data": {
      "text/plain": [
       "<keras.callbacks.History at 0x2922962ef98>"
      ]
     },
     "execution_count": 20,
     "metadata": {},
     "output_type": "execute_result"
    }
   ],
   "source": [
    "network.fit(train_images, train_labels, epochs=5, batch_size=128)"
   ]
  },
  {
   "cell_type": "code",
   "execution_count": 21,
   "metadata": {},
   "outputs": [
    {
     "name": "stdout",
     "output_type": "stream",
     "text": [
      "10000/10000 [==============================] - 1s 74us/step\n"
     ]
    }
   ],
   "source": [
    "test_loss, test_acc = network.evaluate(test_images, test_labels)"
   ]
  },
  {
   "cell_type": "code",
   "execution_count": 22,
   "metadata": {},
   "outputs": [
    {
     "name": "stdout",
     "output_type": "stream",
     "text": [
      "test_acc 0.9785\n"
     ]
    }
   ],
   "source": [
    "print('test_acc', test_acc)"
   ]
  },
  {
   "cell_type": "code",
   "execution_count": 23,
   "metadata": {},
   "outputs": [
    {
     "name": "stdout",
     "output_type": "stream",
     "text": [
      "_________________________________________________________________\n",
      "Layer (type)                 Output Shape              Param #   \n",
      "=================================================================\n",
      "dense_5 (Dense)              (None, 512)               401920    \n",
      "_________________________________________________________________\n",
      "dense_6 (Dense)              (None, 10)                5130      \n",
      "=================================================================\n",
      "Total params: 407,050\n",
      "Trainable params: 407,050\n",
      "Non-trainable params: 0\n",
      "_________________________________________________________________\n"
     ]
    }
   ],
   "source": [
    "network.summary()"
   ]
  },
  {
   "cell_type": "markdown",
   "metadata": {},
   "source": [
    "## 5. Keras의 DNN을 이용하여 영화 리뷰 분류하기 (Classification)"
   ]
  },
  {
   "cell_type": "markdown",
   "metadata": {},
   "source": [
    "인터넷 영화 데이터베이스(internet movie database)로부터 가져온 리뷰 5만 개로 이루어진 IMDB 데이터셋을 이용하여 DNN 분류기를 생성하겠습니다."
   ]
  },
  {
   "cell_type": "markdown",
   "metadata": {},
   "source": [
    "### (1) IMDB 데이터셋 로딩"
   ]
  },
  {
   "cell_type": "code",
   "execution_count": 33,
   "metadata": {},
   "outputs": [],
   "source": [
    "from keras.datasets import imdb\n",
    "\n",
    "# 훈련 데이터에서 가장 자주 나타나는 단어 1만 개만 사용한다.\n",
    "(train_data, train_labels), (test_data, test_labels) = \\\n",
    "    imdb.load_data(num_words=10000)"
   ]
  },
  {
   "cell_type": "code",
   "execution_count": 34,
   "metadata": {},
   "outputs": [
    {
     "name": "stdout",
     "output_type": "stream",
     "text": [
      "[1, 14, 22, 16, 43, 530, 973, 1622, 1385, 65, 458, 4468, 66, 3941, 4, 173, 36, 256, 5, 25, 100, 43, 838, 112, 50, 670, 2, 9, 35, 480, 284, 5, 150, 4, 172, 112, 167, 2, 336, 385, 39, 4, 172, 4536, 1111, 17, 546, 38, 13, 447, 4, 192, 50, 16, 6, 147, 2025, 19, 14, 22, 4, 1920, 4613, 469, 4, 22, 71, 87, 12, 16, 43, 530, 38, 76, 15, 13, 1247, 4, 22, 17, 515, 17, 12, 16, 626, 18, 2, 5, 62, 386, 12, 8, 316, 8, 106, 5, 4, 2223, 5244, 16, 480, 66, 3785, 33, 4, 130, 12, 16, 38, 619, 5, 25, 124, 51, 36, 135, 48, 25, 1415, 33, 6, 22, 12, 215, 28, 77, 52, 5, 14, 407, 16, 82, 2, 8, 4, 107, 117, 5952, 15, 256, 4, 2, 7, 3766, 5, 723, 36, 71, 43, 530, 476, 26, 400, 317, 46, 7, 4, 2, 1029, 13, 104, 88, 4, 381, 15, 297, 98, 32, 2071, 56, 26, 141, 6, 194, 7486, 18, 4, 226, 22, 21, 134, 476, 26, 480, 5, 144, 30, 5535, 18, 51, 36, 28, 224, 92, 25, 104, 4, 226, 65, 16, 38, 1334, 88, 12, 16, 283, 5, 16, 4472, 113, 103, 32, 15, 16, 5345, 19, 178, 32]\n"
     ]
    }
   ],
   "source": [
    "print(train_data[0])"
   ]
  },
  {
   "cell_type": "code",
   "execution_count": 28,
   "metadata": {},
   "outputs": [
    {
     "data": {
      "text/plain": [
       "1"
      ]
     },
     "execution_count": 28,
     "metadata": {},
     "output_type": "execute_result"
    }
   ],
   "source": [
    "train_labels[0]"
   ]
  },
  {
   "cell_type": "markdown",
   "metadata": {},
   "source": [
    "각 단어는 id를 가지고 있습니다. id를 이용하여 리뷰를 문장으로 바꾸어 봅니다."
   ]
  },
  {
   "cell_type": "code",
   "execution_count": 29,
   "metadata": {},
   "outputs": [
    {
     "name": "stdout",
     "output_type": "stream",
     "text": [
      "Downloading data from https://s3.amazonaws.com/text-datasets/imdb_word_index.json\n",
      "1646592/1641221 [==============================] - 2s 1us/step\n"
     ]
    },
    {
     "data": {
      "text/plain": [
       "[('fawn', 34701),\n",
       " ('tsukino', 52006),\n",
       " ('nunnery', 52007),\n",
       " ('sonja', 16816),\n",
       " ('vani', 63951)]"
      ]
     },
     "execution_count": 29,
     "metadata": {},
     "output_type": "execute_result"
    }
   ],
   "source": [
    "word_index = imdb.get_word_index()\n",
    "# Word index는 dict입니다.\n",
    "list(word_index.items())[:5]"
   ]
  },
  {
   "cell_type": "code",
   "execution_count": 30,
   "metadata": {},
   "outputs": [
    {
     "data": {
      "text/plain": [
       "[(34701, 'fawn'),\n",
       " (52006, 'tsukino'),\n",
       " (52007, 'nunnery'),\n",
       " (16816, 'sonja'),\n",
       " (63951, 'vani')]"
      ]
     },
     "execution_count": 30,
     "metadata": {},
     "output_type": "execute_result"
    }
   ],
   "source": [
    "reverse_word_index = dict(\n",
    "    [(value, key) for (key, value) in word_index.items()]\n",
    ")\n",
    "list(reverse_word_index.items())[:5]"
   ]
  },
  {
   "cell_type": "code",
   "execution_count": 31,
   "metadata": {},
   "outputs": [
    {
     "data": {
      "text/plain": [
       "\"? this film was just brilliant casting location scenery story direction everyone's really suited the part they played and you could just imagine being there robert ? is an amazing actor and now the same being director ? father came from the same scottish island as myself so i loved the fact there was a real connection with this film the witty remarks throughout the film were great it was just brilliant so much that i bought the film as soon as it was released for ? and would recommend it to everyone to watch and the fly fishing was amazing really cried at the end it was so sad and you know what they say if you cry at a film it must have been good and this definitely was also ? to the two little boy's that played the ? of norman and paul they were just brilliant children are often left out of the ? list i think because the stars that play them all grown up are such a big profile for the whole film but these children are amazing and should be praised for what they have done don't you think the whole story was so lovely because it was true and was someone's life after all that was shared with us all\""
      ]
     },
     "execution_count": 31,
     "metadata": {},
     "output_type": "execute_result"
    }
   ],
   "source": [
    "# 리뷰를 디코딩한다. 0, 1, 2는 패딩/문서시작/사전에 없을을 위한 인덱스이기 때문에 3을 빼줌\n",
    "decode_review = ' '.join(\n",
    "    [reverse_word_index.get(i - 3, '?') for i in train_data[0]]\n",
    ")\n",
    "decode_review"
   ]
  },
  {
   "cell_type": "markdown",
   "metadata": {},
   "source": [
    "### (2) 데이터 준비 (인코딩)"
   ]
  },
  {
   "cell_type": "code",
   "execution_count": 35,
   "metadata": {},
   "outputs": [],
   "source": [
    "# 리스트를 원-핫 인코딩하여 0과 1의 벡터로 변환합니다.\n",
    "\n",
    "import numpy as np\n",
    "\n",
    "def vectorize_sequences(sequences, dimension=10000):\n",
    "    # 크기가 (len(sequences), dimension) 이고 모든 원소가 0인 행렬을 생성\n",
    "    results = np.zeros((len(sequences), dimension))\n",
    "    for i, sequence in enumerate(sequences):\n",
    "        # Result[i]에서 특정 인덱스의 위치를 1로 만든다.\n",
    "        results[i, sequence] = 1.\n",
    "    return results"
   ]
  },
  {
   "cell_type": "code",
   "execution_count": 36,
   "metadata": {},
   "outputs": [],
   "source": [
    "x_train = vectorize_sequences(train_data)\n",
    "x_test = vectorize_sequences(test_data)"
   ]
  },
  {
   "cell_type": "code",
   "execution_count": 37,
   "metadata": {},
   "outputs": [
    {
     "name": "stdout",
     "output_type": "stream",
     "text": [
      "(25000, 10000)\n",
      "(25000, 10000)\n"
     ]
    }
   ],
   "source": [
    "print(x_train.shape)\n",
    "print(x_test.shape)"
   ]
  },
  {
   "cell_type": "code",
   "execution_count": 38,
   "metadata": {},
   "outputs": [
    {
     "data": {
      "text/plain": [
       "array([0., 1., 1., ..., 0., 0., 0.])"
      ]
     },
     "execution_count": 38,
     "metadata": {},
     "output_type": "execute_result"
    }
   ],
   "source": [
    "x_train[0]"
   ]
  },
  {
   "cell_type": "code",
   "execution_count": 41,
   "metadata": {},
   "outputs": [],
   "source": [
    "y_train = np.asarray(train_labels).astype('float')\n",
    "y_test = np.asarray(test_labels).astype('float')"
   ]
  },
  {
   "cell_type": "code",
   "execution_count": 42,
   "metadata": {},
   "outputs": [
    {
     "name": "stdout",
     "output_type": "stream",
     "text": [
      "(25000,)\n",
      "(25000,)\n"
     ]
    }
   ],
   "source": [
    "print(y_train.shape)\n",
    "print(y_test.shape)"
   ]
  },
  {
   "cell_type": "code",
   "execution_count": 43,
   "metadata": {},
   "outputs": [
    {
     "data": {
      "text/plain": [
       "1.0"
      ]
     },
     "execution_count": 43,
     "metadata": {},
     "output_type": "execute_result"
    }
   ],
   "source": [
    "y_train[0]"
   ]
  },
  {
   "cell_type": "markdown",
   "metadata": {},
   "source": [
    "### (3) 신경망 모델 생성"
   ]
  },
  {
   "cell_type": "markdown",
   "metadata": {},
   "source": [
    "Dense 층에 전달하는 매개변수 $x$는 hidden unit의 개수가 $x$라는 의미입니다. 즉 가중치 행렬 $W$의 크기가 (input_dimension, $x$)라는 뜻입니다. 입력 데이터와 $W$를 벡터의 내적을 이용하여 연산을 하게 되면 입력 데이터가 16차원으로 표현된 공간으로 투영됩니다. 표현 공간의 차원을 신경망이 내재된 표현을 학습할 때 가질 수 있는 자유도로 이해할 수 있습니다. 따라서 hidden unit의 수를 늘리면(표현 공간을 더 고차원으로 만들면) 신경망이 더욱 복잡한 표현을 학습할 수 있지만 계산 비용이 커지고 원하지 않는 패턴을 학습할 수도 있습니다.\n",
    "\n",
    "Dense 층을 쌓을 때 필요한 두 가지 중요한 구조상의 결정\n",
    " - 얼마나 많은 층을 사용할 것인가?\n",
    " - 각 층에 얼마나 많은 hidden unit을 둘 것인가?\n",
    " \n",
    "구조\n",
    " - 16개의 hidden unit을 가진 2개의 hidden layer\n",
    " - 현재 리뷰의 감정을 스칼라 값의 예측으로 출력하는 3번째 층"
   ]
  },
  {
   "cell_type": "code",
   "execution_count": 45,
   "metadata": {},
   "outputs": [],
   "source": [
    "from keras import models\n",
    "from keras import layers\n",
    "\n",
    "model = models.Sequential()\n",
    "model.add(layers.Dense(16, activation='relu'))\n",
    "model.add(layers.Dense(16, activation='relu'))\n",
    "model.add(layers.Dense(1, activation='sigmoid'))"
   ]
  },
  {
   "cell_type": "markdown",
   "metadata": {},
   "source": [
    "___\n",
    "**활성화 함수가 왜 필요한가?**\n",
    "\n",
    "relu와 같은 활성화 함수(또는 비선형성, non-linearity)가 없다면 Dense 층은 선형적인 연산인 내적과 덧셈으로만 구성됩니다. 코드로 보면 다음과 같습니다. `output = dot(W, input) + b` 이렇게 나오면 해당 층은 입력에 대한 선형 변환(affine 변환)만을 학습할 수 있습니다. 이 층의 가설 공간은 입력 데이터를 16차원의 공간으로 바꾸는 가능한 모든 선형 변환의 집합입니다. 이런 가설 공간은 매우 제약이 많으며, 선형 층을 깊게 쌓아도 여전히 하나의 선형 연산이기 때문에 층을 여러 개로 구성하는 장점이 없습니다.\n",
    "\n",
    "가설 공간을 풍부하게 만들어 층을 깊게 만드는 장점을 살리기 위해서는 비선형성 또는 활성화 함수를 추가해야 합니다. Relu는 딥러닝에서 가장 인기 있는 활성화 함수 중에 하나입니다.\n",
    "___"
   ]
  },
  {
   "cell_type": "code",
   "execution_count": 46,
   "metadata": {},
   "outputs": [],
   "source": [
    "model.compile(optimizer='rmsprop', loss='binary_crossentropy', metrics=['accuracy'])"
   ]
  },
  {
   "cell_type": "markdown",
   "metadata": {},
   "source": [
    "### (4) 학습"
   ]
  },
  {
   "cell_type": "code",
   "execution_count": 47,
   "metadata": {},
   "outputs": [],
   "source": [
    "from sklearn.model_selection import train_test_split\n",
    "\n",
    "partial_x_train, x_val, partial_y_train, y_val = \\\n",
    "    train_test_split(x_train, y_train, test_size=0.2, random_state=42)"
   ]
  },
  {
   "cell_type": "code",
   "execution_count": 48,
   "metadata": {},
   "outputs": [
    {
     "name": "stdout",
     "output_type": "stream",
     "text": [
      "Train on 20000 samples, validate on 5000 samples\n",
      "Epoch 1/20\n",
      "20000/20000 [==============================] - 4s 209us/step - loss: 0.4645 - acc: 0.8119 - val_loss: 0.3354 - val_acc: 0.8784\n",
      "Epoch 2/20\n",
      "20000/20000 [==============================] - 3s 164us/step - loss: 0.2640 - acc: 0.9090 - val_loss: 0.2873 - val_acc: 0.8858\n",
      "Epoch 3/20\n",
      "20000/20000 [==============================] - 3s 163us/step - loss: 0.1988 - acc: 0.9316 - val_loss: 0.2966 - val_acc: 0.8752\n",
      "Epoch 4/20\n",
      "20000/20000 [==============================] - 3s 164us/step - loss: 0.1651 - acc: 0.9438 - val_loss: 0.2760 - val_acc: 0.8880\n",
      "Epoch 5/20\n",
      "20000/20000 [==============================] - 3s 164us/step - loss: 0.1380 - acc: 0.9531 - val_loss: 0.3484 - val_acc: 0.8630\n",
      "Epoch 6/20\n",
      "20000/20000 [==============================] - 3s 164us/step - loss: 0.1175 - acc: 0.9605 - val_loss: 0.3140 - val_acc: 0.8792\n",
      "Epoch 7/20\n",
      "20000/20000 [==============================] - 3s 165us/step - loss: 0.1032 - acc: 0.9667 - val_loss: 0.3609 - val_acc: 0.8698\n",
      "Epoch 8/20\n",
      "20000/20000 [==============================] - 3s 164us/step - loss: 0.0899 - acc: 0.9697 - val_loss: 0.3577 - val_acc: 0.8756\n",
      "Epoch 9/20\n",
      "20000/20000 [==============================] - 3s 165us/step - loss: 0.0745 - acc: 0.9754 - val_loss: 0.4176 - val_acc: 0.8692\n",
      "Epoch 10/20\n",
      "20000/20000 [==============================] - 3s 165us/step - loss: 0.0668 - acc: 0.9795 - val_loss: 0.4186 - val_acc: 0.8736\n",
      "Epoch 11/20\n",
      "20000/20000 [==============================] - 3s 165us/step - loss: 0.0551 - acc: 0.9842 - val_loss: 0.4371 - val_acc: 0.8678\n",
      "Epoch 12/20\n",
      "20000/20000 [==============================] - 3s 170us/step - loss: 0.0478 - acc: 0.9853 - val_loss: 0.4802 - val_acc: 0.8614\n",
      "Epoch 13/20\n",
      "20000/20000 [==============================] - 3s 173us/step - loss: 0.0414 - acc: 0.9887 - val_loss: 0.5154 - val_acc: 0.8620\n",
      "Epoch 14/20\n",
      "20000/20000 [==============================] - 3s 170us/step - loss: 0.0356 - acc: 0.9908 - val_loss: 0.5387 - val_acc: 0.8618\n",
      "Epoch 15/20\n",
      "20000/20000 [==============================] - 3s 170us/step - loss: 0.0329 - acc: 0.9902 - val_loss: 0.5800 - val_acc: 0.8624\n",
      "Epoch 16/20\n",
      "20000/20000 [==============================] - 3s 167us/step - loss: 0.0286 - acc: 0.9922 - val_loss: 0.6009 - val_acc: 0.8614\n",
      "Epoch 17/20\n",
      "20000/20000 [==============================] - 3s 167us/step - loss: 0.0201 - acc: 0.9950 - val_loss: 0.6348 - val_acc: 0.8604\n",
      "Epoch 18/20\n",
      "20000/20000 [==============================] - 3s 168us/step - loss: 0.0165 - acc: 0.9968 - val_loss: 0.6796 - val_acc: 0.8584\n",
      "Epoch 19/20\n",
      "20000/20000 [==============================] - 3s 167us/step - loss: 0.0143 - acc: 0.9970 - val_loss: 0.7520 - val_acc: 0.8566\n",
      "Epoch 20/20\n",
      "20000/20000 [==============================] - 3s 166us/step - loss: 0.0139 - acc: 0.9970 - val_loss: 0.7451 - val_acc: 0.8570\n"
     ]
    }
   ],
   "source": [
    "history = model.fit(partial_x_train, partial_y_train, epochs=20, batch_size=512, validation_data=(x_val, y_val))"
   ]
  },
  {
   "cell_type": "markdown",
   "metadata": {},
   "source": [
    "### (5) 훈련과 검증 손실 및 정확도 그리기"
   ]
  },
  {
   "cell_type": "markdown",
   "metadata": {},
   "source": [
    "> Loss"
   ]
  },
  {
   "cell_type": "code",
   "execution_count": 50,
   "metadata": {},
   "outputs": [
    {
     "data": {
      "text/plain": [
       "<matplotlib.legend.Legend at 0x29250b1b208>"
      ]
     },
     "execution_count": 50,
     "metadata": {},
     "output_type": "execute_result"
    },
    {
     "data": {
      "image/png": "[encoded data removed]",
      "text/plain": [
       "<Figure size 432x288 with 1 Axes>"
      ]
     },
     "metadata": {},
     "output_type": "display_data"
    }
   ],
   "source": [
    "import matplotlib.pyplot as plt\n",
    "plt.style.use('ggplot')\n",
    "\n",
    "history_dict = history.history\n",
    "loss = history_dict['loss']\n",
    "val_loss = history_dict['val_loss']\n",
    "\n",
    "epochs = range(1, len(loss) + 1)\n",
    "\n",
    "plt.plot(epochs, loss, 'b-o', label='Training loss')\n",
    "plt.plot(epochs, val_loss, 'r-o', label='Validation loss')\n",
    "plt.title('Training and validation loss')\n",
    "plt.xlabel('Epochs')\n",
    "plt.ylabel('Loss')\n",
    "plt.legend()"
   ]
  },
  {
   "cell_type": "markdown",
   "metadata": {},
   "source": [
    "> Accuracy"
   ]
  },
  {
   "cell_type": "code",
   "execution_count": 51,
   "metadata": {},
   "outputs": [
    {
     "data": {
      "text/plain": [
       "<matplotlib.legend.Legend at 0x29250133f28>"
      ]
     },
     "execution_count": 51,
     "metadata": {},
     "output_type": "execute_result"
    },
    {
     "data": {
      "image/png": "[encoded data removed]",
      "text/plain": [
       "<Figure size 432x288 with 1 Axes>"
      ]
     },
     "metadata": {},
     "output_type": "display_data"
    }
   ],
   "source": [
    "import matplotlib.pyplot as plt\n",
    "plt.style.use('ggplot')\n",
    "\n",
    "history_dict = history.history\n",
    "acc = history_dict['acc']\n",
    "val_acc = history_dict['val_acc']\n",
    "\n",
    "epochs = range(1, len(loss) + 1)\n",
    "\n",
    "plt.plot(epochs, loss, 'b-o', label='Training acc')\n",
    "plt.plot(epochs, val_loss, 'r-o', label='Validation acc')\n",
    "plt.title('Training and validation acc')\n",
    "plt.xlabel('Epochs')\n",
    "plt.ylabel('acc')\n",
    "plt.legend()"
   ]
  },
  {
   "cell_type": "markdown",
   "metadata": {},
   "source": [
    "현재 데이터의 경우는 과대적합(overfitting)이 발생한 상황입니다."
   ]
  },
  {
   "cell_type": "markdown",
   "metadata": {},
   "source": [
    "___\n",
    "**과대적합을 막는 방법**\n",
    " - 네트워크 크기 축소 : 과대적합을 막는 가장 단순한 방법입니다. 모델의 크기, 즉 모델에 있는 학습 파라미터의 수를 줄이는 것입니다. 파라미터의 수는 layers의 수와 각 layer의 hidden unit의 수에 의하여 결정됩니다. 딥러닝에서 모델에 있는 학습 파라미터의 수를 종종 모델의 용량(capacity)라고 말합니다. 데이터에 알맞는 모델 크기를 찾으려면 각기 다른 구조를 검증 set에서 평가해 보아야 합니다. 일반적으로는 적은 수의 layer와 적은 수의 hidden unit에서부터 시작합니다.\n",
    " \n",
    " - 가중치 규제 추가 : 오캄의 면도날(어떤 것에 대한 두 가지의 설명이 있다면 더 적은 가정이 필요한 간단한 설명이 옳을 것이라는 이론). 어떤 훈련 데이터와 네트워크 구조가 주여졌을 때 데이터를 설명할 수 있는 가중치 값의 집합은 여러 개(여러 개의 모델)입니다. 여기서 간단한 모델이 복잡한 모델보다 덜 과대적합될 가능성이 높습니다. 간단한 모델은 파라미터 값 분포의 엔트로피가 작은 모델입니다. 즉 가중치가 작은 값을 가지도록 강제하는 모델입니다. 이로 인하여 파라미터 값의 분포가 더 균일하게 되고, 파라미터 값 분포의 엔트로피가 작게 됩니다. 이를 가중치 규제(weight regularization)라고 하며, 네트워크의 손실 함수에 연관된 비용을 추가합니다.\n",
    "     - L1 규제 : 파라미터의 절대값에 비례하는 비용이 추가됩니다.\n",
    "     - L2 규제 : 가중치의 제곱에 비례하는 비용이 추가됩니다.\n",
    " \n",
    " - Dropout 추가 : 드롭아웃은 신경망을 위해 사용되는 규제 기법 중에서 가장 효과적이고 널리 사용되는 방법 중 하나입니다. 네트워크 층에 드롭아웃을 적용하면 훈련하는 동안 무작위로 층의 일부 출력 특성을 제외시킵니다(0으로 만듭니다). 하지만 학습 후 테스트 단계에서는 어떤 unit도 드롭아웃되지 않습니다. 그 대신에 층의 출력을 드롭아웃 비율에 비례하여 줄여 줍니다. 왜냐하면 훈련할 때보다 더 많은 unit이 활성화되기 때문입니다.\n",
    "___"
   ]
  },
  {
   "cell_type": "markdown",
   "metadata": {},
   "source": [
    "### (6) 가중치 규제 추가 적용하여 학습"
   ]
  },
  {
   "cell_type": "markdown",
   "metadata": {},
   "source": [
    "L2 가중치를 추가한 모델을 생성합니다."
   ]
  },
  {
   "cell_type": "code",
   "execution_count": 53,
   "metadata": {},
   "outputs": [],
   "source": [
    "from keras import regularizers\n",
    "\n",
    "l2_model = models.Sequential()\n",
    "l2_model.add(layers.Dense(16, activation='relu', kernel_regularizer=regularizers.l2()))\n",
    "l2_model.add(layers.Dense(16, activation='relu', kernel_regularizer=regularizers.l2()))\n",
    "l2_model.add(layers.Dense(1, activation='sigmoid'))"
   ]
  },
  {
   "cell_type": "code",
   "execution_count": 54,
   "metadata": {},
   "outputs": [],
   "source": [
    "l2_model.compile(optimizer='rmsprop', loss='binary_crossentropy', metrics=['accuracy'])"
   ]
  },
  {
   "cell_type": "markdown",
   "metadata": {},
   "source": [
    "학습을 진행하며 과대적합여부를 살펴봅니다."
   ]
  },
  {
   "cell_type": "code",
   "execution_count": 55,
   "metadata": {},
   "outputs": [
    {
     "name": "stdout",
     "output_type": "stream",
     "text": [
      "Train on 20000 samples, validate on 5000 samples\n",
      "Epoch 1/20\n",
      "20000/20000 [==============================] - 4s 213us/step - loss: 0.7209 - acc: 0.8045 - val_loss: 0.6070 - val_acc: 0.8342\n",
      "Epoch 2/20\n",
      "20000/20000 [==============================] - 3s 166us/step - loss: 0.5339 - acc: 0.8813 - val_loss: 0.5485 - val_acc: 0.8530\n",
      "Epoch 3/20\n",
      "20000/20000 [==============================] - 3s 169us/step - loss: 0.4891 - acc: 0.8903 - val_loss: 0.4971 - val_acc: 0.8728\n",
      "Epoch 4/20\n",
      "20000/20000 [==============================] - 3s 165us/step - loss: 0.4564 - acc: 0.8973 - val_loss: 0.4921 - val_acc: 0.8672\n",
      "Epoch 5/20\n",
      "20000/20000 [==============================] - 3s 164us/step - loss: 0.4409 - acc: 0.8955 - val_loss: 0.5181 - val_acc: 0.8448\n",
      "Epoch 6/20\n",
      "20000/20000 [==============================] - 3s 165us/step - loss: 0.4252 - acc: 0.9000 - val_loss: 0.4526 - val_acc: 0.8790\n",
      "Epoch 7/20\n",
      "20000/20000 [==============================] - 3s 172us/step - loss: 0.4153 - acc: 0.9011 - val_loss: 0.4461 - val_acc: 0.8778\n",
      "Epoch 8/20\n",
      "20000/20000 [==============================] - 3s 163us/step - loss: 0.4032 - acc: 0.9043 - val_loss: 0.4498 - val_acc: 0.8678\n",
      "Epoch 9/20\n",
      "20000/20000 [==============================] - 3s 175us/step - loss: 0.3981 - acc: 0.9037 - val_loss: 0.4335 - val_acc: 0.8800\n",
      "Epoch 10/20\n",
      "20000/20000 [==============================] - 3s 173us/step - loss: 0.3905 - acc: 0.9067 - val_loss: 0.4302 - val_acc: 0.8790\n",
      "Epoch 11/20\n",
      "20000/20000 [==============================] - 3s 167us/step - loss: 0.3850 - acc: 0.9064 - val_loss: 0.4269 - val_acc: 0.8814\n",
      "Epoch 12/20\n",
      "20000/20000 [==============================] - 3s 171us/step - loss: 0.3769 - acc: 0.9076 - val_loss: 0.4294 - val_acc: 0.8754\n",
      "Epoch 13/20\n",
      "20000/20000 [==============================] - 3s 172us/step - loss: 0.3756 - acc: 0.9070 - val_loss: 0.4220 - val_acc: 0.8782\n",
      "Epoch 14/20\n",
      "20000/20000 [==============================] - 3s 170us/step - loss: 0.3675 - acc: 0.9116 - val_loss: 0.4498 - val_acc: 0.8626\n",
      "Epoch 15/20\n",
      "20000/20000 [==============================] - 4s 178us/step - loss: 0.3690 - acc: 0.9058 - val_loss: 0.4385 - val_acc: 0.8670\n",
      "Epoch 16/20\n",
      "20000/20000 [==============================] - 4s 184us/step - loss: 0.3621 - acc: 0.9101 - val_loss: 0.4190 - val_acc: 0.8750\n",
      "Epoch 17/20\n",
      "20000/20000 [==============================] - 3s 172us/step - loss: 0.3558 - acc: 0.9128 - val_loss: 0.4230 - val_acc: 0.8710\n",
      "Epoch 18/20\n",
      "20000/20000 [==============================] - 3s 169us/step - loss: 0.3625 - acc: 0.9068 - val_loss: 0.4349 - val_acc: 0.8662\n",
      "Epoch 19/20\n",
      "20000/20000 [==============================] - 3s 168us/step - loss: 0.3500 - acc: 0.9138 - val_loss: 0.4405 - val_acc: 0.8640\n",
      "Epoch 20/20\n",
      "20000/20000 [==============================] - 3s 168us/step - loss: 0.3481 - acc: 0.9134 - val_loss: 0.4875 - val_acc: 0.8410\n"
     ]
    }
   ],
   "source": [
    "l2_history = l2_model.fit(\n",
    "    partial_x_train, partial_y_train, epochs=20, batch_size=512, validation_data=(x_val, y_val))"
   ]
  },
  {
   "cell_type": "code",
   "execution_count": 74,
   "metadata": {},
   "outputs": [
    {
     "data": {
      "text/plain": [
       "<matplotlib.legend.Legend at 0xb36273d30>"
      ]
     },
     "execution_count": 74,
     "metadata": {},
     "output_type": "execute_result"
    },
    {
     "data": {
      "image/png": "[encoded data removed]",
      "text/plain": [
       "<Figure size 432x288 with 1 Axes>"
      ]
     },
     "metadata": {},
     "output_type": "display_data"
    }
   ],
   "source": [
    "l2_history_dict = l2_history.history\n",
    "l2_loss = l2_history_dict['loss']\n",
    "l2_val_loss = l2_history_dict['val_loss']\n",
    "\n",
    "epochs = range(1, len(loss) + 1)\n",
    "\n",
    "plt.plot(epochs, l2_loss, 'b-o', label='L2 Training loss')\n",
    "plt.plot(epochs, l2_val_loss, 'r-o', label='L2 Validation loss')\n",
    "plt.title('L2 Training and validation loss')\n",
    "plt.xlabel('Epochs')\n",
    "plt.ylabel('Loss')\n",
    "plt.legend()"
   ]
  },
  {
   "cell_type": "code",
   "execution_count": 75,
   "metadata": {},
   "outputs": [
    {
     "data": {
      "text/plain": [
       "<matplotlib.legend.Legend at 0xb35fe7978>"
      ]
     },
     "execution_count": 75,
     "metadata": {},
     "output_type": "execute_result"
    },
    {
     "data": {
      "image/png": "[encoded data removed]",
      "text/plain": [
       "<Figure size 432x288 with 1 Axes>"
      ]
     },
     "metadata": {},
     "output_type": "display_data"
    }
   ],
   "source": [
    "import matplotlib.pyplot as plt\n",
    "plt.style.use('ggplot')\n",
    "\n",
    "l2_acc = l2_history_dict['acc']\n",
    "l2_val_acc = l2_history_dict['val_acc']\n",
    "\n",
    "epochs = range(1, len(loss) + 1)\n",
    "\n",
    "plt.plot(epochs, l2_acc, 'b-o', label='Training Acc')\n",
    "plt.plot(epochs, l2_val_acc, 'r-o', label='Validation Acc')\n",
    "plt.title('L2 Training and validation acc')\n",
    "plt.xlabel('Epochs')\n",
    "plt.ylabel('Loss')\n",
    "plt.legend()"
   ]
  },
  {
   "cell_type": "markdown",
   "metadata": {},
   "source": [
    "### (7) Dropout 추가 적용하여 학습\n",
    "Dropout을 추가하여 모델을 학습합니다."
   ]
  },
  {
   "cell_type": "code",
   "execution_count": 56,
   "metadata": {},
   "outputs": [],
   "source": [
    "do_model = models.Sequential()\n",
    "do_model.add(layers.Dense(16, activation='relu'))\n",
    "do_model.add(layers.Dropout(0.5))\n",
    "do_model.add(layers.Dense(16, activation='relu'))\n",
    "do_model.add(layers.Dropout(0.5))\n",
    "do_model.add(layers.Dense(1, activation='sigmoid'))"
   ]
  },
  {
   "cell_type": "code",
   "execution_count": 57,
   "metadata": {},
   "outputs": [],
   "source": [
    "do_model.compile(optimizer='rmsprop', loss='binary_crossentropy', metrics=['accuracy'])"
   ]
  },
  {
   "cell_type": "markdown",
   "metadata": {},
   "source": [
    "학습을 진행하며 과대적합 여부를 판단합니다."
   ]
  },
  {
   "cell_type": "code",
   "execution_count": 58,
   "metadata": {},
   "outputs": [
    {
     "name": "stdout",
     "output_type": "stream",
     "text": [
      "WARNING:tensorflow:From C:\\Users\\isbyeon\\Anaconda3\\lib\\site-packages\\keras\\backend\\tensorflow_backend.py:3445: calling dropout (from tensorflow.python.ops.nn_ops) with keep_prob is deprecated and will be removed in a future version.\n",
      "Instructions for updating:\n",
      "Please use `rate` instead of `keep_prob`. Rate should be set to `rate = 1 - keep_prob`.\n",
      "Train on 20000 samples, validate on 5000 samples\n",
      "Epoch 1/20\n",
      "20000/20000 [==============================] - 4s 199us/step - loss: 0.6073 - acc: 0.6814 - val_loss: 0.4844 - val_acc: 0.8480\n",
      "Epoch 2/20\n",
      "20000/20000 [==============================] - 4s 177us/step - loss: 0.4753 - acc: 0.8016 - val_loss: 0.3865 - val_acc: 0.8752\n",
      "Epoch 3/20\n",
      "20000/20000 [==============================] - 3s 166us/step - loss: 0.3940 - acc: 0.8540 - val_loss: 0.3404 - val_acc: 0.8716\n",
      "Epoch 4/20\n",
      "20000/20000 [==============================] - 3s 170us/step - loss: 0.3372 - acc: 0.8880 - val_loss: 0.2966 - val_acc: 0.8864\n",
      "Epoch 5/20\n",
      "20000/20000 [==============================] - 3s 166us/step - loss: 0.2902 - acc: 0.9076 - val_loss: 0.2855 - val_acc: 0.8874\n",
      "Epoch 6/20\n",
      "20000/20000 [==============================] - 3s 167us/step - loss: 0.2554 - acc: 0.9191 - val_loss: 0.3035 - val_acc: 0.8816\n",
      "Epoch 7/20\n",
      "20000/20000 [==============================] - 3s 166us/step - loss: 0.2269 - acc: 0.9285 - val_loss: 0.2934 - val_acc: 0.8834\n",
      "Epoch 8/20\n",
      "20000/20000 [==============================] - 3s 166us/step - loss: 0.2008 - acc: 0.9383 - val_loss: 0.3095 - val_acc: 0.8808\n",
      "Epoch 9/20\n",
      "20000/20000 [==============================] - 3s 166us/step - loss: 0.1868 - acc: 0.9421 - val_loss: 0.3304 - val_acc: 0.8822\n",
      "Epoch 10/20\n",
      "20000/20000 [==============================] - 3s 167us/step - loss: 0.1638 - acc: 0.9480 - val_loss: 0.3771 - val_acc: 0.8810\n",
      "Epoch 11/20\n",
      "20000/20000 [==============================] - 3s 167us/step - loss: 0.1536 - acc: 0.9530 - val_loss: 0.3705 - val_acc: 0.8806\n",
      "Epoch 12/20\n",
      "20000/20000 [==============================] - 3s 166us/step - loss: 0.1416 - acc: 0.9552 - val_loss: 0.3974 - val_acc: 0.8790\n",
      "Epoch 13/20\n",
      "20000/20000 [==============================] - 3s 167us/step - loss: 0.1287 - acc: 0.9615 - val_loss: 0.4479 - val_acc: 0.8804\n",
      "Epoch 14/20\n",
      "20000/20000 [==============================] - 3s 168us/step - loss: 0.1226 - acc: 0.9624 - val_loss: 0.4414 - val_acc: 0.8780\n",
      "Epoch 15/20\n",
      "20000/20000 [==============================] - 3s 168us/step - loss: 0.1178 - acc: 0.9645 - val_loss: 0.5119 - val_acc: 0.8768\n",
      "Epoch 16/20\n",
      "20000/20000 [==============================] - 3s 169us/step - loss: 0.1078 - acc: 0.9677 - val_loss: 0.5059 - val_acc: 0.8778\n",
      "Epoch 17/20\n",
      "20000/20000 [==============================] - 3s 168us/step - loss: 0.1011 - acc: 0.9692 - val_loss: 0.5345 - val_acc: 0.8774\n",
      "Epoch 18/20\n",
      "20000/20000 [==============================] - 3s 167us/step - loss: 0.0979 - acc: 0.9706 - val_loss: 0.5531 - val_acc: 0.8752\n",
      "Epoch 19/20\n",
      "20000/20000 [==============================] - 3s 168us/step - loss: 0.0974 - acc: 0.9715 - val_loss: 0.5744 - val_acc: 0.8744\n",
      "Epoch 20/20\n",
      "20000/20000 [==============================] - 4s 187us/step - loss: 0.0930 - acc: 0.9741 - val_loss: 0.5979 - val_acc: 0.8758\n"
     ]
    }
   ],
   "source": [
    "do_history = do_model.fit(\n",
    "    partial_x_train, partial_y_train, epochs=20, batch_size=512, validation_data=(x_val, y_val))"
   ]
  },
  {
   "cell_type": "code",
   "execution_count": 59,
   "metadata": {},
   "outputs": [
    {
     "data": {
      "text/plain": [
       "<matplotlib.legend.Legend at 0x2924b261ef0>"
      ]
     },
     "execution_count": 59,
     "metadata": {},
     "output_type": "execute_result"
    },
    {
     "data": {
      "image/png": "[encoded data removed]",
      "text/plain": [
       "<Figure size 432x288 with 1 Axes>"
      ]
     },
     "metadata": {},
     "output_type": "display_data"
    }
   ],
   "source": [
    "do_history_dict = do_history.history\n",
    "do_loss = do_history_dict['loss']\n",
    "do_val_loss = do_history_dict['val_loss']\n",
    "\n",
    "epochs = range(1, len(loss) + 1)\n",
    "\n",
    "plt.plot(epochs, do_loss, 'b-o', label='Dropout Training loss')\n",
    "plt.plot(epochs, do_val_loss, 'r-o', label='Dropout Validation loss')\n",
    "plt.title('Dropout Training and validation loss')\n",
    "plt.xlabel('Epochs')\n",
    "plt.ylabel('Loss')\n",
    "plt.legend()"
   ]
  },
  {
   "cell_type": "code",
   "execution_count": 60,
   "metadata": {},
   "outputs": [
    {
     "data": {
      "text/plain": [
       "<matplotlib.legend.Legend at 0x2924b02d8d0>"
      ]
     },
     "execution_count": 60,
     "metadata": {},
     "output_type": "execute_result"
    },
    {
     "data": {
      "image/png": "[encoded data removed]",
      "text/plain": [
       "<Figure size 432x288 with 1 Axes>"
      ]
     },
     "metadata": {},
     "output_type": "display_data"
    }
   ],
   "source": [
    "do_history_dict = do_history.history\n",
    "do_acc = do_history_dict['acc']\n",
    "do_val_acc = do_history_dict['val_acc']\n",
    "\n",
    "epochs = range(1, len(loss) + 1)\n",
    "\n",
    "plt.plot(epochs, do_acc, 'b-o', label='Dropout Training acc')\n",
    "plt.plot(epochs, do_val_acc, 'r-o', label='Dropout Validation acc')\n",
    "plt.title('Dropout Training and validation acc')\n",
    "plt.xlabel('Epochs')\n",
    "plt.ylabel('acc')\n",
    "plt.legend()"
   ]
  },
  {
   "cell_type": "markdown",
   "metadata": {},
   "source": [
    "### (8) Prediction"
   ]
  },
  {
   "cell_type": "markdown",
   "metadata": {},
   "source": [
    "새로운 모델에 대하여 예측을 하는 방법은 다음과 같습니다."
   ]
  },
  {
   "cell_type": "code",
   "execution_count": 49,
   "metadata": {},
   "outputs": [
    {
     "data": {
      "text/plain": [
       "array([[0.01350514],\n",
       "       [1.        ],\n",
       "       [0.94708514],\n",
       "       ...,\n",
       "       [0.06980336],\n",
       "       [0.00491353],\n",
       "       [0.2844553 ]], dtype=float32)"
      ]
     },
     "execution_count": 49,
     "metadata": {},
     "output_type": "execute_result"
    }
   ],
   "source": [
    "model.predict(x_test)"
   ]
  },
  {
   "cell_type": "markdown",
   "metadata": {},
   "source": [
    "> 처음 학습 모델의 최종 성능"
   ]
  },
  {
   "cell_type": "code",
   "execution_count": 50,
   "metadata": {},
   "outputs": [
    {
     "name": "stdout",
     "output_type": "stream",
     "text": [
      "25000/25000 [==============================] - 2s 74us/step\n"
     ]
    },
    {
     "data": {
      "text/plain": [
       "0.84676"
      ]
     },
     "execution_count": 50,
     "metadata": {},
     "output_type": "execute_result"
    }
   ],
   "source": [
    "_, acc = model.evaluate(x_test, y_test)\n",
    "acc"
   ]
  },
  {
   "cell_type": "markdown",
   "metadata": {},
   "source": [
    "> L2 적용 모델의 최종 성능"
   ]
  },
  {
   "cell_type": "code",
   "execution_count": 76,
   "metadata": {},
   "outputs": [
    {
     "name": "stdout",
     "output_type": "stream",
     "text": [
      "25000/25000 [==============================] - 5s 186us/step\n"
     ]
    },
    {
     "data": {
      "text/plain": [
       "0.88104"
      ]
     },
     "execution_count": 76,
     "metadata": {},
     "output_type": "execute_result"
    }
   ],
   "source": [
    "_, l2_acc = l2_model.evaluate(x_test, y_test)\n",
    "l2_acc"
   ]
  },
  {
   "cell_type": "markdown",
   "metadata": {},
   "source": [
    "> Dropout 적용 모델의 최종 성능"
   ]
  },
  {
   "cell_type": "code",
   "execution_count": 52,
   "metadata": {},
   "outputs": [
    {
     "name": "stdout",
     "output_type": "stream",
     "text": [
      "25000/25000 [==============================] - 2s 63us/step\n"
     ]
    },
    {
     "data": {
      "text/plain": [
       "0.87004"
      ]
     },
     "execution_count": 52,
     "metadata": {},
     "output_type": "execute_result"
    }
   ],
   "source": [
    "_, do_acc = do_model.evaluate(x_test, y_test)\n",
    "do_acc"
   ]
  },
  {
   "cell_type": "markdown",
   "metadata": {},
   "source": [
    "## 6. Keras의 DNN을 이용하여 보스턴 주택 가격 예측하기 (Regression)"
   ]
  },
  {
   "cell_type": "markdown",
   "metadata": {},
   "source": [
    "### (1) 데이터 로딩"
   ]
  },
  {
   "cell_type": "code",
   "execution_count": 61,
   "metadata": {},
   "outputs": [
    {
     "name": "stdout",
     "output_type": "stream",
     "text": [
      "Downloading data from https://s3.amazonaws.com/keras-datasets/boston_housing.npz\n",
      "57344/57026 [==============================] - 0s 3us/step\n"
     ]
    }
   ],
   "source": [
    "from keras.datasets import boston_housing\n",
    "\n",
    "(train_data, train_targets), (test_data, test_targets) = boston_housing.load_data()"
   ]
  },
  {
   "cell_type": "code",
   "execution_count": 62,
   "metadata": {},
   "outputs": [
    {
     "name": "stdout",
     "output_type": "stream",
     "text": [
      "(404, 13)\n",
      "(404,)\n",
      "(102, 13)\n",
      "(102,)\n"
     ]
    }
   ],
   "source": [
    "print(train_data.shape)\n",
    "print(train_targets.shape)\n",
    "print(test_data.shape)\n",
    "print(test_targets.shape)"
   ]
  },
  {
   "cell_type": "code",
   "execution_count": 63,
   "metadata": {},
   "outputs": [
    {
     "data": {
      "text/plain": [
       "array([  1.23247,   0.     ,   8.14   ,   0.     ,   0.538  ,   6.142  ,\n",
       "        91.7    ,   3.9769 ,   4.     , 307.     ,  21.     , 396.9    ,\n",
       "        18.72   ])"
      ]
     },
     "execution_count": 63,
     "metadata": {},
     "output_type": "execute_result"
    }
   ],
   "source": [
    "train_data[0]"
   ]
  },
  {
   "cell_type": "markdown",
   "metadata": {},
   "source": [
    "### (2) 데이터 scailing"
   ]
  },
  {
   "cell_type": "code",
   "execution_count": 64,
   "metadata": {},
   "outputs": [],
   "source": [
    "mean = train_data.mean(axis=0)\n",
    "train_data -= mean\n",
    "std = train_data.std(axis=0)\n",
    "train_data /= std\n",
    "\n",
    "test_data -= mean\n",
    "test_data /= std"
   ]
  },
  {
   "cell_type": "code",
   "execution_count": 65,
   "metadata": {},
   "outputs": [
    {
     "data": {
      "text/plain": [
       "array([-0.27224633, -0.48361547, -0.43576161, -0.25683275, -0.1652266 ,\n",
       "       -0.1764426 ,  0.81306188,  0.1166983 , -0.62624905, -0.59517003,\n",
       "        1.14850044,  0.44807713,  0.8252202 ])"
      ]
     },
     "execution_count": 65,
     "metadata": {},
     "output_type": "execute_result"
    }
   ],
   "source": [
    "train_data[0]"
   ]
  },
  {
   "cell_type": "code",
   "execution_count": 66,
   "metadata": {},
   "outputs": [],
   "source": [
    "partial_train_x, val_x, partial_train_y, val_y = \\\n",
    "    train_test_split(train_data, train_targets, test_size=0.2, random_state=42)"
   ]
  },
  {
   "cell_type": "markdown",
   "metadata": {},
   "source": [
    "### (3) Dropout을 적용하여 모델 학습"
   ]
  },
  {
   "cell_type": "code",
   "execution_count": 68,
   "metadata": {},
   "outputs": [],
   "source": [
    "do_model = models.Sequential()\n",
    "do_model.add(layers.Dense(64, activation='relu', input_shape=(train_data.shape[1], )))\n",
    "do_model.add(layers.Dropout(0.5))\n",
    "do_model.add(layers.Dense(64, activation='relu'))\n",
    "do_model.add(layers.Dropout(0.5))\n",
    "do_model.add(layers.Dense(1)) # 이대로 회귀"
   ]
  },
  {
   "cell_type": "code",
   "execution_count": 69,
   "metadata": {},
   "outputs": [],
   "source": [
    "do_model.compile(optimizer='adam', loss='mse', metrics=['mae']) # adam은 학습률을 자율조정"
   ]
  },
  {
   "cell_type": "code",
   "execution_count": 70,
   "metadata": {},
   "outputs": [
    {
     "name": "stdout",
     "output_type": "stream",
     "text": [
      "Train on 323 samples, validate on 81 samples\n",
      "Epoch 1/15\n",
      "323/323 [==============================] - 1s 2ms/step - loss: 611.7598 - mean_absolute_error: 22.7529 - val_loss: 459.0616 - val_mean_absolute_error: 20.1496\n",
      "Epoch 2/15\n",
      "323/323 [==============================] - 0s 43us/step - loss: 585.1247 - mean_absolute_error: 22.1624 - val_loss: 441.9549 - val_mean_absolute_error: 19.6976\n",
      "Epoch 3/15\n",
      "323/323 [==============================] - 0s 40us/step - loss: 567.7235 - mean_absolute_error: 21.7415 - val_loss: 423.8988 - val_mean_absolute_error: 19.2085\n",
      "Epoch 4/15\n",
      "323/323 [==============================] - 0s 40us/step - loss: 546.9295 - mean_absolute_error: 21.2515 - val_loss: 404.4760 - val_mean_absolute_error: 18.6699\n",
      "Epoch 5/15\n",
      "323/323 [==============================] - 0s 40us/step - loss: 525.4081 - mean_absolute_error: 20.7161 - val_loss: 383.3104 - val_mean_absolute_error: 18.0660\n",
      "Epoch 6/15\n",
      "323/323 [==============================] - 0s 40us/step - loss: 497.1763 - mean_absolute_error: 20.0544 - val_loss: 360.0899 - val_mean_absolute_error: 17.3946\n",
      "Epoch 7/15\n",
      "323/323 [==============================] - 0s 59us/step - loss: 471.3556 - mean_absolute_error: 19.3685 - val_loss: 334.4712 - val_mean_absolute_error: 16.7077\n",
      "Epoch 8/15\n",
      "323/323 [==============================] - 0s 59us/step - loss: 433.7516 - mean_absolute_error: 18.4620 - val_loss: 306.0494 - val_mean_absolute_error: 15.9149\n",
      "Epoch 9/15\n",
      "323/323 [==============================] - 0s 43us/step - loss: 398.4600 - mean_absolute_error: 17.4994 - val_loss: 275.1558 - val_mean_absolute_error: 15.0010\n",
      "Epoch 10/15\n",
      "323/323 [==============================] - 0s 43us/step - loss: 361.1050 - mean_absolute_error: 16.4946 - val_loss: 242.0526 - val_mean_absolute_error: 13.9749\n",
      "Epoch 11/15\n",
      "323/323 [==============================] - 0s 40us/step - loss: 323.7993 - mean_absolute_error: 15.4084 - val_loss: 207.3464 - val_mean_absolute_error: 12.8042\n",
      "Epoch 12/15\n",
      "323/323 [==============================] - 0s 56us/step - loss: 280.2688 - mean_absolute_error: 14.1805 - val_loss: 172.9965 - val_mean_absolute_error: 11.5280\n",
      "Epoch 13/15\n",
      "323/323 [==============================] - 0s 62us/step - loss: 223.7249 - mean_absolute_error: 12.6323 - val_loss: 141.5618 - val_mean_absolute_error: 10.2890\n",
      "Epoch 14/15\n",
      "323/323 [==============================] - 0s 43us/step - loss: 198.6808 - mean_absolute_error: 11.4502 - val_loss: 113.1409 - val_mean_absolute_error: 9.0716\n",
      "Epoch 15/15\n",
      "323/323 [==============================] - 0s 40us/step - loss: 156.0537 - mean_absolute_error: 9.9523 - val_loss: 90.2811 - val_mean_absolute_error: 7.9860\n"
     ]
    }
   ],
   "source": [
    "do_history = do_model.fit(\n",
    "    partial_train_x, partial_train_y, epochs=15, batch_size=64, validation_data=[val_x, val_y])"
   ]
  },
  {
   "cell_type": "code",
   "execution_count": 62,
   "metadata": {},
   "outputs": [
    {
     "data": {
      "text/plain": [
       "<matplotlib.legend.Legend at 0xb340c8390>"
      ]
     },
     "execution_count": 62,
     "metadata": {},
     "output_type": "execute_result"
    },
    {
     "data": {
      "image/png": "[encoded data removed]",
      "text/plain": [
       "<Figure size 432x288 with 1 Axes>"
      ]
     },
     "metadata": {},
     "output_type": "display_data"
    }
   ],
   "source": [
    "do_history_dict = do_history.history\n",
    "do_loss = do_history_dict['loss']\n",
    "do_val_loss = do_history_dict['val_loss']\n",
    "\n",
    "epochs = range(1, len(do_loss) + 1)\n",
    "\n",
    "plt.plot(epochs, do_loss, 'b-o', label='Dropout Training loss')\n",
    "plt.plot(epochs, do_val_loss, 'r-o', label='Dropout Validation loss')\n",
    "plt.title('Dropout Training and validation loss')\n",
    "plt.xlabel('Epochs')\n",
    "plt.ylabel('Loss')\n",
    "plt.legend()"
   ]
  },
  {
   "cell_type": "code",
   "execution_count": 63,
   "metadata": {},
   "outputs": [
    {
     "data": {
      "text/plain": [
       "<matplotlib.legend.Legend at 0xb392622b0>"
      ]
     },
     "execution_count": 63,
     "metadata": {},
     "output_type": "execute_result"
    },
    {
     "data": {
      "image/png": "[encoded data removed]",
      "text/plain": [
       "<Figure size 432x288 with 1 Axes>"
      ]
     },
     "metadata": {},
     "output_type": "display_data"
    }
   ],
   "source": [
    "do_history_dict = do_history.history\n",
    "do_mae = do_history_dict['mean_absolute_error']\n",
    "do_val_mae = do_history_dict['val_mean_absolute_error']\n",
    "\n",
    "epochs = range(1, len(do_mae) + 1)\n",
    "\n",
    "plt.plot(epochs, do_mae, 'b-o', label='Dropout Training mae')\n",
    "plt.plot(epochs, do_val_mae, 'r-o', label='Dropout Validation mae')\n",
    "plt.title('Dropout Training and validation mae')\n",
    "plt.xlabel('Epochs')\n",
    "plt.ylabel('mae')\n",
    "plt.legend()"
   ]
  },
  {
   "cell_type": "markdown",
   "metadata": {},
   "source": [
    "### (4) L2 규제화를 적용하여 학습"
   ]
  },
  {
   "cell_type": "code",
   "execution_count": 64,
   "metadata": {},
   "outputs": [],
   "source": [
    "l2_model = models.Sequential()\n",
    "l2_model.add(layers.Dense(64, \n",
    "                          activation='relu', \n",
    "                          input_shape=(train_data.shape[1], ), \n",
    "                          kernel_regularizer=regularizers.l2()))\n",
    "l2_model.add(layers.Dense(64, \n",
    "                          activation='relu',\n",
    "                          kernel_regularizer=regularizers.l2()))\n",
    "l2_model.add(layers.Dense(1))"
   ]
  },
  {
   "cell_type": "code",
   "execution_count": 65,
   "metadata": {},
   "outputs": [],
   "source": [
    "l2_model.compile(optimizer='adam', loss='mse', metrics=['mae'])"
   ]
  },
  {
   "cell_type": "code",
   "execution_count": 66,
   "metadata": {},
   "outputs": [
    {
     "name": "stdout",
     "output_type": "stream",
     "text": [
      "Train on 323 samples, validate on 81 samples\n",
      "Epoch 1/15\n",
      "323/323 [==============================] - 0s 1ms/step - loss: 601.3030 - mean_absolute_error: 22.5638 - val_loss: 447.8407 - val_mean_absolute_error: 19.8846\n",
      "Epoch 2/15\n",
      "323/323 [==============================] - 0s 39us/step - loss: 577.5930 - mean_absolute_error: 22.0327 - val_loss: 427.5497 - val_mean_absolute_error: 19.3763\n",
      "Epoch 3/15\n",
      "323/323 [==============================] - 0s 36us/step - loss: 552.5320 - mean_absolute_error: 21.4724 - val_loss: 405.5666 - val_mean_absolute_error: 18.8199\n",
      "Epoch 4/15\n",
      "323/323 [==============================] - 0s 53us/step - loss: 524.9810 - mean_absolute_error: 20.8493 - val_loss: 380.7875 - val_mean_absolute_error: 18.1822\n",
      "Epoch 5/15\n",
      "323/323 [==============================] - 0s 48us/step - loss: 492.0087 - mean_absolute_error: 20.1036 - val_loss: 352.8376 - val_mean_absolute_error: 17.4417\n",
      "Epoch 6/15\n",
      "323/323 [==============================] - 0s 53us/step - loss: 455.0300 - mean_absolute_error: 19.2255 - val_loss: 321.1123 - val_mean_absolute_error: 16.5716\n",
      "Epoch 7/15\n",
      "323/323 [==============================] - 0s 50us/step - loss: 412.4494 - mean_absolute_error: 18.1858 - val_loss: 285.9044 - val_mean_absolute_error: 15.5635\n",
      "Epoch 8/15\n",
      "323/323 [==============================] - 0s 55us/step - loss: 365.3852 - mean_absolute_error: 16.9691 - val_loss: 247.3850 - val_mean_absolute_error: 14.3844\n",
      "Epoch 9/15\n",
      "323/323 [==============================] - 0s 50us/step - loss: 312.2033 - mean_absolute_error: 15.5151 - val_loss: 207.5302 - val_mean_absolute_error: 13.0372\n",
      "Epoch 10/15\n",
      "323/323 [==============================] - 0s 70us/step - loss: 259.0007 - mean_absolute_error: 13.8928 - val_loss: 167.2648 - val_mean_absolute_error: 11.4934\n",
      "Epoch 11/15\n",
      "323/323 [==============================] - 0s 38us/step - loss: 206.6567 - mean_absolute_error: 12.0501 - val_loss: 128.6479 - val_mean_absolute_error: 9.8957\n",
      "Epoch 12/15\n",
      "323/323 [==============================] - 0s 50us/step - loss: 158.4191 - mean_absolute_error: 10.1349 - val_loss: 96.4848 - val_mean_absolute_error: 8.3859\n",
      "Epoch 13/15\n",
      "323/323 [==============================] - 0s 36us/step - loss: 118.7918 - mean_absolute_error: 8.3438 - val_loss: 71.5792 - val_mean_absolute_error: 7.0183\n",
      "Epoch 14/15\n",
      "323/323 [==============================] - 0s 46us/step - loss: 91.8106 - mean_absolute_error: 7.1438 - val_loss: 55.7590 - val_mean_absolute_error: 6.0939\n",
      "Epoch 15/15\n",
      "323/323 [==============================] - 0s 39us/step - loss: 75.7886 - mean_absolute_error: 6.4223 - val_loss: 45.2276 - val_mean_absolute_error: 5.4943\n"
     ]
    }
   ],
   "source": [
    "l2_history = l2_model.fit(\n",
    "    partial_train_x, partial_train_y, epochs=15, batch_size=64, validation_data=[val_x, val_y])"
   ]
  },
  {
   "cell_type": "code",
   "execution_count": 67,
   "metadata": {},
   "outputs": [
    {
     "data": {
      "text/plain": [
       "<matplotlib.legend.Legend at 0xb38005ac8>"
      ]
     },
     "execution_count": 67,
     "metadata": {},
     "output_type": "execute_result"
    },
    {
     "data": {
      "image/png": "[encoded data removed]",
      "text/plain": [
       "<Figure size 432x288 with 1 Axes>"
      ]
     },
     "metadata": {},
     "output_type": "display_data"
    }
   ],
   "source": [
    "l2_history_dict = l2_history.history\n",
    "l2_loss = l2_history_dict['loss']\n",
    "l2_val_loss = l2_history_dict['val_loss']\n",
    "\n",
    "epochs = range(1, len(l2_loss) + 1)\n",
    "\n",
    "plt.plot(epochs, do_loss, 'b-o', label='L2 Training loss')\n",
    "plt.plot(epochs, do_val_loss, 'r-o', label='L2 Validation loss')\n",
    "plt.title('L2 Training and validation loss')\n",
    "plt.xlabel('Epochs')\n",
    "plt.ylabel('Loss')\n",
    "plt.legend()"
   ]
  },
  {
   "cell_type": "code",
   "execution_count": 68,
   "metadata": {},
   "outputs": [
    {
     "data": {
      "text/plain": [
       "<matplotlib.legend.Legend at 0xb37e139e8>"
      ]
     },
     "execution_count": 68,
     "metadata": {},
     "output_type": "execute_result"
    },
    {
     "data": {
      "image/png": "[encoded data removed]",
      "text/plain": [
       "<Figure size 432x288 with 1 Axes>"
      ]
     },
     "metadata": {},
     "output_type": "display_data"
    }
   ],
   "source": [
    "l2_history_dict = l2_history.history\n",
    "l2_mae = l2_history_dict['mean_absolute_error']\n",
    "l2_val_mae = l2_history_dict['val_mean_absolute_error']\n",
    "\n",
    "epochs = range(1, len(l2_mae) + 1)\n",
    "\n",
    "plt.plot(epochs, l2_mae, 'b-o', label='L2 Training mae')\n",
    "plt.plot(epochs, l2_val_mae, 'r-o', label='L2 Validation mae')\n",
    "plt.title('Dropout Training and validation mae')\n",
    "plt.xlabel('Epochs')\n",
    "plt.ylabel('mae')\n",
    "plt.legend()"
   ]
  },
  {
   "cell_type": "markdown",
   "metadata": {},
   "source": [
    "### (5) Prediction"
   ]
  },
  {
   "cell_type": "markdown",
   "metadata": {},
   "source": [
    "> Dropout을 이용한 모델의 최종 성능"
   ]
  },
  {
   "cell_type": "code",
   "execution_count": 69,
   "metadata": {},
   "outputs": [
    {
     "name": "stdout",
     "output_type": "stream",
     "text": [
      "102/102 [==============================] - 0s 55us/step\n"
     ]
    },
    {
     "data": {
      "text/plain": [
       "11.577999152389227"
      ]
     },
     "execution_count": 69,
     "metadata": {},
     "output_type": "execute_result"
    }
   ],
   "source": [
    "_, acc = do_model.evaluate(test_data, test_targets)\n",
    "acc"
   ]
  },
  {
   "cell_type": "markdown",
   "metadata": {},
   "source": [
    "> L2 규제화를 사용한 모델의 최종 성능"
   ]
  },
  {
   "cell_type": "code",
   "execution_count": 70,
   "metadata": {},
   "outputs": [
    {
     "name": "stdout",
     "output_type": "stream",
     "text": [
      "102/102 [==============================] - 0s 55us/step\n"
     ]
    },
    {
     "data": {
      "text/plain": [
       "6.579368797003054"
      ]
     },
     "execution_count": 70,
     "metadata": {},
     "output_type": "execute_result"
    }
   ],
   "source": [
    "_, acc = l2_model.evaluate(test_data, test_targets)\n",
    "acc"
   ]
  }
 ],
 "metadata": {
  "kernelspec": {
   "display_name": "Python 3",
   "language": "python",
   "name": "python3"
  },
  "language_info": {
   "codemirror_mode": {
    "name": "ipython",
    "version": 3
   },
   "file_extension": ".py",
   "mimetype": "text/x-python",
   "name": "python",
   "nbconvert_exporter": "python",
   "pygments_lexer": "ipython3",
   "version": "3.7.0"
  }
 },
 "nbformat": 4,
 "nbformat_minor": 2
}
