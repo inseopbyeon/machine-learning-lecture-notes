{
 "cells": [
  {
   "cell_type": "markdown",
   "metadata": {},
   "source": [
    "# Logistic Regression"
   ]
  },
  {
   "cell_type": "code",
   "execution_count": 1,
   "metadata": {},
   "outputs": [],
   "source": [
    "import pandas as pd\n",
    "import numpy as np\n",
    "\n",
    "pd.options.display.max_columns=None\n",
    "pd.options.display.max_rows=None"
   ]
  },
  {
   "cell_type": "markdown",
   "metadata": {},
   "source": [
    "## 알고 가야 할 것 들\n",
    "\n",
    "### 1. Evidence of Weight\n",
    "### 2. Information Value\n",
    "### 3. VIF\n",
    "### 4. C 통계량\n",
    "### 5. AIC\n",
    "### 6. ROC, AUC"
   ]
  },
  {
   "cell_type": "markdown",
   "metadata": {},
   "source": [
    "## 데이터 셋을 로딩합니다."
   ]
  },
  {
   "cell_type": "code",
   "execution_count": 2,
   "metadata": {},
   "outputs": [],
   "source": [
    "path = 'https://archive.ics.uci.edu/ml/machine-learning-databases/statlog/german/german.data'\n",
    "dataset = pd.read_csv(path, delimiter=' ', header=None)"
   ]
  },
  {
   "cell_type": "code",
   "execution_count": 3,
   "metadata": {},
   "outputs": [
    {
     "data": {
      "text/plain": [
       "(1000, 21)"
      ]
     },
     "execution_count": 3,
     "metadata": {},
     "output_type": "execute_result"
    }
   ],
   "source": [
    "dataset.shape"
   ]
  },
  {
   "cell_type": "code",
   "execution_count": 4,
   "metadata": {},
   "outputs": [
    {
     "data": {
      "text/html": [
       "<div>\n",
       "<style scoped>\n",
       "    .dataframe tbody tr th:only-of-type {\n",
       "        vertical-align: middle;\n",
       "    }\n",
       "\n",
       "    .dataframe tbody tr th {\n",
       "        vertical-align: top;\n",
       "    }\n",
       "\n",
       "    .dataframe thead th {\n",
       "        text-align: right;\n",
       "    }\n",
       "</style>\n",
       "<table border=\"1\" class=\"dataframe\">\n",
       "  <thead>\n",
       "    <tr style=\"text-align: right;\">\n",
       "      <th></th>\n",
       "      <th>0</th>\n",
       "      <th>1</th>\n",
       "      <th>2</th>\n",
       "      <th>3</th>\n",
       "      <th>4</th>\n",
       "      <th>5</th>\n",
       "      <th>6</th>\n",
       "      <th>7</th>\n",
       "      <th>8</th>\n",
       "      <th>9</th>\n",
       "      <th>10</th>\n",
       "      <th>11</th>\n",
       "      <th>12</th>\n",
       "      <th>13</th>\n",
       "      <th>14</th>\n",
       "      <th>15</th>\n",
       "      <th>16</th>\n",
       "      <th>17</th>\n",
       "      <th>18</th>\n",
       "      <th>19</th>\n",
       "      <th>20</th>\n",
       "    </tr>\n",
       "  </thead>\n",
       "  <tbody>\n",
       "    <tr>\n",
       "      <th>0</th>\n",
       "      <td>A11</td>\n",
       "      <td>6</td>\n",
       "      <td>A34</td>\n",
       "      <td>A43</td>\n",
       "      <td>1169</td>\n",
       "      <td>A65</td>\n",
       "      <td>A75</td>\n",
       "      <td>4</td>\n",
       "      <td>A93</td>\n",
       "      <td>A101</td>\n",
       "      <td>4</td>\n",
       "      <td>A121</td>\n",
       "      <td>67</td>\n",
       "      <td>A143</td>\n",
       "      <td>A152</td>\n",
       "      <td>2</td>\n",
       "      <td>A173</td>\n",
       "      <td>1</td>\n",
       "      <td>A192</td>\n",
       "      <td>A201</td>\n",
       "      <td>1</td>\n",
       "    </tr>\n",
       "    <tr>\n",
       "      <th>1</th>\n",
       "      <td>A12</td>\n",
       "      <td>48</td>\n",
       "      <td>A32</td>\n",
       "      <td>A43</td>\n",
       "      <td>5951</td>\n",
       "      <td>A61</td>\n",
       "      <td>A73</td>\n",
       "      <td>2</td>\n",
       "      <td>A92</td>\n",
       "      <td>A101</td>\n",
       "      <td>2</td>\n",
       "      <td>A121</td>\n",
       "      <td>22</td>\n",
       "      <td>A143</td>\n",
       "      <td>A152</td>\n",
       "      <td>1</td>\n",
       "      <td>A173</td>\n",
       "      <td>1</td>\n",
       "      <td>A191</td>\n",
       "      <td>A201</td>\n",
       "      <td>2</td>\n",
       "    </tr>\n",
       "    <tr>\n",
       "      <th>2</th>\n",
       "      <td>A14</td>\n",
       "      <td>12</td>\n",
       "      <td>A34</td>\n",
       "      <td>A46</td>\n",
       "      <td>2096</td>\n",
       "      <td>A61</td>\n",
       "      <td>A74</td>\n",
       "      <td>2</td>\n",
       "      <td>A93</td>\n",
       "      <td>A101</td>\n",
       "      <td>3</td>\n",
       "      <td>A121</td>\n",
       "      <td>49</td>\n",
       "      <td>A143</td>\n",
       "      <td>A152</td>\n",
       "      <td>1</td>\n",
       "      <td>A172</td>\n",
       "      <td>2</td>\n",
       "      <td>A191</td>\n",
       "      <td>A201</td>\n",
       "      <td>1</td>\n",
       "    </tr>\n",
       "    <tr>\n",
       "      <th>3</th>\n",
       "      <td>A11</td>\n",
       "      <td>42</td>\n",
       "      <td>A32</td>\n",
       "      <td>A42</td>\n",
       "      <td>7882</td>\n",
       "      <td>A61</td>\n",
       "      <td>A74</td>\n",
       "      <td>2</td>\n",
       "      <td>A93</td>\n",
       "      <td>A103</td>\n",
       "      <td>4</td>\n",
       "      <td>A122</td>\n",
       "      <td>45</td>\n",
       "      <td>A143</td>\n",
       "      <td>A153</td>\n",
       "      <td>1</td>\n",
       "      <td>A173</td>\n",
       "      <td>2</td>\n",
       "      <td>A191</td>\n",
       "      <td>A201</td>\n",
       "      <td>1</td>\n",
       "    </tr>\n",
       "    <tr>\n",
       "      <th>4</th>\n",
       "      <td>A11</td>\n",
       "      <td>24</td>\n",
       "      <td>A33</td>\n",
       "      <td>A40</td>\n",
       "      <td>4870</td>\n",
       "      <td>A61</td>\n",
       "      <td>A73</td>\n",
       "      <td>3</td>\n",
       "      <td>A93</td>\n",
       "      <td>A101</td>\n",
       "      <td>4</td>\n",
       "      <td>A124</td>\n",
       "      <td>53</td>\n",
       "      <td>A143</td>\n",
       "      <td>A153</td>\n",
       "      <td>2</td>\n",
       "      <td>A173</td>\n",
       "      <td>2</td>\n",
       "      <td>A191</td>\n",
       "      <td>A201</td>\n",
       "      <td>2</td>\n",
       "    </tr>\n",
       "  </tbody>\n",
       "</table>\n",
       "</div>"
      ],
      "text/plain": [
       "    0   1    2    3     4    5    6   7    8     9   10    11  12    13    14  \\\n",
       "0  A11   6  A34  A43  1169  A65  A75   4  A93  A101   4  A121  67  A143  A152   \n",
       "1  A12  48  A32  A43  5951  A61  A73   2  A92  A101   2  A121  22  A143  A152   \n",
       "2  A14  12  A34  A46  2096  A61  A74   2  A93  A101   3  A121  49  A143  A152   \n",
       "3  A11  42  A32  A42  7882  A61  A74   2  A93  A103   4  A122  45  A143  A153   \n",
       "4  A11  24  A33  A40  4870  A61  A73   3  A93  A101   4  A124  53  A143  A153   \n",
       "\n",
       "   15    16  17    18    19  20  \n",
       "0   2  A173   1  A192  A201   1  \n",
       "1   1  A173   1  A191  A201   2  \n",
       "2   1  A172   2  A191  A201   1  \n",
       "3   1  A173   2  A191  A201   1  \n",
       "4   2  A173   2  A191  A201   2  "
      ]
     },
     "execution_count": 4,
     "metadata": {},
     "output_type": "execute_result"
    }
   ],
   "source": [
    "dataset.head()"
   ]
  },
  {
   "cell_type": "code",
   "execution_count": 5,
   "metadata": {},
   "outputs": [],
   "source": [
    "COL = [\n",
    "    'Status_of_existing_checking_account', \n",
    "    'Duration_in_month',\n",
    "    'Credit_history',\n",
    "    'Purpose', \n",
    "    'Credit_amount', \n",
    "    'Savings_account_bonds', \n",
    "    'Present_employment_since', \n",
    "    'Installment_rate_in_percentage_of_disposable_income',\n",
    "    'Personal_status_and_sex',\n",
    "    'Other_debtors_guarantors',\n",
    "    'Present_residence_since', \n",
    "    'Property', \n",
    "    'Age_in_years', \n",
    "    'Other_installment_plans', \n",
    "    'Housing',\n",
    "    'Number_of_existing_credits_at_this_bank',\n",
    "    'Job',\n",
    "    'Number_of_people_being_liable_to_provide_maintenance_for',\n",
    "    'Telephone',\n",
    "    'foreign_worker',\n",
    "    'Target'\n",
    "]"
   ]
  },
  {
   "cell_type": "code",
   "execution_count": 6,
   "metadata": {},
   "outputs": [],
   "source": [
    "dataset.columns = COL"
   ]
  },
  {
   "cell_type": "code",
   "execution_count": 7,
   "metadata": {},
   "outputs": [
    {
     "data": {
      "text/html": [
       "<div>\n",
       "<style scoped>\n",
       "    .dataframe tbody tr th:only-of-type {\n",
       "        vertical-align: middle;\n",
       "    }\n",
       "\n",
       "    .dataframe tbody tr th {\n",
       "        vertical-align: top;\n",
       "    }\n",
       "\n",
       "    .dataframe thead th {\n",
       "        text-align: right;\n",
       "    }\n",
       "</style>\n",
       "<table border=\"1\" class=\"dataframe\">\n",
       "  <thead>\n",
       "    <tr style=\"text-align: right;\">\n",
       "      <th></th>\n",
       "      <th>Status_of_existing_checking_account</th>\n",
       "      <th>Duration_in_month</th>\n",
       "      <th>Credit_history</th>\n",
       "      <th>Purpose</th>\n",
       "      <th>Credit_amount</th>\n",
       "      <th>Savings_account_bonds</th>\n",
       "      <th>Present_employment_since</th>\n",
       "      <th>Installment_rate_in_percentage_of_disposable_income</th>\n",
       "      <th>Personal_status_and_sex</th>\n",
       "      <th>Other_debtors_guarantors</th>\n",
       "      <th>Present_residence_since</th>\n",
       "      <th>Property</th>\n",
       "      <th>Age_in_years</th>\n",
       "      <th>Other_installment_plans</th>\n",
       "      <th>Housing</th>\n",
       "      <th>Number_of_existing_credits_at_this_bank</th>\n",
       "      <th>Job</th>\n",
       "      <th>Number_of_people_being_liable_to_provide_maintenance_for</th>\n",
       "      <th>Telephone</th>\n",
       "      <th>foreign_worker</th>\n",
       "      <th>Target</th>\n",
       "    </tr>\n",
       "  </thead>\n",
       "  <tbody>\n",
       "    <tr>\n",
       "      <th>0</th>\n",
       "      <td>A11</td>\n",
       "      <td>6</td>\n",
       "      <td>A34</td>\n",
       "      <td>A43</td>\n",
       "      <td>1169</td>\n",
       "      <td>A65</td>\n",
       "      <td>A75</td>\n",
       "      <td>4</td>\n",
       "      <td>A93</td>\n",
       "      <td>A101</td>\n",
       "      <td>4</td>\n",
       "      <td>A121</td>\n",
       "      <td>67</td>\n",
       "      <td>A143</td>\n",
       "      <td>A152</td>\n",
       "      <td>2</td>\n",
       "      <td>A173</td>\n",
       "      <td>1</td>\n",
       "      <td>A192</td>\n",
       "      <td>A201</td>\n",
       "      <td>1</td>\n",
       "    </tr>\n",
       "    <tr>\n",
       "      <th>1</th>\n",
       "      <td>A12</td>\n",
       "      <td>48</td>\n",
       "      <td>A32</td>\n",
       "      <td>A43</td>\n",
       "      <td>5951</td>\n",
       "      <td>A61</td>\n",
       "      <td>A73</td>\n",
       "      <td>2</td>\n",
       "      <td>A92</td>\n",
       "      <td>A101</td>\n",
       "      <td>2</td>\n",
       "      <td>A121</td>\n",
       "      <td>22</td>\n",
       "      <td>A143</td>\n",
       "      <td>A152</td>\n",
       "      <td>1</td>\n",
       "      <td>A173</td>\n",
       "      <td>1</td>\n",
       "      <td>A191</td>\n",
       "      <td>A201</td>\n",
       "      <td>2</td>\n",
       "    </tr>\n",
       "    <tr>\n",
       "      <th>2</th>\n",
       "      <td>A14</td>\n",
       "      <td>12</td>\n",
       "      <td>A34</td>\n",
       "      <td>A46</td>\n",
       "      <td>2096</td>\n",
       "      <td>A61</td>\n",
       "      <td>A74</td>\n",
       "      <td>2</td>\n",
       "      <td>A93</td>\n",
       "      <td>A101</td>\n",
       "      <td>3</td>\n",
       "      <td>A121</td>\n",
       "      <td>49</td>\n",
       "      <td>A143</td>\n",
       "      <td>A152</td>\n",
       "      <td>1</td>\n",
       "      <td>A172</td>\n",
       "      <td>2</td>\n",
       "      <td>A191</td>\n",
       "      <td>A201</td>\n",
       "      <td>1</td>\n",
       "    </tr>\n",
       "    <tr>\n",
       "      <th>3</th>\n",
       "      <td>A11</td>\n",
       "      <td>42</td>\n",
       "      <td>A32</td>\n",
       "      <td>A42</td>\n",
       "      <td>7882</td>\n",
       "      <td>A61</td>\n",
       "      <td>A74</td>\n",
       "      <td>2</td>\n",
       "      <td>A93</td>\n",
       "      <td>A103</td>\n",
       "      <td>4</td>\n",
       "      <td>A122</td>\n",
       "      <td>45</td>\n",
       "      <td>A143</td>\n",
       "      <td>A153</td>\n",
       "      <td>1</td>\n",
       "      <td>A173</td>\n",
       "      <td>2</td>\n",
       "      <td>A191</td>\n",
       "      <td>A201</td>\n",
       "      <td>1</td>\n",
       "    </tr>\n",
       "    <tr>\n",
       "      <th>4</th>\n",
       "      <td>A11</td>\n",
       "      <td>24</td>\n",
       "      <td>A33</td>\n",
       "      <td>A40</td>\n",
       "      <td>4870</td>\n",
       "      <td>A61</td>\n",
       "      <td>A73</td>\n",
       "      <td>3</td>\n",
       "      <td>A93</td>\n",
       "      <td>A101</td>\n",
       "      <td>4</td>\n",
       "      <td>A124</td>\n",
       "      <td>53</td>\n",
       "      <td>A143</td>\n",
       "      <td>A153</td>\n",
       "      <td>2</td>\n",
       "      <td>A173</td>\n",
       "      <td>2</td>\n",
       "      <td>A191</td>\n",
       "      <td>A201</td>\n",
       "      <td>2</td>\n",
       "    </tr>\n",
       "  </tbody>\n",
       "</table>\n",
       "</div>"
      ],
      "text/plain": [
       "  Status_of_existing_checking_account  Duration_in_month Credit_history  \\\n",
       "0                                 A11                  6            A34   \n",
       "1                                 A12                 48            A32   \n",
       "2                                 A14                 12            A34   \n",
       "3                                 A11                 42            A32   \n",
       "4                                 A11                 24            A33   \n",
       "\n",
       "  Purpose  Credit_amount Savings_account_bonds Present_employment_since  \\\n",
       "0     A43           1169                   A65                      A75   \n",
       "1     A43           5951                   A61                      A73   \n",
       "2     A46           2096                   A61                      A74   \n",
       "3     A42           7882                   A61                      A74   \n",
       "4     A40           4870                   A61                      A73   \n",
       "\n",
       "   Installment_rate_in_percentage_of_disposable_income  \\\n",
       "0                                                  4     \n",
       "1                                                  2     \n",
       "2                                                  2     \n",
       "3                                                  2     \n",
       "4                                                  3     \n",
       "\n",
       "  Personal_status_and_sex Other_debtors_guarantors  Present_residence_since  \\\n",
       "0                     A93                     A101                        4   \n",
       "1                     A92                     A101                        2   \n",
       "2                     A93                     A101                        3   \n",
       "3                     A93                     A103                        4   \n",
       "4                     A93                     A101                        4   \n",
       "\n",
       "  Property  Age_in_years Other_installment_plans Housing  \\\n",
       "0     A121            67                    A143    A152   \n",
       "1     A121            22                    A143    A152   \n",
       "2     A121            49                    A143    A152   \n",
       "3     A122            45                    A143    A153   \n",
       "4     A124            53                    A143    A153   \n",
       "\n",
       "   Number_of_existing_credits_at_this_bank   Job  \\\n",
       "0                                        2  A173   \n",
       "1                                        1  A173   \n",
       "2                                        1  A172   \n",
       "3                                        1  A173   \n",
       "4                                        2  A173   \n",
       "\n",
       "   Number_of_people_being_liable_to_provide_maintenance_for Telephone  \\\n",
       "0                                                  1             A192   \n",
       "1                                                  1             A191   \n",
       "2                                                  2             A191   \n",
       "3                                                  2             A191   \n",
       "4                                                  2             A191   \n",
       "\n",
       "  foreign_worker  Target  \n",
       "0           A201       1  \n",
       "1           A201       2  \n",
       "2           A201       1  \n",
       "3           A201       1  \n",
       "4           A201       2  "
      ]
     },
     "execution_count": 7,
     "metadata": {},
     "output_type": "execute_result"
    }
   ],
   "source": [
    "# 총 20개의 설명 변수와 1개의 종속 변수\n",
    "dataset.head()"
   ]
  },
  {
   "cell_type": "markdown",
   "metadata": {},
   "source": [
    "Label\n",
    " - 1 : Good (갚을 수 있다 / 신용도가 좋다) $\\to$ 0으로 변경\n",
    " - 2 : Bad (갚을 수 없다 / 신용도가 나쁘다) $\\to$ 1로 변경"
   ]
  },
  {
   "cell_type": "markdown",
   "metadata": {},
   "source": [
    "- Ham(0) / Spam(1)\n",
    "- 정상사람(0) / 암환자(1)\n",
    "- 이벤트가 발생하지 않음(0) / 이벤트가 발생함(1)\n",
    "- 귀무가설(0) / 대립가설(1)"
   ]
  },
  {
   "cell_type": "code",
   "execution_count": 8,
   "metadata": {},
   "outputs": [],
   "source": [
    "# Label을 1/2 -> 0/1로 변경\n",
    "dataset['Target'] = dataset['Target'] - 1"
   ]
  },
  {
   "cell_type": "markdown",
   "metadata": {},
   "source": [
    "## 1. Information Value (정보 가치)\n",
    "모델에서 변수의 사용유무를 판단하는 feature selection에서 유용한 방법입니다. 주로 모델을 학습하기전 첫 단계에서 변수들을 제거하는 데 사용합니다. 최종 모델에서는 대략 10개 내외의 변수를 사용하도록 합니다. IV와 WOE 신용채무능력이 가능한(good) 고객과 불가능한(bad) 고객을 예측하는 로지스틱 회귀 모델링과 밀접한 관계가 있습니다. 신용 정보 관련분야에서는 good customer는 부채를 갚을 수 있는 고객, bad customer는 부채를 갚을 수 없는 고객을 뜻합니다. 일반적으로 이야기할 때는 good customer는 non-events를 의미하고 bad customer는 events를 의미합니다.\n",
    "\n",
    "> 신용 관련 분야\n",
    "\n",
    "$\n",
    "\\begin{align}\n",
    "&\\text{WOE} = ln{\\frac{\\text{distribution of good}}{\\text{distribution of bad}}} \\\\\n",
    "&\\text{IV} = \\sum{(\\text{WOE} \\times (\\text{distribution of good} - \\text{distribution of bad}))}\\\\\n",
    "\\end{align}\n",
    "$\n",
    "\n",
    ">일반적\n",
    "\n",
    "$\n",
    "\\begin{align}\n",
    "&\\text{WOE} = ln{\\frac{\\text{distribution of non-events}}{\\text{distribution of events}}} \\\\\n",
    "&\\text{IV} = \\sum{(\\text{WOE} \\times (\\text{distribution of non-events} - \\text{distribution of events}))}\\\\\n",
    "\\end{align}\n",
    "$\n",
    "\n",
    "\n",
    "- 구간을 나눌 때, `pd.qcut`을 사용하였습니다. bin의 갯수만큼 값의 구간을 나누고 값을 해당 구간에 mapping 시켜줍니다.\n",
    "- Information value를 측정할 때, EOW가 inf, -inf가 나올 수 있습니다. 분포값이 0이 될 수 있기 때문입니다. 이 때는 EOW를 0으로 변경합니다.\n",
    "\n",
    "\n",
    "|<center>Information Value</center>|<center>예측력</center>|\n",
    "|:-----------:|:------------------------------:|\n",
    "|<center>0 to 0.02</center>|<center>무의미</center>|\n",
    "|<center>0.02 to 0.1</center>|<center>낮은 예측</center>|\n",
    "|<center>0.1 to 0.3</center>|<center>중간 예측</center>|\n",
    "|<center>0.3 to 0.5</center>|<center>강한 예측</center>|\n",
    "|<center>0.5 to 1</center>|<center>너무 강한 예측(의심되는 수치)</center>|"
   ]
  },
  {
   "cell_type": "markdown",
   "metadata": {},
   "source": [
    "예제)\n",
    "\n",
    "<img src=\"./images/information_value.png\" style=\"height:400px width:400px\">"
   ]
  },
  {
   "cell_type": "code",
   "execution_count": 9,
   "metadata": {},
   "outputs": [],
   "source": [
    "max_bin = 10  # 전체 데이터의 예측력에 해를 가하지 않는 한에서 구간을 테스트하였습니다.\n",
    "def calc_iv(df, col, label, max_bin = max_bin):\n",
    "    \"\"\"IV helper function\"\"\"\n",
    "    bin_df = df[[col, label]].copy()\n",
    "    # Categorical column\n",
    "    if bin_df[col].dtype == 'object':\n",
    "        bin_df = bin_df.groupby(col)[label].agg(['count', 'sum'])\n",
    "    # Numerical column\n",
    "    else:\n",
    "        bin_df.loc[:, 'bins'] = pd.qcut(bin_df[col].rank(method='first'), max_bin)\n",
    "#         bin_df.loc[:, 'bins'] = pd.cut(bin_df[col], max_bin)\n",
    "        bin_df = bin_df.groupby('bins')[label].agg(['count', 'sum'])\n",
    "    \n",
    "    bin_df.columns = ['total', 'abuse']\n",
    "    bin_df['normal'] = bin_df['total'] - bin_df['abuse']\n",
    "    bin_df['normal_dist'] = bin_df['normal'] / sum(bin_df['normal'])\n",
    "    bin_df['abuse_dist'] = bin_df['abuse'] / sum(bin_df['abuse'])\n",
    "    bin_df['woe'] = np.log(bin_df['normal_dist'] / bin_df['abuse_dist'])\n",
    "    bin_df['iv'] = bin_df['woe'] * (bin_df['normal_dist'] - bin_df['abuse_dist'])\n",
    "    \n",
    "    bin_df.replace([np.inf, -np.inf], 0, inplace=True)\n",
    "    bin_df = bin_df[bin_df['total'] > 0]\n",
    "    iv_val = sum(filter(lambda x: x != float('inf'), bin_df['iv']))\n",
    "    \n",
    "    return bin_df, col, iv_val"
   ]
  },
  {
   "cell_type": "code",
   "execution_count": 10,
   "metadata": {},
   "outputs": [
    {
     "data": {
      "text/html": [
       "<div>\n",
       "<style scoped>\n",
       "    .dataframe tbody tr th:only-of-type {\n",
       "        vertical-align: middle;\n",
       "    }\n",
       "\n",
       "    .dataframe tbody tr th {\n",
       "        vertical-align: top;\n",
       "    }\n",
       "\n",
       "    .dataframe thead th {\n",
       "        text-align: right;\n",
       "    }\n",
       "</style>\n",
       "<table border=\"1\" class=\"dataframe\">\n",
       "  <thead>\n",
       "    <tr style=\"text-align: right;\">\n",
       "      <th></th>\n",
       "      <th>total</th>\n",
       "      <th>abuse</th>\n",
       "      <th>normal</th>\n",
       "      <th>normal_dist</th>\n",
       "      <th>abuse_dist</th>\n",
       "      <th>woe</th>\n",
       "      <th>iv</th>\n",
       "    </tr>\n",
       "    <tr>\n",
       "      <th>Credit_history</th>\n",
       "      <th></th>\n",
       "      <th></th>\n",
       "      <th></th>\n",
       "      <th></th>\n",
       "      <th></th>\n",
       "      <th></th>\n",
       "      <th></th>\n",
       "    </tr>\n",
       "  </thead>\n",
       "  <tbody>\n",
       "    <tr>\n",
       "      <th>A30</th>\n",
       "      <td>40</td>\n",
       "      <td>25</td>\n",
       "      <td>15</td>\n",
       "      <td>0.021429</td>\n",
       "      <td>0.083333</td>\n",
       "      <td>-1.358123</td>\n",
       "      <td>0.084074</td>\n",
       "    </tr>\n",
       "    <tr>\n",
       "      <th>A31</th>\n",
       "      <td>49</td>\n",
       "      <td>28</td>\n",
       "      <td>21</td>\n",
       "      <td>0.030000</td>\n",
       "      <td>0.093333</td>\n",
       "      <td>-1.134980</td>\n",
       "      <td>0.071882</td>\n",
       "    </tr>\n",
       "    <tr>\n",
       "      <th>A32</th>\n",
       "      <td>530</td>\n",
       "      <td>169</td>\n",
       "      <td>361</td>\n",
       "      <td>0.515714</td>\n",
       "      <td>0.563333</td>\n",
       "      <td>-0.088319</td>\n",
       "      <td>0.004206</td>\n",
       "    </tr>\n",
       "    <tr>\n",
       "      <th>A33</th>\n",
       "      <td>88</td>\n",
       "      <td>28</td>\n",
       "      <td>60</td>\n",
       "      <td>0.085714</td>\n",
       "      <td>0.093333</td>\n",
       "      <td>-0.085158</td>\n",
       "      <td>0.000649</td>\n",
       "    </tr>\n",
       "    <tr>\n",
       "      <th>A34</th>\n",
       "      <td>293</td>\n",
       "      <td>50</td>\n",
       "      <td>243</td>\n",
       "      <td>0.347143</td>\n",
       "      <td>0.166667</td>\n",
       "      <td>0.733741</td>\n",
       "      <td>0.132423</td>\n",
       "    </tr>\n",
       "  </tbody>\n",
       "</table>\n",
       "</div>"
      ],
      "text/plain": [
       "                total  abuse  normal  normal_dist  abuse_dist       woe  \\\n",
       "Credit_history                                                            \n",
       "A30                40     25      15     0.021429    0.083333 -1.358123   \n",
       "A31                49     28      21     0.030000    0.093333 -1.134980   \n",
       "A32               530    169     361     0.515714    0.563333 -0.088319   \n",
       "A33                88     28      60     0.085714    0.093333 -0.085158   \n",
       "A34               293     50     243     0.347143    0.166667  0.733741   \n",
       "\n",
       "                      iv  \n",
       "Credit_history            \n",
       "A30             0.084074  \n",
       "A31             0.071882  \n",
       "A32             0.004206  \n",
       "A33             0.000649  \n",
       "A34             0.132423  "
      ]
     },
     "execution_count": 10,
     "metadata": {},
     "output_type": "execute_result"
    }
   ],
   "source": [
    "ch_df, ch, ch_i_val = calc_iv(dataset,'Credit_history', 'Target')\n",
    "ch_df"
   ]
  },
  {
   "cell_type": "code",
   "execution_count": 11,
   "metadata": {},
   "outputs": [
    {
     "name": "stdout",
     "output_type": "stream",
     "text": [
      "information value 0.2932335473908263\n"
     ]
    }
   ],
   "source": [
    "# 중간 정도의 예측 능력\n",
    "print('information value', ch_i_val)"
   ]
  },
  {
   "cell_type": "code",
   "execution_count": 12,
   "metadata": {},
   "outputs": [
    {
     "data": {
      "text/html": [
       "<div>\n",
       "<style scoped>\n",
       "    .dataframe tbody tr th:only-of-type {\n",
       "        vertical-align: middle;\n",
       "    }\n",
       "\n",
       "    .dataframe tbody tr th {\n",
       "        vertical-align: top;\n",
       "    }\n",
       "\n",
       "    .dataframe thead th {\n",
       "        text-align: right;\n",
       "    }\n",
       "</style>\n",
       "<table border=\"1\" class=\"dataframe\">\n",
       "  <thead>\n",
       "    <tr style=\"text-align: right;\">\n",
       "      <th></th>\n",
       "      <th>total</th>\n",
       "      <th>abuse</th>\n",
       "      <th>normal</th>\n",
       "      <th>normal_dist</th>\n",
       "      <th>abuse_dist</th>\n",
       "      <th>woe</th>\n",
       "      <th>iv</th>\n",
       "    </tr>\n",
       "    <tr>\n",
       "      <th>bins</th>\n",
       "      <th></th>\n",
       "      <th></th>\n",
       "      <th></th>\n",
       "      <th></th>\n",
       "      <th></th>\n",
       "      <th></th>\n",
       "      <th></th>\n",
       "    </tr>\n",
       "  </thead>\n",
       "  <tbody>\n",
       "    <tr>\n",
       "      <th>(0.999, 100.9]</th>\n",
       "      <td>100</td>\n",
       "      <td>11</td>\n",
       "      <td>89</td>\n",
       "      <td>0.127143</td>\n",
       "      <td>0.036667</td>\n",
       "      <td>1.243443</td>\n",
       "      <td>0.112502</td>\n",
       "    </tr>\n",
       "    <tr>\n",
       "      <th>(100.9, 200.8]</th>\n",
       "      <td>100</td>\n",
       "      <td>20</td>\n",
       "      <td>80</td>\n",
       "      <td>0.114286</td>\n",
       "      <td>0.066667</td>\n",
       "      <td>0.538997</td>\n",
       "      <td>0.025667</td>\n",
       "    </tr>\n",
       "    <tr>\n",
       "      <th>(200.8, 300.7]</th>\n",
       "      <td>100</td>\n",
       "      <td>27</td>\n",
       "      <td>73</td>\n",
       "      <td>0.104286</td>\n",
       "      <td>0.090000</td>\n",
       "      <td>0.147325</td>\n",
       "      <td>0.002105</td>\n",
       "    </tr>\n",
       "    <tr>\n",
       "      <th>(300.7, 400.6]</th>\n",
       "      <td>100</td>\n",
       "      <td>25</td>\n",
       "      <td>75</td>\n",
       "      <td>0.107143</td>\n",
       "      <td>0.083333</td>\n",
       "      <td>0.251314</td>\n",
       "      <td>0.005984</td>\n",
       "    </tr>\n",
       "    <tr>\n",
       "      <th>(400.6, 500.5]</th>\n",
       "      <td>100</td>\n",
       "      <td>26</td>\n",
       "      <td>74</td>\n",
       "      <td>0.105714</td>\n",
       "      <td>0.086667</td>\n",
       "      <td>0.198671</td>\n",
       "      <td>0.003784</td>\n",
       "    </tr>\n",
       "    <tr>\n",
       "      <th>(500.5, 600.4]</th>\n",
       "      <td>100</td>\n",
       "      <td>38</td>\n",
       "      <td>62</td>\n",
       "      <td>0.088571</td>\n",
       "      <td>0.126667</td>\n",
       "      <td>-0.357750</td>\n",
       "      <td>0.013629</td>\n",
       "    </tr>\n",
       "    <tr>\n",
       "      <th>(600.4, 700.3]</th>\n",
       "      <td>100</td>\n",
       "      <td>32</td>\n",
       "      <td>68</td>\n",
       "      <td>0.097143</td>\n",
       "      <td>0.106667</td>\n",
       "      <td>-0.093526</td>\n",
       "      <td>0.000891</td>\n",
       "    </tr>\n",
       "    <tr>\n",
       "      <th>(700.3, 800.2]</th>\n",
       "      <td>100</td>\n",
       "      <td>31</td>\n",
       "      <td>69</td>\n",
       "      <td>0.098571</td>\n",
       "      <td>0.103333</td>\n",
       "      <td>-0.047179</td>\n",
       "      <td>0.000225</td>\n",
       "    </tr>\n",
       "    <tr>\n",
       "      <th>(800.2, 900.1]</th>\n",
       "      <td>100</td>\n",
       "      <td>42</td>\n",
       "      <td>58</td>\n",
       "      <td>0.082857</td>\n",
       "      <td>0.140000</td>\n",
       "      <td>-0.524524</td>\n",
       "      <td>0.029973</td>\n",
       "    </tr>\n",
       "    <tr>\n",
       "      <th>(900.1, 1000.0]</th>\n",
       "      <td>100</td>\n",
       "      <td>48</td>\n",
       "      <td>52</td>\n",
       "      <td>0.074286</td>\n",
       "      <td>0.160000</td>\n",
       "      <td>-0.767255</td>\n",
       "      <td>0.065765</td>\n",
       "    </tr>\n",
       "  </tbody>\n",
       "</table>\n",
       "</div>"
      ],
      "text/plain": [
       "                 total  abuse  normal  normal_dist  abuse_dist       woe  \\\n",
       "bins                                                                       \n",
       "(0.999, 100.9]     100     11      89     0.127143    0.036667  1.243443   \n",
       "(100.9, 200.8]     100     20      80     0.114286    0.066667  0.538997   \n",
       "(200.8, 300.7]     100     27      73     0.104286    0.090000  0.147325   \n",
       "(300.7, 400.6]     100     25      75     0.107143    0.083333  0.251314   \n",
       "(400.6, 500.5]     100     26      74     0.105714    0.086667  0.198671   \n",
       "(500.5, 600.4]     100     38      62     0.088571    0.126667 -0.357750   \n",
       "(600.4, 700.3]     100     32      68     0.097143    0.106667 -0.093526   \n",
       "(700.3, 800.2]     100     31      69     0.098571    0.103333 -0.047179   \n",
       "(800.2, 900.1]     100     42      58     0.082857    0.140000 -0.524524   \n",
       "(900.1, 1000.0]    100     48      52     0.074286    0.160000 -0.767255   \n",
       "\n",
       "                       iv  \n",
       "bins                       \n",
       "(0.999, 100.9]   0.112502  \n",
       "(100.9, 200.8]   0.025667  \n",
       "(200.8, 300.7]   0.002105  \n",
       "(300.7, 400.6]   0.005984  \n",
       "(400.6, 500.5]   0.003784  \n",
       "(500.5, 600.4]   0.013629  \n",
       "(600.4, 700.3]   0.000891  \n",
       "(700.3, 800.2]   0.000225  \n",
       "(800.2, 900.1]   0.029973  \n",
       "(900.1, 1000.0]  0.065765  "
      ]
     },
     "execution_count": 12,
     "metadata": {},
     "output_type": "execute_result"
    }
   ],
   "source": [
    "dim_df, dim, dim_i_val = calc_iv(dataset,'Duration_in_month', 'Target')\n",
    "dim_df"
   ]
  },
  {
   "cell_type": "code",
   "execution_count": 13,
   "metadata": {},
   "outputs": [
    {
     "data": {
      "text/plain": [
       "0.2605225223321392"
      ]
     },
     "execution_count": 13,
     "metadata": {},
     "output_type": "execute_result"
    }
   ],
   "source": [
    "# 높은 예측 능력\n",
    "dim_i_val"
   ]
  },
  {
   "cell_type": "code",
   "execution_count": 14,
   "metadata": {},
   "outputs": [],
   "source": [
    "# 함수를 만들어서 전체 iv를 살펴보자\n",
    "col_iv = {}\n",
    "for col in [idx for idx in dataset.columns.tolist()]:\n",
    "    if col == 'Target':\n",
    "        continue\n",
    "    _, col, iv = calc_iv(dataset, col, 'Target')\n",
    "    col_iv[col] = iv"
   ]
  },
  {
   "cell_type": "code",
   "execution_count": 15,
   "metadata": {},
   "outputs": [
    {
     "data": {
      "text/plain": [
       "{'Status_of_existing_checking_account': 0.6660115033513336,\n",
       " 'Duration_in_month': 0.2605225223321392,\n",
       " 'Credit_history': 0.2932335473908263,\n",
       " 'Purpose': 0.16919506567307832,\n",
       " 'Credit_amount': 0.11342803024552867,\n",
       " 'Savings_account_bonds': 0.19600955690422672,\n",
       " 'Present_employment_since': 0.086433631026641,\n",
       " 'Installment_rate_in_percentage_of_disposable_income': 0.061554683786294126,\n",
       " 'Personal_status_and_sex': 0.04467067763379073,\n",
       " 'Other_debtors_guarantors': 0.032019322019485055,\n",
       " 'Present_residence_since': 0.04874371881018562,\n",
       " 'Property': 0.11263826240979674,\n",
       " 'Age_in_years': 0.10267245670259074,\n",
       " 'Other_installment_plans': 0.057614541955647885,\n",
       " 'Housing': 0.08329343361549926,\n",
       " 'Number_of_existing_credits_at_this_bank': 0.09779114631307396,\n",
       " 'Job': 0.008762765707428294,\n",
       " 'Number_of_people_being_liable_to_provide_maintenance_for': 0.03408883520785682,\n",
       " 'Telephone': 0.0063776050286746735,\n",
       " 'foreign_worker': 0.04387741201028899}"
      ]
     },
     "execution_count": 15,
     "metadata": {},
     "output_type": "execute_result"
    }
   ],
   "source": [
    "col_iv"
   ]
  },
  {
   "cell_type": "code",
   "execution_count": 16,
   "metadata": {},
   "outputs": [
    {
     "data": {
      "text/plain": [
       "[('Status_of_existing_checking_account', 0.6660115033513336),\n",
       " ('Credit_history', 0.2932335473908263),\n",
       " ('Duration_in_month', 0.2605225223321392),\n",
       " ('Savings_account_bonds', 0.19600955690422672),\n",
       " ('Purpose', 0.16919506567307832),\n",
       " ('Credit_amount', 0.11342803024552867),\n",
       " ('Property', 0.11263826240979674),\n",
       " ('Age_in_years', 0.10267245670259074),\n",
       " ('Number_of_existing_credits_at_this_bank', 0.09779114631307396),\n",
       " ('Present_employment_since', 0.086433631026641),\n",
       " ('Housing', 0.08329343361549926),\n",
       " ('Installment_rate_in_percentage_of_disposable_income', 0.061554683786294126),\n",
       " ('Other_installment_plans', 0.057614541955647885),\n",
       " ('Present_residence_since', 0.04874371881018562),\n",
       " ('Personal_status_and_sex', 0.04467067763379073),\n",
       " ('foreign_worker', 0.04387741201028899),\n",
       " ('Number_of_people_being_liable_to_provide_maintenance_for',\n",
       "  0.03408883520785682),\n",
       " ('Other_debtors_guarantors', 0.032019322019485055),\n",
       " ('Job', 0.008762765707428294),\n",
       " ('Telephone', 0.0063776050286746735)]"
      ]
     },
     "metadata": {},
     "output_type": "display_data"
    }
   ],
   "source": [
    "import operator\n",
    "candidates = sorted(col_iv.items(), key=operator.itemgetter(1), reverse=True)\n",
    "display(candidates)"
   ]
  },
  {
   "cell_type": "markdown",
   "metadata": {},
   "source": [
    "Status_of_existing_checking_account가 가장 강력한 예측 능력(의심 될 정도로)를 가졌고, 다음이 Credit_history이다. Telephone은 가장 낮은 예측력을 가지고 있다."
   ]
  },
  {
   "cell_type": "markdown",
   "metadata": {},
   "source": [
    "사용할 컬럼은 본인이 선택해야한다. 나은 예측을 위해, 모델을 생성하고, 테스트하고 다시 돌아와서 컬럼을 생성하고를 반복한다."
   ]
  },
  {
   "cell_type": "markdown",
   "metadata": {},
   "source": [
    "우선 상위 15개만을 선택하자"
   ]
  },
  {
   "cell_type": "code",
   "execution_count": 17,
   "metadata": {},
   "outputs": [
    {
     "data": {
      "text/plain": [
       "15"
      ]
     },
     "metadata": {},
     "output_type": "display_data"
    },
    {
     "data": {
      "text/plain": [
       "['Age_in_years',\n",
       " 'Credit_amount',\n",
       " 'Credit_history',\n",
       " 'Duration_in_month',\n",
       " 'Housing',\n",
       " 'Installment_rate_in_percentage_of_disposable_income',\n",
       " 'Number_of_existing_credits_at_this_bank',\n",
       " 'Other_installment_plans',\n",
       " 'Personal_status_and_sex',\n",
       " 'Present_employment_since',\n",
       " 'Present_residence_since',\n",
       " 'Property',\n",
       " 'Purpose',\n",
       " 'Savings_account_bonds',\n",
       " 'Status_of_existing_checking_account']"
      ]
     },
     "metadata": {},
     "output_type": "display_data"
    }
   ],
   "source": [
    "# 분석하려는 feature의 갯수와 예측력의 trade-off를 조정하였습니다.\n",
    "iv_cols = [key for key, iv in candidates if iv >= 0.044]\n",
    "display(len(iv_cols))\n",
    "display(sorted(iv_cols))"
   ]
  },
  {
   "cell_type": "code",
   "execution_count": 18,
   "metadata": {},
   "outputs": [],
   "source": [
    "# 상수로 설정합니다.\n",
    "IV_COL = iv_cols[:]"
   ]
  },
  {
   "cell_type": "markdown",
   "metadata": {},
   "source": [
    "Information Value에 의하여 상위 15개의 feature를 선정하였습니다. 전체 feature를 사용하여 로지스틱 회귀를 구했을 때의 accuracy와 신용불량자에 대한 precision의 감소폭이 적으면서 (전체 데이터셋을 가장 잘 대변해 줄 수 있으면서) feature의 수를 줄이는 과정을 몇 번 테스트 하면서 얻은 값입니다.\n",
    "\n",
    "먼저, IV에서 선택된 컬럼들로 이루어진 모델에서부터 시작합니다."
   ]
  },
  {
   "cell_type": "code",
   "execution_count": 19,
   "metadata": {},
   "outputs": [],
   "source": [
    "# Category column들은 one hot vectore로 변환합니다.\n",
    "cate_features = {}\n",
    "num_features = []\n",
    "for col in IV_COL:\n",
    "    if dataset[col].dtype == 'object':\n",
    "        cate_features[col] = pd.get_dummies(dataset[col], prefix=col)\n",
    "    else:\n",
    "        num_features.append(col)"
   ]
  },
  {
   "cell_type": "code",
   "execution_count": 20,
   "metadata": {},
   "outputs": [
    {
     "data": {
      "text/plain": [
       "dict_keys(['Status_of_existing_checking_account', 'Credit_history', 'Savings_account_bonds', 'Purpose', 'Property', 'Present_employment_since', 'Housing', 'Other_installment_plans', 'Personal_status_and_sex'])"
      ]
     },
     "execution_count": 20,
     "metadata": {},
     "output_type": "execute_result"
    }
   ],
   "source": [
    "cate_features.keys()"
   ]
  },
  {
   "cell_type": "code",
   "execution_count": 21,
   "metadata": {},
   "outputs": [
    {
     "data": {
      "text/html": [
       "<div>\n",
       "<style scoped>\n",
       "    .dataframe tbody tr th:only-of-type {\n",
       "        vertical-align: middle;\n",
       "    }\n",
       "\n",
       "    .dataframe tbody tr th {\n",
       "        vertical-align: top;\n",
       "    }\n",
       "\n",
       "    .dataframe thead th {\n",
       "        text-align: right;\n",
       "    }\n",
       "</style>\n",
       "<table border=\"1\" class=\"dataframe\">\n",
       "  <thead>\n",
       "    <tr style=\"text-align: right;\">\n",
       "      <th></th>\n",
       "      <th>Status_of_existing_checking_account_A11</th>\n",
       "      <th>Status_of_existing_checking_account_A12</th>\n",
       "      <th>Status_of_existing_checking_account_A13</th>\n",
       "      <th>Status_of_existing_checking_account_A14</th>\n",
       "    </tr>\n",
       "  </thead>\n",
       "  <tbody>\n",
       "    <tr>\n",
       "      <th>0</th>\n",
       "      <td>1</td>\n",
       "      <td>0</td>\n",
       "      <td>0</td>\n",
       "      <td>0</td>\n",
       "    </tr>\n",
       "    <tr>\n",
       "      <th>1</th>\n",
       "      <td>0</td>\n",
       "      <td>1</td>\n",
       "      <td>0</td>\n",
       "      <td>0</td>\n",
       "    </tr>\n",
       "    <tr>\n",
       "      <th>2</th>\n",
       "      <td>0</td>\n",
       "      <td>0</td>\n",
       "      <td>0</td>\n",
       "      <td>1</td>\n",
       "    </tr>\n",
       "    <tr>\n",
       "      <th>3</th>\n",
       "      <td>1</td>\n",
       "      <td>0</td>\n",
       "      <td>0</td>\n",
       "      <td>0</td>\n",
       "    </tr>\n",
       "    <tr>\n",
       "      <th>4</th>\n",
       "      <td>1</td>\n",
       "      <td>0</td>\n",
       "      <td>0</td>\n",
       "      <td>0</td>\n",
       "    </tr>\n",
       "  </tbody>\n",
       "</table>\n",
       "</div>"
      ],
      "text/plain": [
       "   Status_of_existing_checking_account_A11  \\\n",
       "0                                        1   \n",
       "1                                        0   \n",
       "2                                        0   \n",
       "3                                        1   \n",
       "4                                        1   \n",
       "\n",
       "   Status_of_existing_checking_account_A12  \\\n",
       "0                                        0   \n",
       "1                                        1   \n",
       "2                                        0   \n",
       "3                                        0   \n",
       "4                                        0   \n",
       "\n",
       "   Status_of_existing_checking_account_A13  \\\n",
       "0                                        0   \n",
       "1                                        0   \n",
       "2                                        0   \n",
       "3                                        0   \n",
       "4                                        0   \n",
       "\n",
       "   Status_of_existing_checking_account_A14  \n",
       "0                                        0  \n",
       "1                                        0  \n",
       "2                                        1  \n",
       "3                                        0  \n",
       "4                                        0  "
      ]
     },
     "execution_count": 21,
     "metadata": {},
     "output_type": "execute_result"
    }
   ],
   "source": [
    "cate_features['Status_of_existing_checking_account'].head()"
   ]
  },
  {
   "cell_type": "markdown",
   "metadata": {},
   "source": [
    "더미 변수를 생성하게 되면, 자유도는 더미 변수가 가질 수 있는 unique 값이 $n$ 이라고 했을때 $n-1$이 되므로, 각 변수에서 더미변수 축을 한개씩 제거해준다. 제거하지 않으면 `NaN`값이 발생합니다.\n",
    "\n",
    "후진 제거법을 통해 무의미한 변수를 하나씩 제거해 나가기 위해 별도의 리스트를 하나 생성합니다. 이 리스트는 실행이 반복될 때마다 가장 무의미한 변수(p-value가 큰 변수)와 다중공선성을 갖는 변수를 제거 한다."
   ]
  },
  {
   "cell_type": "code",
   "execution_count": 22,
   "metadata": {},
   "outputs": [],
   "source": [
    "removed_features = []"
   ]
  },
  {
   "cell_type": "code",
   "execution_count": 23,
   "metadata": {},
   "outputs": [],
   "source": [
    "for col, dummies in cate_features.items():\n",
    "    dropped_col = dummies.columns[-1]\n",
    "    removed_features.append(dropped_col)\n",
    "    cate_features[col] = dummies.drop(dropped_col, axis=1)"
   ]
  },
  {
   "cell_type": "code",
   "execution_count": 24,
   "metadata": {},
   "outputs": [
    {
     "data": {
      "text/plain": [
       "['Status_of_existing_checking_account_A14',\n",
       " 'Credit_history_A34',\n",
       " 'Savings_account_bonds_A65',\n",
       " 'Purpose_A49',\n",
       " 'Property_A124',\n",
       " 'Present_employment_since_A75',\n",
       " 'Housing_A153',\n",
       " 'Other_installment_plans_A143',\n",
       " 'Personal_status_and_sex_A94']"
      ]
     },
     "execution_count": 24,
     "metadata": {},
     "output_type": "execute_result"
    }
   ],
   "source": [
    "removed_features"
   ]
  },
  {
   "cell_type": "code",
   "execution_count": 25,
   "metadata": {},
   "outputs": [
    {
     "data": {
      "text/html": [
       "<div>\n",
       "<style scoped>\n",
       "    .dataframe tbody tr th:only-of-type {\n",
       "        vertical-align: middle;\n",
       "    }\n",
       "\n",
       "    .dataframe tbody tr th {\n",
       "        vertical-align: top;\n",
       "    }\n",
       "\n",
       "    .dataframe thead th {\n",
       "        text-align: right;\n",
       "    }\n",
       "</style>\n",
       "<table border=\"1\" class=\"dataframe\">\n",
       "  <thead>\n",
       "    <tr style=\"text-align: right;\">\n",
       "      <th></th>\n",
       "      <th>Status_of_existing_checking_account_A11</th>\n",
       "      <th>Status_of_existing_checking_account_A12</th>\n",
       "      <th>Status_of_existing_checking_account_A13</th>\n",
       "    </tr>\n",
       "  </thead>\n",
       "  <tbody>\n",
       "    <tr>\n",
       "      <th>0</th>\n",
       "      <td>1</td>\n",
       "      <td>0</td>\n",
       "      <td>0</td>\n",
       "    </tr>\n",
       "    <tr>\n",
       "      <th>1</th>\n",
       "      <td>0</td>\n",
       "      <td>1</td>\n",
       "      <td>0</td>\n",
       "    </tr>\n",
       "    <tr>\n",
       "      <th>2</th>\n",
       "      <td>0</td>\n",
       "      <td>0</td>\n",
       "      <td>0</td>\n",
       "    </tr>\n",
       "    <tr>\n",
       "      <th>3</th>\n",
       "      <td>1</td>\n",
       "      <td>0</td>\n",
       "      <td>0</td>\n",
       "    </tr>\n",
       "    <tr>\n",
       "      <th>4</th>\n",
       "      <td>1</td>\n",
       "      <td>0</td>\n",
       "      <td>0</td>\n",
       "    </tr>\n",
       "  </tbody>\n",
       "</table>\n",
       "</div>"
      ],
      "text/plain": [
       "   Status_of_existing_checking_account_A11  \\\n",
       "0                                        1   \n",
       "1                                        0   \n",
       "2                                        0   \n",
       "3                                        1   \n",
       "4                                        1   \n",
       "\n",
       "   Status_of_existing_checking_account_A12  \\\n",
       "0                                        0   \n",
       "1                                        1   \n",
       "2                                        0   \n",
       "3                                        0   \n",
       "4                                        0   \n",
       "\n",
       "   Status_of_existing_checking_account_A13  \n",
       "0                                        0  \n",
       "1                                        0  \n",
       "2                                        0  \n",
       "3                                        0  \n",
       "4                                        0  "
      ]
     },
     "execution_count": 25,
     "metadata": {},
     "output_type": "execute_result"
    }
   ],
   "source": [
    "cate_features['Status_of_existing_checking_account'].head()"
   ]
  },
  {
   "cell_type": "code",
   "execution_count": 26,
   "metadata": {},
   "outputs": [],
   "source": [
    "final_dataset = dataset[num_features]"
   ]
  },
  {
   "cell_type": "code",
   "execution_count": 27,
   "metadata": {},
   "outputs": [],
   "source": [
    "for col, df in cate_features.items():\n",
    "    final_dataset = pd.concat([final_dataset, df], axis=1)"
   ]
  },
  {
   "cell_type": "code",
   "execution_count": 28,
   "metadata": {},
   "outputs": [
    {
     "data": {
      "text/plain": [
       "(1000, 40)"
      ]
     },
     "execution_count": 28,
     "metadata": {},
     "output_type": "execute_result"
    }
   ],
   "source": [
    "final_dataset.shape"
   ]
  },
  {
   "cell_type": "code",
   "execution_count": 29,
   "metadata": {},
   "outputs": [
    {
     "data": {
      "text/plain": [
       "Duration_in_month                                      int64\n",
       "Credit_amount                                          int64\n",
       "Age_in_years                                           int64\n",
       "Number_of_existing_credits_at_this_bank                int64\n",
       "Installment_rate_in_percentage_of_disposable_income    int64\n",
       "Present_residence_since                                int64\n",
       "Status_of_existing_checking_account_A11                uint8\n",
       "Status_of_existing_checking_account_A12                uint8\n",
       "Status_of_existing_checking_account_A13                uint8\n",
       "Credit_history_A30                                     uint8\n",
       "Credit_history_A31                                     uint8\n",
       "Credit_history_A32                                     uint8\n",
       "Credit_history_A33                                     uint8\n",
       "Savings_account_bonds_A61                              uint8\n",
       "Savings_account_bonds_A62                              uint8\n",
       "Savings_account_bonds_A63                              uint8\n",
       "Savings_account_bonds_A64                              uint8\n",
       "Purpose_A40                                            uint8\n",
       "Purpose_A41                                            uint8\n",
       "Purpose_A410                                           uint8\n",
       "Purpose_A42                                            uint8\n",
       "Purpose_A43                                            uint8\n",
       "Purpose_A44                                            uint8\n",
       "Purpose_A45                                            uint8\n",
       "Purpose_A46                                            uint8\n",
       "Purpose_A48                                            uint8\n",
       "Property_A121                                          uint8\n",
       "Property_A122                                          uint8\n",
       "Property_A123                                          uint8\n",
       "Present_employment_since_A71                           uint8\n",
       "Present_employment_since_A72                           uint8\n",
       "Present_employment_since_A73                           uint8\n",
       "Present_employment_since_A74                           uint8\n",
       "Housing_A151                                           uint8\n",
       "Housing_A152                                           uint8\n",
       "Other_installment_plans_A141                           uint8\n",
       "Other_installment_plans_A142                           uint8\n",
       "Personal_status_and_sex_A91                            uint8\n",
       "Personal_status_and_sex_A92                            uint8\n",
       "Personal_status_and_sex_A93                            uint8\n",
       "dtype: object"
      ]
     },
     "execution_count": 29,
     "metadata": {},
     "output_type": "execute_result"
    }
   ],
   "source": [
    "final_dataset.head()\n",
    "final_dataset.dtypes"
   ]
  },
  {
   "cell_type": "markdown",
   "metadata": {},
   "source": [
    "## 2. Training set, test set을 나눕니다. "
   ]
  },
  {
   "cell_type": "code",
   "execution_count": 30,
   "metadata": {},
   "outputs": [],
   "source": [
    "from sklearn.model_selection import train_test_split"
   ]
  },
  {
   "cell_type": "code",
   "execution_count": 31,
   "metadata": {},
   "outputs": [],
   "source": [
    "train_x, test_x, train_y, test_y = \\\n",
    "    train_test_split( \\\n",
    "        final_dataset, dataset['Target'], test_size=0.2, random_state=42)"
   ]
  },
  {
   "cell_type": "code",
   "execution_count": 32,
   "metadata": {},
   "outputs": [
    {
     "name": "stdout",
     "output_type": "stream",
     "text": [
      "train_set (800, 40)\n",
      "test_set (200, 40)\n"
     ]
    }
   ],
   "source": [
    "print('train_set', train_x.shape)\n",
    "print('test_set', test_x.shape)"
   ]
  },
  {
   "cell_type": "markdown",
   "metadata": {},
   "source": [
    "## 3. Statsmodels를 이용하여 로지스틱 회귀를 돌립니다."
   ]
  },
  {
   "cell_type": "code",
   "execution_count": 33,
   "metadata": {},
   "outputs": [],
   "source": [
    "import statsmodels.api as sm"
   ]
  },
  {
   "cell_type": "code",
   "execution_count": 80,
   "metadata": {},
   "outputs": [
    {
     "name": "stdout",
     "output_type": "stream",
     "text": [
      "Optimization terminated successfully.\n",
      "         Current function value: 0.460159\n",
      "         Iterations 7\n"
     ]
    }
   ],
   "source": [
    "logistic_model = sm.Logit(\n",
    "    train_y,\n",
    "    sm.add_constant(train_x)\n",
    ").fit()"
   ]
  },
  {
   "cell_type": "markdown",
   "metadata": {},
   "source": [
    "### 성능 측정"
   ]
  },
  {
   "cell_type": "code",
   "execution_count": 35,
   "metadata": {},
   "outputs": [],
   "source": [
    "from sklearn.metrics import auc\n",
    "from sklearn.metrics import accuracy_score\n",
    "from sklearn.metrics import classification_report"
   ]
  },
  {
   "cell_type": "code",
   "execution_count": 36,
   "metadata": {},
   "outputs": [],
   "source": [
    "train_pred = pd.DataFrame({\n",
    "    'probs': logistic_model.predict(sm.add_constant(train_x)),\n",
    "    'class': train_y\n",
    "})\n",
    "\n",
    "train_pred\n",
    "train_pred['y_pred'] = 0\n",
    "train_pred.loc[train_pred['probs'] > 0.5, 'y_pred'] = 1\n",
    "\n",
    "# Test prediction\n",
    "test_pred = pd.DataFrame({\n",
    "    'probs': logistic_model.predict(sm.add_constant(test_x)),\n",
    "    'class': test_y\n",
    "})\n",
    "\n",
    "test_pred['y_pred'] = 0\n",
    "test_pred.loc[test_pred['probs'] > 0.5, 'y_pred'] = 1"
   ]
  },
  {
   "cell_type": "code",
   "execution_count": 37,
   "metadata": {},
   "outputs": [
    {
     "name": "stdout",
     "output_type": "stream",
     "text": [
      "\n",
      "Training Confusion matrix:\n"
     ]
    },
    {
     "data": {
      "text/html": [
       "<div>\n",
       "<style scoped>\n",
       "    .dataframe tbody tr th:only-of-type {\n",
       "        vertical-align: middle;\n",
       "    }\n",
       "\n",
       "    .dataframe tbody tr th {\n",
       "        vertical-align: top;\n",
       "    }\n",
       "\n",
       "    .dataframe thead th {\n",
       "        text-align: right;\n",
       "    }\n",
       "</style>\n",
       "<table border=\"1\" class=\"dataframe\">\n",
       "  <thead>\n",
       "    <tr style=\"text-align: right;\">\n",
       "      <th>Actual</th>\n",
       "      <th>0</th>\n",
       "      <th>1</th>\n",
       "      <th>All</th>\n",
       "    </tr>\n",
       "    <tr>\n",
       "      <th>Predict</th>\n",
       "      <th></th>\n",
       "      <th></th>\n",
       "      <th></th>\n",
       "    </tr>\n",
       "  </thead>\n",
       "  <tbody>\n",
       "    <tr>\n",
       "      <th>0</th>\n",
       "      <td>503</td>\n",
       "      <td>120</td>\n",
       "      <td>623</td>\n",
       "    </tr>\n",
       "    <tr>\n",
       "      <th>1</th>\n",
       "      <td>56</td>\n",
       "      <td>121</td>\n",
       "      <td>177</td>\n",
       "    </tr>\n",
       "    <tr>\n",
       "      <th>All</th>\n",
       "      <td>559</td>\n",
       "      <td>241</td>\n",
       "      <td>800</td>\n",
       "    </tr>\n",
       "  </tbody>\n",
       "</table>\n",
       "</div>"
      ],
      "text/plain": [
       "Actual     0    1  All\n",
       "Predict               \n",
       "0        503  120  623\n",
       "1         56  121  177\n",
       "All      559  241  800"
      ]
     },
     "metadata": {},
     "output_type": "display_data"
    },
    {
     "name": "stdout",
     "output_type": "stream",
     "text": [
      "\n",
      "Training Accuracy:  0.78\n",
      "\n",
      "Training classification report:\n",
      "              precision    recall  f1-score   support\n",
      "\n",
      "          0     0.8074    0.8998    0.8511       559\n",
      "          1     0.6836    0.5021    0.5789       241\n",
      "\n",
      "avg / total     0.7701    0.7800    0.7691       800\n",
      "\n"
     ]
    }
   ],
   "source": [
    "print('\\nTraining Confusion matrix:')\n",
    "display(pd.crosstab(train_pred['y_pred'], train_pred['class'], rownames=['Predict'], colnames=['Actual'], margins=True))\n",
    "print('\\nTraining Accuracy: ', round(accuracy_score(train_pred['class'], train_pred['y_pred']), 4))\n",
    "print('\\nTraining classification report:\\n', classification_report(train_pred['class'], train_pred['y_pred'], digits=4))"
   ]
  },
  {
   "cell_type": "code",
   "execution_count": 38,
   "metadata": {},
   "outputs": [
    {
     "name": "stdout",
     "output_type": "stream",
     "text": [
      "Test Confusion matrix:\n"
     ]
    },
    {
     "data": {
      "text/html": [
       "<div>\n",
       "<style scoped>\n",
       "    .dataframe tbody tr th:only-of-type {\n",
       "        vertical-align: middle;\n",
       "    }\n",
       "\n",
       "    .dataframe tbody tr th {\n",
       "        vertical-align: top;\n",
       "    }\n",
       "\n",
       "    .dataframe thead th {\n",
       "        text-align: right;\n",
       "    }\n",
       "</style>\n",
       "<table border=\"1\" class=\"dataframe\">\n",
       "  <thead>\n",
       "    <tr style=\"text-align: right;\">\n",
       "      <th>Actual</th>\n",
       "      <th>0</th>\n",
       "      <th>1</th>\n",
       "      <th>All</th>\n",
       "    </tr>\n",
       "    <tr>\n",
       "      <th>Predict</th>\n",
       "      <th></th>\n",
       "      <th></th>\n",
       "      <th></th>\n",
       "    </tr>\n",
       "  </thead>\n",
       "  <tbody>\n",
       "    <tr>\n",
       "      <th>0</th>\n",
       "      <td>123</td>\n",
       "      <td>27</td>\n",
       "      <td>150</td>\n",
       "    </tr>\n",
       "    <tr>\n",
       "      <th>1</th>\n",
       "      <td>18</td>\n",
       "      <td>32</td>\n",
       "      <td>50</td>\n",
       "    </tr>\n",
       "    <tr>\n",
       "      <th>All</th>\n",
       "      <td>141</td>\n",
       "      <td>59</td>\n",
       "      <td>200</td>\n",
       "    </tr>\n",
       "  </tbody>\n",
       "</table>\n",
       "</div>"
      ],
      "text/plain": [
       "Actual     0   1  All\n",
       "Predict              \n",
       "0        123  27  150\n",
       "1         18  32   50\n",
       "All      141  59  200"
      ]
     },
     "metadata": {},
     "output_type": "display_data"
    },
    {
     "name": "stdout",
     "output_type": "stream",
     "text": [
      "\n",
      "Test Accuracy:  0.775\n",
      "\n",
      "Test classification report:\n",
      "              precision    recall  f1-score   support\n",
      "\n",
      "          0     0.8200    0.8723    0.8454       141\n",
      "          1     0.6400    0.5424    0.5872        59\n",
      "\n",
      "avg / total     0.7669    0.7750    0.7692       200\n",
      "\n"
     ]
    }
   ],
   "source": [
    "print('Test Confusion matrix:')\n",
    "display(pd.crosstab(test_pred['y_pred'], test_pred['class'], rownames=['Predict'], colnames=['Actual'], margins=True))\n",
    "print('\\nTest Accuracy: ', round(accuracy_score(test_pred['class'], test_pred['y_pred']), 4))\n",
    "print('\\nTest classification report:\\n', classification_report(test_pred['class'], test_pred['y_pred'], digits=4))"
   ]
  },
  {
   "cell_type": "markdown",
   "metadata": {},
   "source": [
    "## 2. 후진제거법\n",
    " - 가장 무의미한 변수 (p-value)\n",
    " - 다중공선성을 갖는 변수 (Variance Inflation Factor)"
   ]
  },
  {
   "cell_type": "markdown",
   "metadata": {},
   "source": [
    "### (A) P-value\n",
    "P-value가 가장 높은 변수를 제거합니다. 여기서 P-value는 각 독립변수의 유의성 검정(t-test)에서 얻어진 값입니다."
   ]
  },
  {
   "cell_type": "code",
   "execution_count": 39,
   "metadata": {},
   "outputs": [],
   "source": [
    "unnecesarries = []"
   ]
  },
  {
   "cell_type": "code",
   "execution_count": 40,
   "metadata": {
    "scrolled": true
   },
   "outputs": [
    {
     "data": {
      "text/html": [
       "<table class=\"simpletable\">\n",
       "<tr>\n",
       "        <td>Model:</td>              <td>Logit</td>      <td>Pseudo R-squared:</td>    <td>0.248</td>  \n",
       "</tr>\n",
       "<tr>\n",
       "  <td>Dependent Variable:</td>      <td>Target</td>            <td>AIC:</td>         <td>818.2538</td> \n",
       "</tr>\n",
       "<tr>\n",
       "         <td>Date:</td>        <td>2019-06-17 23:08</td>       <td>BIC:</td>         <td>1010.3229</td>\n",
       "</tr>\n",
       "<tr>\n",
       "   <td>No. Observations:</td>         <td>800</td>        <td>Log-Likelihood:</td>    <td>-368.13</td> \n",
       "</tr>\n",
       "<tr>\n",
       "       <td>Df Model:</td>             <td>40</td>            <td>LL-Null:</td>        <td>-489.54</td> \n",
       "</tr>\n",
       "<tr>\n",
       "     <td>Df Residuals:</td>           <td>759</td>         <td>LLR p-value:</td>    <td>7.2712e-31</td>\n",
       "</tr>\n",
       "<tr>\n",
       "      <td>Converged:</td>           <td>1.0000</td>           <td>Scale:</td>         <td>1.0000</td>  \n",
       "</tr>\n",
       "<tr>\n",
       "    <td>No. Iterations:</td>        <td>7.0000</td>              <td></td>               <td></td>     \n",
       "</tr>\n",
       "</table>\n",
       "<table class=\"simpletable\">\n",
       "<tr>\n",
       "                           <td></td>                            <th>Coef.</th>  <th>Std.Err.</th>    <th>z</th>     <th>P>|z|</th> <th>[0.025</th>  <th>0.975]</th> \n",
       "</tr>\n",
       "<tr>\n",
       "  <th>const</th>                                               <td>-3.6675</td>  <td>1.0471</td>  <td>-3.5026</td> <td>0.0005</td> <td>-5.7198</td> <td>-1.6153</td>\n",
       "</tr>\n",
       "<tr>\n",
       "  <th>Duration_in_month</th>                                   <td>0.0230</td>   <td>0.0101</td>  <td>2.2759</td>  <td>0.0228</td> <td>0.0032</td>  <td>0.0429</td> \n",
       "</tr>\n",
       "<tr>\n",
       "  <th>Credit_amount</th>                                       <td>0.0001</td>   <td>0.0000</td>  <td>2.4648</td>  <td>0.0137</td> <td>0.0000</td>  <td>0.0002</td> \n",
       "</tr>\n",
       "<tr>\n",
       "  <th>Age_in_years</th>                                        <td>-0.0315</td>  <td>0.0104</td>  <td>-3.0316</td> <td>0.0024</td> <td>-0.0519</td> <td>-0.0111</td>\n",
       "</tr>\n",
       "<tr>\n",
       "  <th>Number_of_existing_credits_at_this_bank</th>             <td>0.3461</td>   <td>0.2075</td>  <td>1.6682</td>  <td>0.0953</td> <td>-0.0605</td> <td>0.7528</td> \n",
       "</tr>\n",
       "<tr>\n",
       "  <th>Installment_rate_in_percentage_of_disposable_income</th> <td>0.3172</td>   <td>0.0945</td>  <td>3.3582</td>  <td>0.0008</td> <td>0.1321</td>  <td>0.5024</td> \n",
       "</tr>\n",
       "<tr>\n",
       "  <th>Present_residence_since</th>                             <td>0.0320</td>   <td>0.0948</td>  <td>0.3373</td>  <td>0.7359</td> <td>-0.1538</td> <td>0.2178</td> \n",
       "</tr>\n",
       "<tr>\n",
       "  <th>Status_of_existing_checking_account_A11</th>             <td>1.5522</td>   <td>0.2525</td>  <td>6.1468</td>  <td>0.0000</td> <td>1.0573</td>  <td>2.0472</td> \n",
       "</tr>\n",
       "<tr>\n",
       "  <th>Status_of_existing_checking_account_A12</th>             <td>1.1125</td>   <td>0.2474</td>  <td>4.4969</td>  <td>0.0000</td> <td>0.6276</td>  <td>1.5974</td> \n",
       "</tr>\n",
       "<tr>\n",
       "  <th>Status_of_existing_checking_account_A13</th>             <td>0.5329</td>   <td>0.4364</td>  <td>1.2211</td>  <td>0.2220</td> <td>-0.3224</td> <td>1.3881</td> \n",
       "</tr>\n",
       "<tr>\n",
       "  <th>Credit_history_A30</th>                                  <td>1.5371</td>   <td>0.4723</td>  <td>3.2545</td>  <td>0.0011</td> <td>0.6114</td>  <td>2.4628</td> \n",
       "</tr>\n",
       "<tr>\n",
       "  <th>Credit_history_A31</th>                                  <td>1.4798</td>   <td>0.4815</td>  <td>3.0734</td>  <td>0.0021</td> <td>0.5361</td>  <td>2.4235</td> \n",
       "</tr>\n",
       "<tr>\n",
       "  <th>Credit_history_A32</th>                                  <td>0.8741</td>   <td>0.2821</td>  <td>3.0988</td>  <td>0.0019</td> <td>0.3212</td>  <td>1.4269</td> \n",
       "</tr>\n",
       "<tr>\n",
       "  <th>Credit_history_A33</th>                                  <td>0.5364</td>   <td>0.3691</td>  <td>1.4532</td>  <td>0.1462</td> <td>-0.1871</td> <td>1.2599</td> \n",
       "</tr>\n",
       "<tr>\n",
       "  <th>Savings_account_bonds_A61</th>                           <td>0.6851</td>   <td>0.2741</td>  <td>2.4997</td>  <td>0.0124</td> <td>0.1479</td>  <td>1.2224</td> \n",
       "</tr>\n",
       "<tr>\n",
       "  <th>Savings_account_bonds_A62</th>                           <td>0.5970</td>   <td>0.3698</td>  <td>1.6144</td>  <td>0.1064</td> <td>-0.1278</td> <td>1.3217</td> \n",
       "</tr>\n",
       "<tr>\n",
       "  <th>Savings_account_bonds_A63</th>                           <td>0.2964</td>   <td>0.4700</td>  <td>0.6305</td>  <td>0.5284</td> <td>-0.6249</td> <td>1.2176</td> \n",
       "</tr>\n",
       "<tr>\n",
       "  <th>Savings_account_bonds_A64</th>                           <td>-0.2078</td>  <td>0.5857</td>  <td>-0.3547</td> <td>0.7228</td> <td>-1.3558</td> <td>0.9402</td> \n",
       "</tr>\n",
       "<tr>\n",
       "  <th>Purpose_A40</th>                                         <td>0.6410</td>   <td>0.3599</td>  <td>1.7810</td>  <td>0.0749</td> <td>-0.0644</td> <td>1.3464</td> \n",
       "</tr>\n",
       "<tr>\n",
       "  <th>Purpose_A41</th>                                         <td>-0.9585</td>  <td>0.4654</td>  <td>-2.0593</td> <td>0.0395</td> <td>-1.8707</td> <td>-0.0462</td>\n",
       "</tr>\n",
       "<tr>\n",
       "  <th>Purpose_A410</th>                                        <td>-0.6272</td>  <td>0.8378</td>  <td>-0.7486</td> <td>0.4541</td> <td>-2.2693</td> <td>1.0149</td> \n",
       "</tr>\n",
       "<tr>\n",
       "  <th>Purpose_A42</th>                                         <td>-0.2957</td>  <td>0.3846</td>  <td>-0.7686</td> <td>0.4421</td> <td>-1.0496</td> <td>0.4582</td> \n",
       "</tr>\n",
       "<tr>\n",
       "  <th>Purpose_A43</th>                                         <td>-0.3352</td>  <td>0.3618</td>  <td>-0.9263</td> <td>0.3543</td> <td>-1.0443</td> <td>0.3740</td> \n",
       "</tr>\n",
       "<tr>\n",
       "  <th>Purpose_A44</th>                                         <td>0.1854</td>   <td>0.8089</td>  <td>0.2292</td>  <td>0.8187</td> <td>-1.4000</td> <td>1.7709</td> \n",
       "</tr>\n",
       "<tr>\n",
       "  <th>Purpose_A45</th>                                         <td>0.2867</td>   <td>0.6258</td>  <td>0.4581</td>  <td>0.6469</td> <td>-0.9398</td> <td>1.5131</td> \n",
       "</tr>\n",
       "<tr>\n",
       "  <th>Purpose_A46</th>                                         <td>0.9372</td>   <td>0.5224</td>  <td>1.7941</td>  <td>0.0728</td> <td>-0.0867</td> <td>1.9611</td> \n",
       "</tr>\n",
       "<tr>\n",
       "  <th>Purpose_A48</th>                                         <td>-1.2412</td>  <td>1.2458</td>  <td>-0.9964</td> <td>0.3191</td> <td>-3.6829</td> <td>1.2005</td> \n",
       "</tr>\n",
       "<tr>\n",
       "  <th>Property_A121</th>                                       <td>-0.6366</td>  <td>0.4530</td>  <td>-1.4053</td> <td>0.1599</td> <td>-1.5244</td> <td>0.2513</td> \n",
       "</tr>\n",
       "<tr>\n",
       "  <th>Property_A122</th>                                       <td>-0.2833</td>  <td>0.4461</td>  <td>-0.6349</td> <td>0.5255</td> <td>-1.1576</td> <td>0.5911</td> \n",
       "</tr>\n",
       "<tr>\n",
       "  <th>Property_A123</th>                                       <td>-0.2635</td>  <td>0.4302</td>  <td>-0.6126</td> <td>0.5401</td> <td>-1.1067</td> <td>0.5796</td> \n",
       "</tr>\n",
       "<tr>\n",
       "  <th>Present_employment_since_A71</th>                        <td>0.2897</td>   <td>0.4022</td>  <td>0.7203</td>  <td>0.4713</td> <td>-0.4986</td> <td>1.0781</td> \n",
       "</tr>\n",
       "<tr>\n",
       "  <th>Present_employment_since_A72</th>                        <td>0.1534</td>   <td>0.3273</td>  <td>0.4686</td>  <td>0.6394</td> <td>-0.4881</td> <td>0.7948</td> \n",
       "</tr>\n",
       "<tr>\n",
       "  <th>Present_employment_since_A73</th>                        <td>0.1896</td>   <td>0.2776</td>  <td>0.6830</td>  <td>0.4946</td> <td>-0.3545</td> <td>0.7337</td> \n",
       "</tr>\n",
       "<tr>\n",
       "  <th>Present_employment_since_A74</th>                        <td>-0.3076</td>  <td>0.3278</td>  <td>-0.9385</td> <td>0.3480</td> <td>-0.9500</td> <td>0.3348</td> \n",
       "</tr>\n",
       "<tr>\n",
       "  <th>Housing_A151</th>                                        <td>0.2009</td>   <td>0.5064</td>  <td>0.3967</td>  <td>0.6916</td> <td>-0.7916</td> <td>1.1934</td> \n",
       "</tr>\n",
       "<tr>\n",
       "  <th>Housing_A152</th>                                        <td>-0.3416</td>  <td>0.4803</td>  <td>-0.7112</td> <td>0.4770</td> <td>-1.2829</td> <td>0.5997</td> \n",
       "</tr>\n",
       "<tr>\n",
       "  <th>Other_installment_plans_A141</th>                        <td>0.7211</td>   <td>0.2690</td>  <td>2.6809</td>  <td>0.0073</td> <td>0.1939</td>  <td>1.2483</td> \n",
       "</tr>\n",
       "<tr>\n",
       "  <th>Other_installment_plans_A142</th>                        <td>0.5466</td>   <td>0.4384</td>  <td>1.2467</td>  <td>0.2125</td> <td>-0.3127</td> <td>1.4059</td> \n",
       "</tr>\n",
       "<tr>\n",
       "  <th>Personal_status_and_sex_A91</th>                         <td>0.4998</td>   <td>0.5226</td>  <td>0.9563</td>  <td>0.3389</td> <td>-0.5245</td> <td>1.5241</td> \n",
       "</tr>\n",
       "<tr>\n",
       "  <th>Personal_status_and_sex_A92</th>                         <td>0.0181</td>   <td>0.3437</td>  <td>0.0527</td>  <td>0.9580</td> <td>-0.6555</td> <td>0.6918</td> \n",
       "</tr>\n",
       "<tr>\n",
       "  <th>Personal_status_and_sex_A93</th>                         <td>-0.4830</td>  <td>0.3432</td>  <td>-1.4074</td> <td>0.1593</td> <td>-1.1558</td> <td>0.1897</td> \n",
       "</tr>\n",
       "</table>"
      ],
      "text/plain": [
       "<class 'statsmodels.iolib.summary2.Summary'>\n",
       "\"\"\"\n",
       "                                          Results: Logit\n",
       "===================================================================================================\n",
       "Model:                          Logit                       Pseudo R-squared:            0.248     \n",
       "Dependent Variable:             Target                      AIC:                         818.2538  \n",
       "Date:                           2019-06-17 23:08            BIC:                         1010.3229 \n",
       "No. Observations:               800                         Log-Likelihood:              -368.13   \n",
       "Df Model:                       40                          LL-Null:                     -489.54   \n",
       "Df Residuals:                   759                         LLR p-value:                 7.2712e-31\n",
       "Converged:                      1.0000                      Scale:                       1.0000    \n",
       "No. Iterations:                 7.0000                                                             \n",
       "---------------------------------------------------------------------------------------------------\n",
       "                                                     Coef.  Std.Err.    z    P>|z|   [0.025  0.975]\n",
       "---------------------------------------------------------------------------------------------------\n",
       "const                                               -3.6675   1.0471 -3.5026 0.0005 -5.7198 -1.6153\n",
       "Duration_in_month                                    0.0230   0.0101  2.2759 0.0228  0.0032  0.0429\n",
       "Credit_amount                                        0.0001   0.0000  2.4648 0.0137  0.0000  0.0002\n",
       "Age_in_years                                        -0.0315   0.0104 -3.0316 0.0024 -0.0519 -0.0111\n",
       "Number_of_existing_credits_at_this_bank              0.3461   0.2075  1.6682 0.0953 -0.0605  0.7528\n",
       "Installment_rate_in_percentage_of_disposable_income  0.3172   0.0945  3.3582 0.0008  0.1321  0.5024\n",
       "Present_residence_since                              0.0320   0.0948  0.3373 0.7359 -0.1538  0.2178\n",
       "Status_of_existing_checking_account_A11              1.5522   0.2525  6.1468 0.0000  1.0573  2.0472\n",
       "Status_of_existing_checking_account_A12              1.1125   0.2474  4.4969 0.0000  0.6276  1.5974\n",
       "Status_of_existing_checking_account_A13              0.5329   0.4364  1.2211 0.2220 -0.3224  1.3881\n",
       "Credit_history_A30                                   1.5371   0.4723  3.2545 0.0011  0.6114  2.4628\n",
       "Credit_history_A31                                   1.4798   0.4815  3.0734 0.0021  0.5361  2.4235\n",
       "Credit_history_A32                                   0.8741   0.2821  3.0988 0.0019  0.3212  1.4269\n",
       "Credit_history_A33                                   0.5364   0.3691  1.4532 0.1462 -0.1871  1.2599\n",
       "Savings_account_bonds_A61                            0.6851   0.2741  2.4997 0.0124  0.1479  1.2224\n",
       "Savings_account_bonds_A62                            0.5970   0.3698  1.6144 0.1064 -0.1278  1.3217\n",
       "Savings_account_bonds_A63                            0.2964   0.4700  0.6305 0.5284 -0.6249  1.2176\n",
       "Savings_account_bonds_A64                           -0.2078   0.5857 -0.3547 0.7228 -1.3558  0.9402\n",
       "Purpose_A40                                          0.6410   0.3599  1.7810 0.0749 -0.0644  1.3464\n",
       "Purpose_A41                                         -0.9585   0.4654 -2.0593 0.0395 -1.8707 -0.0462\n",
       "Purpose_A410                                        -0.6272   0.8378 -0.7486 0.4541 -2.2693  1.0149\n",
       "Purpose_A42                                         -0.2957   0.3846 -0.7686 0.4421 -1.0496  0.4582\n",
       "Purpose_A43                                         -0.3352   0.3618 -0.9263 0.3543 -1.0443  0.3740\n",
       "Purpose_A44                                          0.1854   0.8089  0.2292 0.8187 -1.4000  1.7709\n",
       "Purpose_A45                                          0.2867   0.6258  0.4581 0.6469 -0.9398  1.5131\n",
       "Purpose_A46                                          0.9372   0.5224  1.7941 0.0728 -0.0867  1.9611\n",
       "Purpose_A48                                         -1.2412   1.2458 -0.9964 0.3191 -3.6829  1.2005\n",
       "Property_A121                                       -0.6366   0.4530 -1.4053 0.1599 -1.5244  0.2513\n",
       "Property_A122                                       -0.2833   0.4461 -0.6349 0.5255 -1.1576  0.5911\n",
       "Property_A123                                       -0.2635   0.4302 -0.6126 0.5401 -1.1067  0.5796\n",
       "Present_employment_since_A71                         0.2897   0.4022  0.7203 0.4713 -0.4986  1.0781\n",
       "Present_employment_since_A72                         0.1534   0.3273  0.4686 0.6394 -0.4881  0.7948\n",
       "Present_employment_since_A73                         0.1896   0.2776  0.6830 0.4946 -0.3545  0.7337\n",
       "Present_employment_since_A74                        -0.3076   0.3278 -0.9385 0.3480 -0.9500  0.3348\n",
       "Housing_A151                                         0.2009   0.5064  0.3967 0.6916 -0.7916  1.1934\n",
       "Housing_A152                                        -0.3416   0.4803 -0.7112 0.4770 -1.2829  0.5997\n",
       "Other_installment_plans_A141                         0.7211   0.2690  2.6809 0.0073  0.1939  1.2483\n",
       "Other_installment_plans_A142                         0.5466   0.4384  1.2467 0.2125 -0.3127  1.4059\n",
       "Personal_status_and_sex_A91                          0.4998   0.5226  0.9563 0.3389 -0.5245  1.5241\n",
       "Personal_status_and_sex_A92                          0.0181   0.3437  0.0527 0.9580 -0.6555  0.6918\n",
       "Personal_status_and_sex_A93                         -0.4830   0.3432 -1.4074 0.1593 -1.1558  0.1897\n",
       "===================================================================================================\n",
       "\n",
       "\"\"\""
      ]
     },
     "execution_count": 40,
     "metadata": {},
     "output_type": "execute_result"
    }
   ],
   "source": [
    "logistic_model.summary2()"
   ]
  },
  {
   "cell_type": "markdown",
   "metadata": {},
   "source": [
    "가장 무의미한 변수는 P값이 0.9580인 Personal_status_and_sex_A92이다."
   ]
  },
  {
   "cell_type": "markdown",
   "metadata": {},
   "source": [
    "체크하고 변수를 1개씩 제거하고를 반복해야한다."
   ]
  },
  {
   "cell_type": "code",
   "execution_count": 79,
   "metadata": {},
   "outputs": [],
   "source": [
    "# Help 함수\n",
    "def get_unrelated_cols(model, pvalue):\n",
    "    cols = model.pvalues[model.pvalues >= pvalue].keys().tolist()\n",
    "    print(len(cols))\n",
    "    print(cols)\n",
    "    \n",
    "    return cols"
   ]
  },
  {
   "cell_type": "code",
   "execution_count": 42,
   "metadata": {},
   "outputs": [
    {
     "name": "stdout",
     "output_type": "stream",
     "text": [
      "1\n",
      "['Personal_status_and_sex_A92']\n"
     ]
    }
   ],
   "source": [
    "unrelated_cols = get_unrelated_cols(logistic_model, 0.8187)"
   ]
  },
  {
   "cell_type": "markdown",
   "metadata": {},
   "source": [
    "Personal_status_and_sex_A92을 삭제한다."
   ]
  },
  {
   "cell_type": "code",
   "execution_count": 43,
   "metadata": {},
   "outputs": [],
   "source": [
    "unnecesarries.append('Personal_status_and_sex_A92')"
   ]
  },
  {
   "cell_type": "markdown",
   "metadata": {},
   "source": [
    "### (B) 다중공선성\n",
    "테스트와 상관없다고 판단되는 변수들을 제거한후에 다중공선성을 체크합니다. **다중공선성(multicollinearity)** 이란 독립변수들간의 선형관계가 존재하는 것을 나타냅니다. 독립변수 전체의 set에서 하나의 독립변수를 골라 종속변수로 보고, 그 독립변수를 제외한 set을 이용하여 선형회귀분석을 하여 구할 수 있습니다.\n",
    "\n",
    "사실 변수간의 선형관계 알아보기 위해서는 산점도 or 상관계수를 사용해도 되지만 **VIF(분산 팽창 지수, Variance Inflation Factor)** 를 이용하여 구한다."
   ]
  },
  {
   "cell_type": "code",
   "execution_count": 44,
   "metadata": {},
   "outputs": [],
   "source": [
    "def get_max_vif(df, removal_cols):\n",
    "    vifs = []\n",
    "    cnames = df.drop(removal_cols, axis=1).columns.tolist()\n",
    "    for i in range(len(cnames)):\n",
    "        xvar = cnames[:]\n",
    "        yvar = xvar.pop(i)\n",
    "        model = sm.OLS(\n",
    "            df.drop(removal_cols, axis=1)[yvar], \n",
    "            sm.add_constant(df.drop(removal_cols, axis=1)[xvar]))\n",
    "        res = model.fit()\n",
    "        vif = 1 / (1 - res.rsquared)\n",
    "        vifs.append((yvar, round(vif, 3)))\n",
    "    vifs = sorted(vifs, key=operator.itemgetter(1), reverse=True)\n",
    "    return vifs"
   ]
  },
  {
   "cell_type": "code",
   "execution_count": 45,
   "metadata": {},
   "outputs": [],
   "source": [
    "vifs = get_max_vif(train_x, unnecesarries)"
   ]
  },
  {
   "cell_type": "code",
   "execution_count": 46,
   "metadata": {},
   "outputs": [
    {
     "data": {
      "text/plain": [
       "[('Housing_A152', 5.838),\n",
       " ('Property_A123', 4.993),\n",
       " ('Property_A121', 4.77),\n",
       " ('Housing_A151', 4.625),\n",
       " ('Property_A122', 4.274),\n",
       " ('Purpose_A43', 3.161),\n",
       " ('Purpose_A40', 2.983),\n",
       " ('Purpose_A42', 2.607),\n",
       " ('Credit_amount', 2.404),\n",
       " ('Purpose_A41', 2.12),\n",
       " ('Credit_history_A32', 2.011),\n",
       " ('Duration_in_month', 1.974),\n",
       " ('Present_employment_since_A73', 1.922),\n",
       " ('Savings_account_bonds_A61', 1.879),\n",
       " ('Present_employment_since_A72', 1.837),\n",
       " ('Present_employment_since_A74', 1.618),\n",
       " ('Purpose_A46', 1.562),\n",
       " ('Number_of_existing_credits_at_this_bank', 1.556),\n",
       " ('Savings_account_bonds_A62', 1.478),\n",
       " ('Status_of_existing_checking_account_A11', 1.465),\n",
       " ('Age_in_years', 1.457),\n",
       " ('Credit_history_A31', 1.368),\n",
       " ('Status_of_existing_checking_account_A12', 1.363),\n",
       " ('Personal_status_and_sex_A93', 1.336),\n",
       " ('Savings_account_bonds_A63', 1.332),\n",
       " ('Present_residence_since', 1.33),\n",
       " ('Credit_history_A33', 1.325),\n",
       " ('Present_employment_since_A71', 1.314),\n",
       " ('Installment_rate_in_percentage_of_disposable_income', 1.305),\n",
       " ('Savings_account_bonds_A64', 1.267),\n",
       " ('Purpose_A45', 1.259),\n",
       " ('Credit_history_A30', 1.258),\n",
       " ('Purpose_A410', 1.216),\n",
       " ('Purpose_A44', 1.19),\n",
       " ('Status_of_existing_checking_account_A13', 1.14),\n",
       " ('Personal_status_and_sex_A91', 1.135),\n",
       " ('Purpose_A48', 1.134),\n",
       " ('Other_installment_plans_A141', 1.134),\n",
       " ('Other_installment_plans_A142', 1.107)]"
      ]
     },
     "execution_count": 46,
     "metadata": {},
     "output_type": "execute_result"
    }
   ],
   "source": [
    "vifs"
   ]
  },
  {
   "cell_type": "code",
   "execution_count": 47,
   "metadata": {},
   "outputs": [],
   "source": [
    "unnecesarries.append(vifs[0][0])"
   ]
  },
  {
   "cell_type": "code",
   "execution_count": 48,
   "metadata": {},
   "outputs": [
    {
     "data": {
      "text/plain": [
       "['Personal_status_and_sex_A92', 'Housing_A152']"
      ]
     },
     "execution_count": 48,
     "metadata": {},
     "output_type": "execute_result"
    }
   ],
   "source": [
    "unnecesarries"
   ]
  },
  {
   "cell_type": "markdown",
   "metadata": {},
   "source": [
    "무의미한 변수(가장 높은 p-value)는 Personal_status_and_sex_A92였고 pvalue가 0.9580, VIF가 3.302이다.\n",
    "\n",
    "다중공선성이 가장 높았던 변수는 Housing_A152였고 pvalue가 0.4770, VIF가 5.846이다.\n",
    "\n",
    "**무의미한 변수를 먼저 삭제해야하며, 지우기 전에, 두 변수의 pvalue와 VIF를 각각 비교해보는것이 좋다**.\n",
    "\n",
    "확실히 Personal_status_and_sex_A92는 삭제해야 한다."
   ]
  },
  {
   "cell_type": "markdown",
   "metadata": {},
   "source": [
    "모델을 삭제하기 앞서 모델 채택 기준을 살펴봐야한다."
   ]
  },
  {
   "cell_type": "markdown",
   "metadata": {},
   "source": [
    "## 3. 모델 채택 기준\n",
    "### (A) C통계량 (concordance statistics)\n",
    " - 로지스틱 회귀 모델에서 이항 결과의 적합도(goodness of fit)에 관한 품질을 측정하는 척도\n",
    " - ROC curve와 동일하다."
   ]
  },
  {
   "cell_type": "markdown",
   "metadata": {},
   "source": [
    "$$C=Pr[\\pi(B|x_{i}) > \\pi(B|x_{j}) | Y_{i} = 1, Y_{j} = 0]$$\n",
    "$$C 통계량(C 인덱스) = 0.5 + (\\frac{일치쌍 비율 - 불일치쌍 비율}{2})$$"
   ]
  },
  {
   "cell_type": "code",
   "execution_count": 49,
   "metadata": {},
   "outputs": [],
   "source": [
    "def get_c_stat(iv_pred):\n",
    "    noraml_test_df = iv_pred[iv_pred['class'] == 0][['class', 'probs']]\n",
    "    spammer_test_df = iv_pred[iv_pred['class'] == 1][['class', 'probs']]\n",
    "\n",
    "    noraml_test_df['key'] = 0\n",
    "    spammer_test_df['key'] = 0\n",
    "\n",
    "    cross_join_df = noraml_test_df.merge(spammer_test_df, how='outer', on='key').drop('key', axis=1)\n",
    "\n",
    "    cross_join_df['concordance'] = cross_join_df['probs_x'] < cross_join_df['probs_y']\n",
    "    cross_join_df['in_concordance'] = cross_join_df['probs_x'] > cross_join_df['probs_y']\n",
    "    cross_join_df['tie'] = cross_join_df['probs_x'] == cross_join_df['probs_y']\n",
    "\n",
    "    results = cross_join_df.agg({'concordance': np.sum, 'in_concordance': np.sum, 'tie': np.sum}) / len(cross_join_df)\n",
    "    c_stat = 0.5 + (results['concordance'] - results['in_concordance']) / 2\n",
    "    \n",
    "    return c_stat"
   ]
  },
  {
   "cell_type": "markdown",
   "metadata": {},
   "source": [
    "### (B) AIC, Likelihood\n",
    "\n",
    "- $AIC=-2 \\times ln(L) + 2 \\times k$\n",
    "\n",
    "Akaike information criterion는 주어진 데이터 집합에 관해 통계 모델의 상대적 품질을 측정한다. 이 척도는 편향과 분산의 트레이드 오프이다. 더 작은 AIC를 선호한다.\n",
    "\n",
    "- $L = \\Pi_{i=1}^{n}p(x_i)^{y_i}(1-p(x_i))^{1-y_i}$\n",
    "\n",
    "log likelihood는 큰 값을 선호한다."
   ]
  },
  {
   "cell_type": "code",
   "execution_count": 50,
   "metadata": {},
   "outputs": [],
   "source": [
    "def get_aic_value(model):\n",
    "    return -2 * model.llf + 2 * (len(model.params) - 1)"
   ]
  },
  {
   "cell_type": "markdown",
   "metadata": {},
   "source": [
    "> 무의미한 변수를 지우기 전"
   ]
  },
  {
   "cell_type": "code",
   "execution_count": 51,
   "metadata": {},
   "outputs": [
    {
     "name": "stdout",
     "output_type": "stream",
     "text": [
      "c_stat: 0.8230390665013844\n",
      "aic: 816.2537855406207\n",
      "loglikehood: -368.12689277031035\n"
     ]
    }
   ],
   "source": [
    "c_stat, aic = get_c_stat(train_pred), get_aic_value(logistic_model)\n",
    "print('c_stat:', c_stat)\n",
    "print('aic:', aic)\n",
    "print('loglikehood:', logistic_model.llf)"
   ]
  },
  {
   "cell_type": "code",
   "execution_count": 52,
   "metadata": {},
   "outputs": [
    {
     "name": "stdout",
     "output_type": "stream",
     "text": [
      "c_stat: 0.8067075369635773\n",
      "aic: 816.2537855406207\n",
      "loglikehood: -368.12689277031035\n"
     ]
    }
   ],
   "source": [
    "c_stat, aic = get_c_stat(test_pred), get_aic_value(logistic_model)\n",
    "print('c_stat:', c_stat)\n",
    "print('aic:', aic)\n",
    "print('loglikehood:', logistic_model.llf)"
   ]
  },
  {
   "cell_type": "markdown",
   "metadata": {},
   "source": [
    "> 지우고 난 후"
   ]
  },
  {
   "cell_type": "code",
   "execution_count": 53,
   "metadata": {},
   "outputs": [],
   "source": [
    "unnecesarries.extend(['Personal_status_and_sex_A92', 'Housing_A152'])"
   ]
  },
  {
   "cell_type": "code",
   "execution_count": 54,
   "metadata": {},
   "outputs": [
    {
     "name": "stdout",
     "output_type": "stream",
     "text": [
      "Optimization terminated successfully.\n",
      "         Current function value: 0.460475\n",
      "         Iterations 7\n"
     ]
    }
   ],
   "source": [
    "drop_logistic_model = sm.Logit(\n",
    "    train_y,\n",
    "    sm.add_constant(train_x.drop(unnecesarries, axis=1))\n",
    ").fit()"
   ]
  },
  {
   "cell_type": "code",
   "execution_count": 55,
   "metadata": {},
   "outputs": [],
   "source": [
    "train_pred = pd.DataFrame({\n",
    "    'probs': drop_logistic_model.predict(sm.add_constant(train_x.drop(unnecesarries, axis=1))),\n",
    "    'class': train_y\n",
    "})\n",
    "\n",
    "train_pred['y_pred'] = 0\n",
    "train_pred.loc[train_pred['probs'] > 0.5, 'y_pred'] = 1\n",
    "\n",
    "# Test prediction\n",
    "test_pred = pd.DataFrame({\n",
    "    'probs': drop_logistic_model.predict(sm.add_constant(test_x.drop(unnecesarries, axis=1))),\n",
    "    'class': test_y\n",
    "})\n",
    "\n",
    "test_pred['y_pred'] = 0\n",
    "test_pred.loc[test_pred['probs'] > 0.5, 'y_pred'] = 1"
   ]
  },
  {
   "cell_type": "code",
   "execution_count": 56,
   "metadata": {},
   "outputs": [
    {
     "name": "stdout",
     "output_type": "stream",
     "text": [
      "c_stat: 0.8227198836095874\n",
      "aic: 812.7605967161102\n",
      "loglikehood: -368.3802983580551\n"
     ]
    }
   ],
   "source": [
    "c_stat, aic = get_c_stat(train_pred), get_aic_value(drop_logistic_model)\n",
    "print('c_stat:', c_stat)\n",
    "print('aic:', aic)\n",
    "print('loglikehood:', drop_logistic_model.llf)"
   ]
  },
  {
   "cell_type": "code",
   "execution_count": 57,
   "metadata": {},
   "outputs": [
    {
     "name": "stdout",
     "output_type": "stream",
     "text": [
      "c_stat: 0.8101935328765477\n",
      "aic: 812.7605967161102\n",
      "loglikehood: -368.3802983580551\n"
     ]
    }
   ],
   "source": [
    "c_stat, aic = get_c_stat(test_pred), get_aic_value(drop_logistic_model)\n",
    "print('c_stat:', c_stat)\n",
    "print('aic:', aic)\n",
    "print('loglikehood:', drop_logistic_model.llf)"
   ]
  },
  {
   "cell_type": "code",
   "execution_count": 58,
   "metadata": {},
   "outputs": [
    {
     "data": {
      "text/html": [
       "<table class=\"simpletable\">\n",
       "<tr>\n",
       "        <td>Model:</td>              <td>Logit</td>      <td>Pseudo R-squared:</td>    <td>0.247</td>  \n",
       "</tr>\n",
       "<tr>\n",
       "  <td>Dependent Variable:</td>      <td>Target</td>            <td>AIC:</td>         <td>814.7606</td> \n",
       "</tr>\n",
       "<tr>\n",
       "         <td>Date:</td>        <td>2019-06-17 23:08</td>       <td>BIC:</td>         <td>997.4605</td> \n",
       "</tr>\n",
       "<tr>\n",
       "   <td>No. Observations:</td>         <td>800</td>        <td>Log-Likelihood:</td>    <td>-368.38</td> \n",
       "</tr>\n",
       "<tr>\n",
       "       <td>Df Model:</td>             <td>38</td>            <td>LL-Null:</td>        <td>-489.54</td> \n",
       "</tr>\n",
       "<tr>\n",
       "     <td>Df Residuals:</td>           <td>761</td>         <td>LLR p-value:</td>    <td>1.3990e-31</td>\n",
       "</tr>\n",
       "<tr>\n",
       "      <td>Converged:</td>           <td>1.0000</td>           <td>Scale:</td>         <td>1.0000</td>  \n",
       "</tr>\n",
       "<tr>\n",
       "    <td>No. Iterations:</td>        <td>7.0000</td>              <td></td>               <td></td>     \n",
       "</tr>\n",
       "</table>\n",
       "<table class=\"simpletable\">\n",
       "<tr>\n",
       "                           <td></td>                            <th>Coef.</th>  <th>Std.Err.</th>    <th>z</th>     <th>P>|z|</th> <th>[0.025</th>  <th>0.975]</th> \n",
       "</tr>\n",
       "<tr>\n",
       "  <th>const</th>                                               <td>-3.8574</td>  <td>0.9727</td>  <td>-3.9656</td> <td>0.0001</td> <td>-5.7638</td> <td>-1.9509</td>\n",
       "</tr>\n",
       "<tr>\n",
       "  <th>Duration_in_month</th>                                   <td>0.0231</td>   <td>0.0101</td>  <td>2.2787</td>  <td>0.0227</td> <td>0.0032</td>  <td>0.0429</td> \n",
       "</tr>\n",
       "<tr>\n",
       "  <th>Credit_amount</th>                                       <td>0.0001</td>   <td>0.0000</td>  <td>2.4931</td>  <td>0.0127</td> <td>0.0000</td>  <td>0.0002</td> \n",
       "</tr>\n",
       "<tr>\n",
       "  <th>Age_in_years</th>                                        <td>-0.0306</td>  <td>0.0103</td>  <td>-2.9737</td> <td>0.0029</td> <td>-0.0508</td> <td>-0.0104</td>\n",
       "</tr>\n",
       "<tr>\n",
       "  <th>Number_of_existing_credits_at_this_bank</th>             <td>0.3431</td>   <td>0.2072</td>  <td>1.6559</td>  <td>0.0977</td> <td>-0.0630</td> <td>0.7492</td> \n",
       "</tr>\n",
       "<tr>\n",
       "  <th>Installment_rate_in_percentage_of_disposable_income</th> <td>0.3180</td>   <td>0.0944</td>  <td>3.3681</td>  <td>0.0008</td> <td>0.1330</td>  <td>0.5031</td> \n",
       "</tr>\n",
       "<tr>\n",
       "  <th>Present_residence_since</th>                             <td>0.0415</td>   <td>0.0935</td>  <td>0.4440</td>  <td>0.6570</td> <td>-0.1417</td> <td>0.2248</td> \n",
       "</tr>\n",
       "<tr>\n",
       "  <th>Status_of_existing_checking_account_A11</th>             <td>1.5561</td>   <td>0.2523</td>  <td>6.1684</td>  <td>0.0000</td> <td>1.0617</td>  <td>2.0506</td> \n",
       "</tr>\n",
       "<tr>\n",
       "  <th>Status_of_existing_checking_account_A12</th>             <td>1.1076</td>   <td>0.2469</td>  <td>4.4869</td>  <td>0.0000</td> <td>0.6238</td>  <td>1.5915</td> \n",
       "</tr>\n",
       "<tr>\n",
       "  <th>Status_of_existing_checking_account_A13</th>             <td>0.5488</td>   <td>0.4351</td>  <td>1.2612</td>  <td>0.2072</td> <td>-0.3041</td> <td>1.4016</td> \n",
       "</tr>\n",
       "<tr>\n",
       "  <th>Credit_history_A30</th>                                  <td>1.5543</td>   <td>0.4713</td>  <td>3.2982</td>  <td>0.0010</td> <td>0.6307</td>  <td>2.4780</td> \n",
       "</tr>\n",
       "<tr>\n",
       "  <th>Credit_history_A31</th>                                  <td>1.4789</td>   <td>0.4809</td>  <td>3.0756</td>  <td>0.0021</td> <td>0.5365</td>  <td>2.4214</td> \n",
       "</tr>\n",
       "<tr>\n",
       "  <th>Credit_history_A32</th>                                  <td>0.8853</td>   <td>0.2813</td>  <td>3.1471</td>  <td>0.0016</td> <td>0.3340</td>  <td>1.4367</td> \n",
       "</tr>\n",
       "<tr>\n",
       "  <th>Credit_history_A33</th>                                  <td>0.5490</td>   <td>0.3686</td>  <td>1.4893</td>  <td>0.1364</td> <td>-0.1735</td> <td>1.2715</td> \n",
       "</tr>\n",
       "<tr>\n",
       "  <th>Savings_account_bonds_A61</th>                           <td>0.6956</td>   <td>0.2737</td>  <td>2.5413</td>  <td>0.0110</td> <td>0.1591</td>  <td>1.2321</td> \n",
       "</tr>\n",
       "<tr>\n",
       "  <th>Savings_account_bonds_A62</th>                           <td>0.5991</td>   <td>0.3697</td>  <td>1.6203</td>  <td>0.1052</td> <td>-0.1256</td> <td>1.3237</td> \n",
       "</tr>\n",
       "<tr>\n",
       "  <th>Savings_account_bonds_A63</th>                           <td>0.2976</td>   <td>0.4698</td>  <td>0.6335</td>  <td>0.5264</td> <td>-0.6231</td> <td>1.2183</td> \n",
       "</tr>\n",
       "<tr>\n",
       "  <th>Savings_account_bonds_A64</th>                           <td>-0.2150</td>  <td>0.5863</td>  <td>-0.3668</td> <td>0.7138</td> <td>-1.3641</td> <td>0.9340</td> \n",
       "</tr>\n",
       "<tr>\n",
       "  <th>Purpose_A40</th>                                         <td>0.6528</td>   <td>0.3596</td>  <td>1.8154</td>  <td>0.0695</td> <td>-0.0520</td> <td>1.3576</td> \n",
       "</tr>\n",
       "<tr>\n",
       "  <th>Purpose_A41</th>                                         <td>-0.9272</td>  <td>0.4621</td>  <td>-2.0067</td> <td>0.0448</td> <td>-1.8329</td> <td>-0.0216</td>\n",
       "</tr>\n",
       "<tr>\n",
       "  <th>Purpose_A410</th>                                        <td>-0.6423</td>  <td>0.8345</td>  <td>-0.7698</td> <td>0.4414</td> <td>-2.2779</td> <td>0.9932</td> \n",
       "</tr>\n",
       "<tr>\n",
       "  <th>Purpose_A42</th>                                         <td>-0.2835</td>  <td>0.3841</td>  <td>-0.7380</td> <td>0.4605</td> <td>-1.0364</td> <td>0.4694</td> \n",
       "</tr>\n",
       "<tr>\n",
       "  <th>Purpose_A43</th>                                         <td>-0.3321</td>  <td>0.3613</td>  <td>-0.9192</td> <td>0.3580</td> <td>-1.0402</td> <td>0.3760</td> \n",
       "</tr>\n",
       "<tr>\n",
       "  <th>Purpose_A44</th>                                         <td>0.1707</td>   <td>0.8124</td>  <td>0.2102</td>  <td>0.8335</td> <td>-1.4216</td> <td>1.7630</td> \n",
       "</tr>\n",
       "<tr>\n",
       "  <th>Purpose_A45</th>                                         <td>0.2766</td>   <td>0.6279</td>  <td>0.4406</td>  <td>0.6595</td> <td>-0.9540</td> <td>1.5073</td> \n",
       "</tr>\n",
       "<tr>\n",
       "  <th>Purpose_A46</th>                                         <td>0.9581</td>   <td>0.5227</td>  <td>1.8327</td>  <td>0.0668</td> <td>-0.0665</td> <td>1.9826</td> \n",
       "</tr>\n",
       "<tr>\n",
       "  <th>Purpose_A48</th>                                         <td>-1.2385</td>  <td>1.2279</td>  <td>-1.0086</td> <td>0.3132</td> <td>-3.6451</td> <td>1.1682</td> \n",
       "</tr>\n",
       "<tr>\n",
       "  <th>Property_A121</th>                                       <td>-0.8475</td>  <td>0.3403</td>  <td>-2.4908</td> <td>0.0127</td> <td>-1.5144</td> <td>-0.1806</td>\n",
       "</tr>\n",
       "<tr>\n",
       "  <th>Property_A122</th>                                       <td>-0.5012</td>  <td>0.3230</td>  <td>-1.5515</td> <td>0.1208</td> <td>-1.1342</td> <td>0.1319</td> \n",
       "</tr>\n",
       "<tr>\n",
       "  <th>Property_A123</th>                                       <td>-0.4812</td>  <td>0.3012</td>  <td>-1.5973</td> <td>0.1102</td> <td>-1.0716</td> <td>0.1092</td> \n",
       "</tr>\n",
       "<tr>\n",
       "  <th>Present_employment_since_A71</th>                        <td>0.3068</td>   <td>0.4011</td>  <td>0.7649</td>  <td>0.4444</td> <td>-0.4793</td> <td>1.0929</td> \n",
       "</tr>\n",
       "<tr>\n",
       "  <th>Present_employment_since_A72</th>                        <td>0.1538</td>   <td>0.3268</td>  <td>0.4706</td>  <td>0.6380</td> <td>-0.4867</td> <td>0.7943</td> \n",
       "</tr>\n",
       "<tr>\n",
       "  <th>Present_employment_since_A73</th>                        <td>0.1967</td>   <td>0.2771</td>  <td>0.7097</td>  <td>0.4779</td> <td>-0.3464</td> <td>0.7398</td> \n",
       "</tr>\n",
       "<tr>\n",
       "  <th>Present_employment_since_A74</th>                        <td>-0.3067</td>  <td>0.3273</td>  <td>-0.9372</td> <td>0.3487</td> <td>-0.9482</td> <td>0.3348</td> \n",
       "</tr>\n",
       "<tr>\n",
       "  <th>Housing_A151</th>                                        <td>0.5122</td>   <td>0.2563</td>  <td>1.9984</td>  <td>0.0457</td> <td>0.0099</td>  <td>1.0146</td> \n",
       "</tr>\n",
       "<tr>\n",
       "  <th>Other_installment_plans_A141</th>                        <td>0.7157</td>   <td>0.2689</td>  <td>2.6619</td>  <td>0.0078</td> <td>0.1887</td>  <td>1.2427</td> \n",
       "</tr>\n",
       "<tr>\n",
       "  <th>Other_installment_plans_A142</th>                        <td>0.5353</td>   <td>0.4381</td>  <td>1.2218</td>  <td>0.2218</td> <td>-0.3234</td> <td>1.3939</td> \n",
       "</tr>\n",
       "<tr>\n",
       "  <th>Personal_status_and_sex_A91</th>                         <td>0.4805</td>   <td>0.4459</td>  <td>1.0775</td>  <td>0.2813</td> <td>-0.3935</td> <td>1.3544</td> \n",
       "</tr>\n",
       "<tr>\n",
       "  <th>Personal_status_and_sex_A93</th>                         <td>-0.4934</td>  <td>0.2122</td>  <td>-2.3255</td> <td>0.0200</td> <td>-0.9092</td> <td>-0.0776</td>\n",
       "</tr>\n",
       "</table>"
      ],
      "text/plain": [
       "<class 'statsmodels.iolib.summary2.Summary'>\n",
       "\"\"\"\n",
       "                                          Results: Logit\n",
       "===================================================================================================\n",
       "Model:                          Logit                       Pseudo R-squared:            0.247     \n",
       "Dependent Variable:             Target                      AIC:                         814.7606  \n",
       "Date:                           2019-06-17 23:08            BIC:                         997.4605  \n",
       "No. Observations:               800                         Log-Likelihood:              -368.38   \n",
       "Df Model:                       38                          LL-Null:                     -489.54   \n",
       "Df Residuals:                   761                         LLR p-value:                 1.3990e-31\n",
       "Converged:                      1.0000                      Scale:                       1.0000    \n",
       "No. Iterations:                 7.0000                                                             \n",
       "---------------------------------------------------------------------------------------------------\n",
       "                                                     Coef.  Std.Err.    z    P>|z|   [0.025  0.975]\n",
       "---------------------------------------------------------------------------------------------------\n",
       "const                                               -3.8574   0.9727 -3.9656 0.0001 -5.7638 -1.9509\n",
       "Duration_in_month                                    0.0231   0.0101  2.2787 0.0227  0.0032  0.0429\n",
       "Credit_amount                                        0.0001   0.0000  2.4931 0.0127  0.0000  0.0002\n",
       "Age_in_years                                        -0.0306   0.0103 -2.9737 0.0029 -0.0508 -0.0104\n",
       "Number_of_existing_credits_at_this_bank              0.3431   0.2072  1.6559 0.0977 -0.0630  0.7492\n",
       "Installment_rate_in_percentage_of_disposable_income  0.3180   0.0944  3.3681 0.0008  0.1330  0.5031\n",
       "Present_residence_since                              0.0415   0.0935  0.4440 0.6570 -0.1417  0.2248\n",
       "Status_of_existing_checking_account_A11              1.5561   0.2523  6.1684 0.0000  1.0617  2.0506\n",
       "Status_of_existing_checking_account_A12              1.1076   0.2469  4.4869 0.0000  0.6238  1.5915\n",
       "Status_of_existing_checking_account_A13              0.5488   0.4351  1.2612 0.2072 -0.3041  1.4016\n",
       "Credit_history_A30                                   1.5543   0.4713  3.2982 0.0010  0.6307  2.4780\n",
       "Credit_history_A31                                   1.4789   0.4809  3.0756 0.0021  0.5365  2.4214\n",
       "Credit_history_A32                                   0.8853   0.2813  3.1471 0.0016  0.3340  1.4367\n",
       "Credit_history_A33                                   0.5490   0.3686  1.4893 0.1364 -0.1735  1.2715\n",
       "Savings_account_bonds_A61                            0.6956   0.2737  2.5413 0.0110  0.1591  1.2321\n",
       "Savings_account_bonds_A62                            0.5991   0.3697  1.6203 0.1052 -0.1256  1.3237\n",
       "Savings_account_bonds_A63                            0.2976   0.4698  0.6335 0.5264 -0.6231  1.2183\n",
       "Savings_account_bonds_A64                           -0.2150   0.5863 -0.3668 0.7138 -1.3641  0.9340\n",
       "Purpose_A40                                          0.6528   0.3596  1.8154 0.0695 -0.0520  1.3576\n",
       "Purpose_A41                                         -0.9272   0.4621 -2.0067 0.0448 -1.8329 -0.0216\n",
       "Purpose_A410                                        -0.6423   0.8345 -0.7698 0.4414 -2.2779  0.9932\n",
       "Purpose_A42                                         -0.2835   0.3841 -0.7380 0.4605 -1.0364  0.4694\n",
       "Purpose_A43                                         -0.3321   0.3613 -0.9192 0.3580 -1.0402  0.3760\n",
       "Purpose_A44                                          0.1707   0.8124  0.2102 0.8335 -1.4216  1.7630\n",
       "Purpose_A45                                          0.2766   0.6279  0.4406 0.6595 -0.9540  1.5073\n",
       "Purpose_A46                                          0.9581   0.5227  1.8327 0.0668 -0.0665  1.9826\n",
       "Purpose_A48                                         -1.2385   1.2279 -1.0086 0.3132 -3.6451  1.1682\n",
       "Property_A121                                       -0.8475   0.3403 -2.4908 0.0127 -1.5144 -0.1806\n",
       "Property_A122                                       -0.5012   0.3230 -1.5515 0.1208 -1.1342  0.1319\n",
       "Property_A123                                       -0.4812   0.3012 -1.5973 0.1102 -1.0716  0.1092\n",
       "Present_employment_since_A71                         0.3068   0.4011  0.7649 0.4444 -0.4793  1.0929\n",
       "Present_employment_since_A72                         0.1538   0.3268  0.4706 0.6380 -0.4867  0.7943\n",
       "Present_employment_since_A73                         0.1967   0.2771  0.7097 0.4779 -0.3464  0.7398\n",
       "Present_employment_since_A74                        -0.3067   0.3273 -0.9372 0.3487 -0.9482  0.3348\n",
       "Housing_A151                                         0.5122   0.2563  1.9984 0.0457  0.0099  1.0146\n",
       "Other_installment_plans_A141                         0.7157   0.2689  2.6619 0.0078  0.1887  1.2427\n",
       "Other_installment_plans_A142                         0.5353   0.4381  1.2218 0.2218 -0.3234  1.3939\n",
       "Personal_status_and_sex_A91                          0.4805   0.4459  1.0775 0.2813 -0.3935  1.3544\n",
       "Personal_status_and_sex_A93                         -0.4934   0.2122 -2.3255 0.0200 -0.9092 -0.0776\n",
       "===================================================================================================\n",
       "\n",
       "\"\"\""
      ]
     },
     "execution_count": 58,
     "metadata": {},
     "output_type": "execute_result"
    }
   ],
   "source": [
    "drop_logistic_model.summary2()"
   ]
  },
  {
   "cell_type": "markdown",
   "metadata": {},
   "source": [
    "## 4. 무의미한 변수와 다중공선성이 있는 변수가 없을때까지 반복한다. (기준은 C통계량, AIC, Likelihood)"
   ]
  },
  {
   "cell_type": "markdown",
   "metadata": {},
   "source": [
    "원래는 이 과정을 각각 변수를 확인하면서, 변수를 하나씩 제거해야 한다. 하지만 시간 관계상.."
   ]
  },
  {
   "cell_type": "markdown",
   "metadata": {},
   "source": [
    "#### Step 1. Pvalue"
   ]
  },
  {
   "cell_type": "code",
   "execution_count": 59,
   "metadata": {},
   "outputs": [
    {
     "name": "stdout",
     "output_type": "stream",
     "text": [
      "6\n",
      "['Present_residence_since', 'Savings_account_bonds_A63', 'Savings_account_bonds_A64', 'Purpose_A44', 'Purpose_A45', 'Present_employment_since_A72']\n"
     ]
    }
   ],
   "source": [
    "# Pvalue를 확인하고, 상한선을 구한다.\n",
    "unrelated_cols = get_unrelated_cols(drop_logistic_model, 0.5)"
   ]
  },
  {
   "cell_type": "code",
   "execution_count": 60,
   "metadata": {},
   "outputs": [],
   "source": [
    "unnecesarries.extend(unrelated_cols)"
   ]
  },
  {
   "cell_type": "markdown",
   "metadata": {},
   "source": [
    "#### Step 2. VIF"
   ]
  },
  {
   "cell_type": "code",
   "execution_count": 61,
   "metadata": {},
   "outputs": [],
   "source": [
    "vifs = get_max_vif(train_x, unnecesarries)"
   ]
  },
  {
   "cell_type": "code",
   "execution_count": 62,
   "metadata": {},
   "outputs": [
    {
     "data": {
      "text/plain": [
       "[('Property_A121', 2.58),\n",
       " ('Property_A123', 2.487),\n",
       " ('Purpose_A43', 2.431),\n",
       " ('Credit_amount', 2.354),\n",
       " ('Purpose_A40', 2.32),\n",
       " ('Property_A122', 2.283),\n",
       " ('Purpose_A42', 2.111),\n",
       " ('Credit_history_A32', 1.977),\n",
       " ('Duration_in_month', 1.947),\n",
       " ('Purpose_A41', 1.79)]"
      ]
     },
     "execution_count": 62,
     "metadata": {},
     "output_type": "execute_result"
    }
   ],
   "source": [
    "vifs[:10]"
   ]
  },
  {
   "cell_type": "code",
   "execution_count": 63,
   "metadata": {},
   "outputs": [],
   "source": [
    "unnecesarries.extend([elem[0] for elem in vifs[:10]])"
   ]
  },
  {
   "cell_type": "code",
   "execution_count": 64,
   "metadata": {},
   "outputs": [
    {
     "name": "stdout",
     "output_type": "stream",
     "text": [
      "Optimization terminated successfully.\n",
      "         Current function value: 0.506885\n",
      "         Iterations 6\n"
     ]
    }
   ],
   "source": [
    "drop_logistic_model = sm.Logit(\n",
    "    train_y,\n",
    "    sm.add_constant(train_x.drop(unnecesarries, axis=1))\n",
    ").fit()"
   ]
  },
  {
   "cell_type": "code",
   "execution_count": 65,
   "metadata": {},
   "outputs": [],
   "source": [
    "train_pred = pd.DataFrame({\n",
    "    'probs': drop_logistic_model.predict(sm.add_constant(train_x.drop(unnecesarries, axis=1))),\n",
    "    'class': train_y\n",
    "})\n",
    "\n",
    "train_pred['y_pred'] = 0\n",
    "train_pred.loc[train_pred['probs'] > 0.5, 'y_pred'] = 1\n",
    "\n",
    "# Test prediction\n",
    "test_pred = pd.DataFrame({\n",
    "    'probs': drop_logistic_model.predict(sm.add_constant(test_x.drop(unnecesarries, axis=1))),\n",
    "    'class': test_y\n",
    "})\n",
    "\n",
    "test_pred['y_pred'] = 0\n",
    "test_pred.loc[test_pred['probs'] > 0.5, 'y_pred'] = 1"
   ]
  },
  {
   "cell_type": "code",
   "execution_count": 66,
   "metadata": {},
   "outputs": [
    {
     "name": "stdout",
     "output_type": "stream",
     "text": [
      "c_stat: 0.7741112983320838\n",
      "aic: 855.0167324752877\n",
      "loglikehood: -405.5083662376438\n"
     ]
    }
   ],
   "source": [
    "c_stat, aic = get_c_stat(train_pred), get_aic_value(drop_logistic_model)\n",
    "print('c_stat:', c_stat)\n",
    "print('aic:', aic)\n",
    "print('loglikehood:', drop_logistic_model.llf)"
   ]
  },
  {
   "cell_type": "code",
   "execution_count": 67,
   "metadata": {},
   "outputs": [
    {
     "name": "stdout",
     "output_type": "stream",
     "text": [
      "c_stat: 0.7756941940137035\n",
      "aic: 855.0167324752877\n",
      "loglikehood: -405.5083662376438\n"
     ]
    }
   ],
   "source": [
    "c_stat, aic = get_c_stat(test_pred), get_aic_value(drop_logistic_model)\n",
    "print('c_stat:', c_stat)\n",
    "print('aic:', aic)\n",
    "print('loglikehood:', drop_logistic_model.llf)"
   ]
  },
  {
   "cell_type": "code",
   "execution_count": 68,
   "metadata": {},
   "outputs": [
    {
     "data": {
      "text/html": [
       "<table class=\"simpletable\">\n",
       "<tr>\n",
       "        <td>Model:</td>              <td>Logit</td>      <td>Pseudo R-squared:</td>    <td>0.172</td>  \n",
       "</tr>\n",
       "<tr>\n",
       "  <td>Dependent Variable:</td>      <td>Target</td>            <td>AIC:</td>         <td>857.0167</td> \n",
       "</tr>\n",
       "<tr>\n",
       "         <td>Date:</td>        <td>2019-06-17 23:08</td>       <td>BIC:</td>         <td>964.7628</td> \n",
       "</tr>\n",
       "<tr>\n",
       "   <td>No. Observations:</td>         <td>800</td>        <td>Log-Likelihood:</td>    <td>-405.51</td> \n",
       "</tr>\n",
       "<tr>\n",
       "       <td>Df Model:</td>             <td>22</td>            <td>LL-Null:</td>        <td>-489.54</td> \n",
       "</tr>\n",
       "<tr>\n",
       "     <td>Df Residuals:</td>           <td>777</td>         <td>LLR p-value:</td>    <td>1.7623e-24</td>\n",
       "</tr>\n",
       "<tr>\n",
       "      <td>Converged:</td>           <td>1.0000</td>           <td>Scale:</td>         <td>1.0000</td>  \n",
       "</tr>\n",
       "<tr>\n",
       "    <td>No. Iterations:</td>        <td>6.0000</td>              <td></td>               <td></td>     \n",
       "</tr>\n",
       "</table>\n",
       "<table class=\"simpletable\">\n",
       "<tr>\n",
       "                           <td></td>                            <th>Coef.</th>  <th>Std.Err.</th>    <th>z</th>     <th>P>|z|</th> <th>[0.025</th>  <th>0.975]</th> \n",
       "</tr>\n",
       "<tr>\n",
       "  <th>const</th>                                               <td>-2.1483</td>  <td>0.5231</td>  <td>-4.1067</td> <td>0.0000</td> <td>-3.1737</td> <td>-1.1230</td>\n",
       "</tr>\n",
       "<tr>\n",
       "  <th>Age_in_years</th>                                        <td>-0.0256</td>  <td>0.0087</td>  <td>-2.9609</td> <td>0.0031</td> <td>-0.0426</td> <td>-0.0087</td>\n",
       "</tr>\n",
       "<tr>\n",
       "  <th>Number_of_existing_credits_at_this_bank</th>             <td>-0.0049</td>  <td>0.1631</td>  <td>-0.0303</td> <td>0.9758</td> <td>-0.3245</td> <td>0.3146</td> \n",
       "</tr>\n",
       "<tr>\n",
       "  <th>Installment_rate_in_percentage_of_disposable_income</th> <td>0.1913</td>   <td>0.0806</td>  <td>2.3732</td>  <td>0.0176</td> <td>0.0333</td>  <td>0.3494</td> \n",
       "</tr>\n",
       "<tr>\n",
       "  <th>Status_of_existing_checking_account_A11</th>             <td>1.6818</td>   <td>0.2321</td>  <td>7.2451</td>  <td>0.0000</td> <td>1.2268</td>  <td>2.1367</td> \n",
       "</tr>\n",
       "<tr>\n",
       "  <th>Status_of_existing_checking_account_A12</th>             <td>1.2142</td>   <td>0.2300</td>  <td>5.2782</td>  <td>0.0000</td> <td>0.7633</td>  <td>1.6650</td> \n",
       "</tr>\n",
       "<tr>\n",
       "  <th>Status_of_existing_checking_account_A13</th>             <td>0.4189</td>   <td>0.4152</td>  <td>1.0090</td>  <td>0.3130</td> <td>-0.3948</td> <td>1.2326</td> \n",
       "</tr>\n",
       "<tr>\n",
       "  <th>Credit_history_A30</th>                                  <td>1.4395</td>   <td>0.4109</td>  <td>3.5034</td>  <td>0.0005</td> <td>0.6342</td>  <td>2.2449</td> \n",
       "</tr>\n",
       "<tr>\n",
       "  <th>Credit_history_A31</th>                                  <td>1.0135</td>   <td>0.3945</td>  <td>2.5689</td>  <td>0.0102</td> <td>0.2402</td>  <td>1.7868</td> \n",
       "</tr>\n",
       "<tr>\n",
       "  <th>Credit_history_A33</th>                                  <td>0.3081</td>   <td>0.3093</td>  <td>0.9960</td>  <td>0.3193</td> <td>-0.2982</td> <td>0.9143</td> \n",
       "</tr>\n",
       "<tr>\n",
       "  <th>Savings_account_bonds_A61</th>                           <td>0.5528</td>   <td>0.2132</td>  <td>2.5935</td>  <td>0.0095</td> <td>0.1350</td>  <td>0.9706</td> \n",
       "</tr>\n",
       "<tr>\n",
       "  <th>Savings_account_bonds_A62</th>                           <td>0.6598</td>   <td>0.3173</td>  <td>2.0793</td>  <td>0.0376</td> <td>0.0379</td>  <td>1.2817</td> \n",
       "</tr>\n",
       "<tr>\n",
       "  <th>Purpose_A410</th>                                        <td>0.0894</td>   <td>0.6874</td>  <td>0.1301</td>  <td>0.8965</td> <td>-1.2578</td> <td>1.4367</td> \n",
       "</tr>\n",
       "<tr>\n",
       "  <th>Purpose_A46</th>                                         <td>1.1777</td>   <td>0.3936</td>  <td>2.9919</td>  <td>0.0028</td> <td>0.4062</td>  <td>1.9492</td> \n",
       "</tr>\n",
       "<tr>\n",
       "  <th>Purpose_A48</th>                                         <td>-1.6748</td>  <td>1.2032</td>  <td>-1.3919</td> <td>0.1639</td> <td>-4.0330</td> <td>0.6835</td> \n",
       "</tr>\n",
       "<tr>\n",
       "  <th>Present_employment_since_A71</th>                        <td>0.3893</td>   <td>0.3416</td>  <td>1.1397</td>  <td>0.2544</td> <td>-0.2802</td> <td>1.0589</td> \n",
       "</tr>\n",
       "<tr>\n",
       "  <th>Present_employment_since_A73</th>                        <td>0.0832</td>   <td>0.2046</td>  <td>0.4069</td>  <td>0.6841</td> <td>-0.3177</td> <td>0.4842</td> \n",
       "</tr>\n",
       "<tr>\n",
       "  <th>Present_employment_since_A74</th>                        <td>-0.2333</td>  <td>0.2595</td>  <td>-0.8990</td> <td>0.3686</td> <td>-0.7420</td> <td>0.2754</td> \n",
       "</tr>\n",
       "<tr>\n",
       "  <th>Housing_A151</th>                                        <td>0.4031</td>   <td>0.2296</td>  <td>1.7556</td>  <td>0.0791</td> <td>-0.0469</td> <td>0.8531</td> \n",
       "</tr>\n",
       "<tr>\n",
       "  <th>Other_installment_plans_A141</th>                        <td>0.6645</td>   <td>0.2541</td>  <td>2.6149</td>  <td>0.0089</td> <td>0.1664</td>  <td>1.1625</td> \n",
       "</tr>\n",
       "<tr>\n",
       "  <th>Other_installment_plans_A142</th>                        <td>0.4337</td>   <td>0.4208</td>  <td>1.0306</td>  <td>0.3027</td> <td>-0.3911</td> <td>1.2585</td> \n",
       "</tr>\n",
       "<tr>\n",
       "  <th>Personal_status_and_sex_A91</th>                         <td>0.4378</td>   <td>0.4224</td>  <td>1.0365</td>  <td>0.3000</td> <td>-0.3900</td> <td>1.2657</td> \n",
       "</tr>\n",
       "<tr>\n",
       "  <th>Personal_status_and_sex_A93</th>                         <td>-0.2726</td>  <td>0.1908</td>  <td>-1.4281</td> <td>0.1533</td> <td>-0.6466</td> <td>0.1015</td> \n",
       "</tr>\n",
       "</table>"
      ],
      "text/plain": [
       "<class 'statsmodels.iolib.summary2.Summary'>\n",
       "\"\"\"\n",
       "                                          Results: Logit\n",
       "===================================================================================================\n",
       "Model:                          Logit                       Pseudo R-squared:            0.172     \n",
       "Dependent Variable:             Target                      AIC:                         857.0167  \n",
       "Date:                           2019-06-17 23:08            BIC:                         964.7628  \n",
       "No. Observations:               800                         Log-Likelihood:              -405.51   \n",
       "Df Model:                       22                          LL-Null:                     -489.54   \n",
       "Df Residuals:                   777                         LLR p-value:                 1.7623e-24\n",
       "Converged:                      1.0000                      Scale:                       1.0000    \n",
       "No. Iterations:                 6.0000                                                             \n",
       "---------------------------------------------------------------------------------------------------\n",
       "                                                     Coef.  Std.Err.    z    P>|z|   [0.025  0.975]\n",
       "---------------------------------------------------------------------------------------------------\n",
       "const                                               -2.1483   0.5231 -4.1067 0.0000 -3.1737 -1.1230\n",
       "Age_in_years                                        -0.0256   0.0087 -2.9609 0.0031 -0.0426 -0.0087\n",
       "Number_of_existing_credits_at_this_bank             -0.0049   0.1631 -0.0303 0.9758 -0.3245  0.3146\n",
       "Installment_rate_in_percentage_of_disposable_income  0.1913   0.0806  2.3732 0.0176  0.0333  0.3494\n",
       "Status_of_existing_checking_account_A11              1.6818   0.2321  7.2451 0.0000  1.2268  2.1367\n",
       "Status_of_existing_checking_account_A12              1.2142   0.2300  5.2782 0.0000  0.7633  1.6650\n",
       "Status_of_existing_checking_account_A13              0.4189   0.4152  1.0090 0.3130 -0.3948  1.2326\n",
       "Credit_history_A30                                   1.4395   0.4109  3.5034 0.0005  0.6342  2.2449\n",
       "Credit_history_A31                                   1.0135   0.3945  2.5689 0.0102  0.2402  1.7868\n",
       "Credit_history_A33                                   0.3081   0.3093  0.9960 0.3193 -0.2982  0.9143\n",
       "Savings_account_bonds_A61                            0.5528   0.2132  2.5935 0.0095  0.1350  0.9706\n",
       "Savings_account_bonds_A62                            0.6598   0.3173  2.0793 0.0376  0.0379  1.2817\n",
       "Purpose_A410                                         0.0894   0.6874  0.1301 0.8965 -1.2578  1.4367\n",
       "Purpose_A46                                          1.1777   0.3936  2.9919 0.0028  0.4062  1.9492\n",
       "Purpose_A48                                         -1.6748   1.2032 -1.3919 0.1639 -4.0330  0.6835\n",
       "Present_employment_since_A71                         0.3893   0.3416  1.1397 0.2544 -0.2802  1.0589\n",
       "Present_employment_since_A73                         0.0832   0.2046  0.4069 0.6841 -0.3177  0.4842\n",
       "Present_employment_since_A74                        -0.2333   0.2595 -0.8990 0.3686 -0.7420  0.2754\n",
       "Housing_A151                                         0.4031   0.2296  1.7556 0.0791 -0.0469  0.8531\n",
       "Other_installment_plans_A141                         0.6645   0.2541  2.6149 0.0089  0.1664  1.1625\n",
       "Other_installment_plans_A142                         0.4337   0.4208  1.0306 0.3027 -0.3911  1.2585\n",
       "Personal_status_and_sex_A91                          0.4378   0.4224  1.0365 0.3000 -0.3900  1.2657\n",
       "Personal_status_and_sex_A93                         -0.2726   0.1908 -1.4281 0.1533 -0.6466  0.1015\n",
       "===================================================================================================\n",
       "\n",
       "\"\"\""
      ]
     },
     "execution_count": 68,
     "metadata": {},
     "output_type": "execute_result"
    }
   ],
   "source": [
    "drop_logistic_model.summary2()"
   ]
  },
  {
   "cell_type": "code",
   "execution_count": 69,
   "metadata": {},
   "outputs": [
    {
     "name": "stdout",
     "output_type": "stream",
     "text": [
      "Train Confusion matrix:\n"
     ]
    },
    {
     "data": {
      "text/html": [
       "<div>\n",
       "<style scoped>\n",
       "    .dataframe tbody tr th:only-of-type {\n",
       "        vertical-align: middle;\n",
       "    }\n",
       "\n",
       "    .dataframe tbody tr th {\n",
       "        vertical-align: top;\n",
       "    }\n",
       "\n",
       "    .dataframe thead th {\n",
       "        text-align: right;\n",
       "    }\n",
       "</style>\n",
       "<table border=\"1\" class=\"dataframe\">\n",
       "  <thead>\n",
       "    <tr style=\"text-align: right;\">\n",
       "      <th>Actual</th>\n",
       "      <th>0</th>\n",
       "      <th>1</th>\n",
       "      <th>All</th>\n",
       "    </tr>\n",
       "    <tr>\n",
       "      <th>Predict</th>\n",
       "      <th></th>\n",
       "      <th></th>\n",
       "      <th></th>\n",
       "    </tr>\n",
       "  </thead>\n",
       "  <tbody>\n",
       "    <tr>\n",
       "      <th>0</th>\n",
       "      <td>504</td>\n",
       "      <td>150</td>\n",
       "      <td>654</td>\n",
       "    </tr>\n",
       "    <tr>\n",
       "      <th>1</th>\n",
       "      <td>55</td>\n",
       "      <td>91</td>\n",
       "      <td>146</td>\n",
       "    </tr>\n",
       "    <tr>\n",
       "      <th>All</th>\n",
       "      <td>559</td>\n",
       "      <td>241</td>\n",
       "      <td>800</td>\n",
       "    </tr>\n",
       "  </tbody>\n",
       "</table>\n",
       "</div>"
      ],
      "text/plain": [
       "Actual     0    1  All\n",
       "Predict               \n",
       "0        504  150  654\n",
       "1         55   91  146\n",
       "All      559  241  800"
      ]
     },
     "metadata": {},
     "output_type": "display_data"
    }
   ],
   "source": [
    "print('Train Confusion matrix:')\n",
    "display(pd.crosstab(train_pred['y_pred'], train_pred['class'], rownames=['Predict'], colnames=['Actual'], margins=True))"
   ]
  },
  {
   "cell_type": "code",
   "execution_count": 70,
   "metadata": {},
   "outputs": [
    {
     "name": "stdout",
     "output_type": "stream",
     "text": [
      "Test Confusion matrix:\n"
     ]
    },
    {
     "data": {
      "text/html": [
       "<div>\n",
       "<style scoped>\n",
       "    .dataframe tbody tr th:only-of-type {\n",
       "        vertical-align: middle;\n",
       "    }\n",
       "\n",
       "    .dataframe tbody tr th {\n",
       "        vertical-align: top;\n",
       "    }\n",
       "\n",
       "    .dataframe thead th {\n",
       "        text-align: right;\n",
       "    }\n",
       "</style>\n",
       "<table border=\"1\" class=\"dataframe\">\n",
       "  <thead>\n",
       "    <tr style=\"text-align: right;\">\n",
       "      <th>Actual</th>\n",
       "      <th>0</th>\n",
       "      <th>1</th>\n",
       "      <th>All</th>\n",
       "    </tr>\n",
       "    <tr>\n",
       "      <th>Predict</th>\n",
       "      <th></th>\n",
       "      <th></th>\n",
       "      <th></th>\n",
       "    </tr>\n",
       "  </thead>\n",
       "  <tbody>\n",
       "    <tr>\n",
       "      <th>0</th>\n",
       "      <td>122</td>\n",
       "      <td>34</td>\n",
       "      <td>156</td>\n",
       "    </tr>\n",
       "    <tr>\n",
       "      <th>1</th>\n",
       "      <td>19</td>\n",
       "      <td>25</td>\n",
       "      <td>44</td>\n",
       "    </tr>\n",
       "    <tr>\n",
       "      <th>All</th>\n",
       "      <td>141</td>\n",
       "      <td>59</td>\n",
       "      <td>200</td>\n",
       "    </tr>\n",
       "  </tbody>\n",
       "</table>\n",
       "</div>"
      ],
      "text/plain": [
       "Actual     0   1  All\n",
       "Predict              \n",
       "0        122  34  156\n",
       "1         19  25   44\n",
       "All      141  59  200"
      ]
     },
     "metadata": {},
     "output_type": "display_data"
    }
   ],
   "source": [
    "print('Test Confusion matrix:')\n",
    "display(pd.crosstab(test_pred['y_pred'], test_pred['class'], rownames=['Predict'], colnames=['Actual'], margins=True))"
   ]
  },
  {
   "cell_type": "markdown",
   "metadata": {},
   "source": [
    "## 5. ROC curve, AUC\n",
    " - ROC = FPR vs TPR(Recall) 의 비율\n",
    " - AUC = ROC 곡선 아래의 면적"
   ]
  },
  {
   "cell_type": "code",
   "execution_count": 71,
   "metadata": {},
   "outputs": [],
   "source": [
    "import matplotlib.pyplot as plt\n",
    "from sklearn import metrics\n",
    "from sklearn.metrics import auc\n",
    "\n",
    "plt.rcParams[\"figure.figsize\"] = (7,7)"
   ]
  },
  {
   "cell_type": "code",
   "execution_count": 72,
   "metadata": {},
   "outputs": [],
   "source": [
    "fpr, tpr, thresholds = metrics.roc_curve(train_pred['class'], train_pred['probs'], pos_label=1)"
   ]
  },
  {
   "cell_type": "code",
   "execution_count": 73,
   "metadata": {},
   "outputs": [],
   "source": [
    "roc_auc = auc(fpr, tpr)"
   ]
  },
  {
   "cell_type": "code",
   "execution_count": 74,
   "metadata": {},
   "outputs": [
    {
     "data": {
      "image/png": "[encoded data removed]",
      "text/plain": [
       "<Figure size 504x504 with 1 Axes>"
      ]
     },
     "metadata": {
      "needs_background": "light"
     },
     "output_type": "display_data"
    }
   ],
   "source": [
    "plt.figure()\n",
    "lw = 2\n",
    "plt.plot(fpr, tpr, color='darkorange', lw=lw, label='ROC curve (area = %0.4f)' % roc_auc)\n",
    "plt.plot([0, 1], [0, 1], color='navy', lw=lw, linestyle='--')\n",
    "plt.xlim(0, 1)\n",
    "plt.ylim(0, 1)\n",
    "plt.xlabel('False Postive Ratio')\n",
    "plt.ylabel('True Postive Ratio(Recall)')\n",
    "plt.title('ROC curve')\n",
    "plt.legend(loc='lower right')\n",
    "plt.show()"
   ]
  },
  {
   "cell_type": "markdown",
   "metadata": {},
   "source": [
    "## 6. 결정경계"
   ]
  },
  {
   "cell_type": "code",
   "execution_count": 75,
   "metadata": {},
   "outputs": [
    {
     "name": "stdout",
     "output_type": "stream",
     "text": [
      "Threshold 0.0 Train accuracy: 0.3012\n",
      "Threshold 0.1 Train accuracy: 0.4625\n",
      "Threshold 0.2 Train accuracy: 0.63\n",
      "Threshold 0.3 Train accuracy: 0.6975\n",
      "Threshold 0.4 Train accuracy: 0.735\n",
      "Threshold 0.5 Train accuracy: 0.7438\n",
      "Threshold 0.6 Train accuracy: 0.74\n",
      "Threshold 0.7 Train accuracy: 0.7275\n",
      "Threshold 0.8 Train accuracy: 0.715\n",
      "Threshold 0.9 Train accuracy: 0.7\n"
     ]
    }
   ],
   "source": [
    "for i in np.arange(0, 1, 0.1):\n",
    "    train_pred['y_pred'] = 0\n",
    "    train_pred.loc[train_pred['probs'] > i, 'y_pred'] = 1\n",
    "    acc = round(accuracy_score(train_pred['class'], train_pred['y_pred']), 4)\n",
    "    print(\"Threshold\", round(i,1), \"Train accuracy:\",acc)"
   ]
  },
  {
   "cell_type": "code",
   "execution_count": 76,
   "metadata": {},
   "outputs": [
    {
     "name": "stdout",
     "output_type": "stream",
     "text": [
      "Threshold 0.0 Test accuracy: 0.295\n",
      "Threshold 0.1 Test accuracy: 0.455\n",
      "Threshold 0.2 Test accuracy: 0.625\n",
      "Threshold 0.3 Test accuracy: 0.675\n",
      "Threshold 0.4 Test accuracy: 0.725\n",
      "Threshold 0.5 Test accuracy: 0.735\n",
      "Threshold 0.6 Test accuracy: 0.735\n",
      "Threshold 0.7 Test accuracy: 0.72\n",
      "Threshold 0.8 Test accuracy: 0.705\n",
      "Threshold 0.9 Test accuracy: 0.71\n"
     ]
    }
   ],
   "source": [
    "for i in np.arange(0, 1, 0.1):\n",
    "    test_pred['y_pred'] = 0\n",
    "    test_pred.loc[test_pred['probs'] > i, 'y_pred'] = 1\n",
    "    acc = round(accuracy_score(test_pred['class'], test_pred['y_pred']), 4)\n",
    "    print(\"Threshold\", round(i,1), \"Test accuracy:\",acc)"
   ]
  },
  {
   "cell_type": "code",
   "execution_count": 77,
   "metadata": {},
   "outputs": [],
   "source": [
    "# Test prediction\n",
    "test_pred = pd.DataFrame({\n",
    "    'probs': drop_logistic_model.predict(sm.add_constant(test_x.drop(unnecesarries, axis=1))),\n",
    "    'class': test_y\n",
    "})\n",
    "\n",
    "test_pred['y_pred'] = 0\n",
    "test_pred.loc[test_pred['probs'] > 0.4, 'y_pred'] = 1"
   ]
  },
  {
   "cell_type": "code",
   "execution_count": 78,
   "metadata": {},
   "outputs": [
    {
     "name": "stdout",
     "output_type": "stream",
     "text": [
      "Test Confusion matrix:\n"
     ]
    },
    {
     "data": {
      "text/html": [
       "<div>\n",
       "<style scoped>\n",
       "    .dataframe tbody tr th:only-of-type {\n",
       "        vertical-align: middle;\n",
       "    }\n",
       "\n",
       "    .dataframe tbody tr th {\n",
       "        vertical-align: top;\n",
       "    }\n",
       "\n",
       "    .dataframe thead th {\n",
       "        text-align: right;\n",
       "    }\n",
       "</style>\n",
       "<table border=\"1\" class=\"dataframe\">\n",
       "  <thead>\n",
       "    <tr style=\"text-align: right;\">\n",
       "      <th>Actual</th>\n",
       "      <th>0</th>\n",
       "      <th>1</th>\n",
       "      <th>All</th>\n",
       "    </tr>\n",
       "    <tr>\n",
       "      <th>Predict</th>\n",
       "      <th></th>\n",
       "      <th></th>\n",
       "      <th></th>\n",
       "    </tr>\n",
       "  </thead>\n",
       "  <tbody>\n",
       "    <tr>\n",
       "      <th>0</th>\n",
       "      <td>106</td>\n",
       "      <td>20</td>\n",
       "      <td>126</td>\n",
       "    </tr>\n",
       "    <tr>\n",
       "      <th>1</th>\n",
       "      <td>35</td>\n",
       "      <td>39</td>\n",
       "      <td>74</td>\n",
       "    </tr>\n",
       "    <tr>\n",
       "      <th>All</th>\n",
       "      <td>141</td>\n",
       "      <td>59</td>\n",
       "      <td>200</td>\n",
       "    </tr>\n",
       "  </tbody>\n",
       "</table>\n",
       "</div>"
      ],
      "text/plain": [
       "Actual     0   1  All\n",
       "Predict              \n",
       "0        106  20  126\n",
       "1         35  39   74\n",
       "All      141  59  200"
      ]
     },
     "metadata": {},
     "output_type": "display_data"
    }
   ],
   "source": [
    "print('Test Confusion matrix:')\n",
    "display(pd.crosstab(test_pred['y_pred'], test_pred['class'], rownames=['Predict'], colnames=['Actual'], margins=True))"
   ]
  }
 ],
 "metadata": {
  "kernelspec": {
   "display_name": "Python 3",
   "language": "python",
   "name": "python3"
  },
  "language_info": {
   "codemirror_mode": {
    "name": "ipython",
    "version": 3
   },
   "file_extension": ".py",
   "mimetype": "text/x-python",
   "name": "python",
   "nbconvert_exporter": "python",
   "pygments_lexer": "ipython3",
   "version": "3.7.0"
  }
 },
 "nbformat": 4,
 "nbformat_minor": 2
}
