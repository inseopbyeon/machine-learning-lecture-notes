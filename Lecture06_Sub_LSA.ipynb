{
 "cells": [
  {
   "cell_type": "code",
   "execution_count": 5,
   "metadata": {},
   "outputs": [],
   "source": [
    "import warnings\n",
    "warnings.filterwarnings('ignore')"
   ]
  },
  {
   "cell_type": "markdown",
   "metadata": {},
   "source": [
    "# Eigenvector 구하기 (고유 분해)\n",
    "고유값과 고유벡터를 찾는 작업을 eigen decomposition이라고도 한다."
   ]
  },
  {
   "cell_type": "code",
   "execution_count": 12,
   "metadata": {},
   "outputs": [],
   "source": [
    "import numpy as np"
   ]
  },
  {
   "cell_type": "code",
   "execution_count": 14,
   "metadata": {},
   "outputs": [
    {
     "name": "stdout",
     "output_type": "stream",
     "text": [
      "[[1 2 3]\n",
      " [4 5 6]\n",
      " [7 8 9]]\n"
     ]
    },
    {
     "data": {
      "text/plain": [
       "array([5., 1.])"
      ]
     },
     "metadata": {},
     "output_type": "display_data"
    },
    {
     "data": {
      "text/plain": [
       "array([[ 0.70710678, -0.70710678],\n",
       "       [ 0.70710678,  0.70710678]])"
      ]
     },
     "metadata": {},
     "output_type": "display_data"
    },
    {
     "data": {
      "text/plain": [
       "array([1., 1.])"
      ]
     },
     "execution_count": 14,
     "metadata": {},
     "output_type": "execute_result"
    }
   ],
   "source": [
    "A = np.array([[1, 2, 3], [4, 5, 6], [7, 8, 9]])\n",
    "\n",
    "print(A)\n",
    "\n",
    "B= np.array([[3,2],[2,3]])\n",
    "apple,banana = np.linalg.eig(B)\n",
    "display(apple, banana)\n",
    "np.sum(banana**2,axis=0)"
   ]
  },
  {
   "cell_type": "markdown",
   "metadata": {},
   "source": [
    "> `numpy.linalg` 라이브러리의 `eig` 사용"
   ]
  },
  {
   "cell_type": "markdown",
   "metadata": {},
   "source": [
    "numpy에서 고유벡터는 행이 아닌, **열을 고유벡터로 가진다.**"
   ]
  },
  {
   "cell_type": "code",
   "execution_count": 8,
   "metadata": {},
   "outputs": [
    {
     "data": {
      "text/plain": [
       "(array([ 1.61168440e+01, -1.11684397e+00, -1.30367773e-15]),\n",
       " array([[-0.23197069, -0.78583024,  0.40824829],\n",
       "        [-0.52532209, -0.08675134, -0.81649658],\n",
       "        [-0.8186735 ,  0.61232756,  0.40824829]]))"
      ]
     },
     "execution_count": 8,
     "metadata": {},
     "output_type": "execute_result"
    }
   ],
   "source": [
    "np.linalg.eig(A)"
   ]
  },
  {
   "cell_type": "markdown",
   "metadata": {},
   "source": [
    "## 1. Eigenvector는 unit vector이다. (크기가 1인 단위 벡터)"
   ]
  },
  {
   "cell_type": "code",
   "execution_count": 9,
   "metadata": {},
   "outputs": [
    {
     "data": {
      "text/plain": [
       "array([[0.0538104 , 0.61752916, 0.16666667],\n",
       "       [0.2759633 , 0.00752579, 0.66666667],\n",
       "       [0.6702263 , 0.37494504, 0.16666667]])"
      ]
     },
     "execution_count": 9,
     "metadata": {},
     "output_type": "execute_result"
    }
   ],
   "source": [
    "eigen_val, eigen_vec = np.linalg.eig(A)\n",
    "eigen_vec ** 2"
   ]
  },
  {
   "cell_type": "code",
   "execution_count": 10,
   "metadata": {},
   "outputs": [
    {
     "data": {
      "text/plain": [
       "array([1., 1., 1.])"
      ]
     },
     "execution_count": 10,
     "metadata": {},
     "output_type": "execute_result"
    }
   ],
   "source": [
    "# 각 vector의 길이가 1이다.\n",
    "np.sum(eigen_vec ** 2, axis=0)"
   ]
  },
  {
   "cell_type": "markdown",
   "metadata": {},
   "source": [
    "## 2. Eigenvector는 Symmetric matrix 일 때만 orthogonal 하다."
   ]
  },
  {
   "cell_type": "code",
   "execution_count": 11,
   "metadata": {},
   "outputs": [
    {
     "data": {
      "text/plain": [
       "-0.27343437080986494"
      ]
     },
     "execution_count": 11,
     "metadata": {},
     "output_type": "execute_result"
    }
   ],
   "source": [
    "# A는 symmetric이 아니다.\n",
    "np.dot(eigen_vec[:,0], eigen_vec[:,1])"
   ]
  },
  {
   "cell_type": "code",
   "execution_count": 8,
   "metadata": {},
   "outputs": [],
   "source": [
    "# B는 symmetric 이다.\n",
    "B = np.array([[1, -2], [-2, 1]])\n",
    "b1, b2 = np.linalg.eig(B)"
   ]
  },
  {
   "cell_type": "code",
   "execution_count": 9,
   "metadata": {},
   "outputs": [
    {
     "data": {
      "text/plain": [
       "array([[ 0.70710678,  0.70710678],\n",
       "       [-0.70710678,  0.70710678]])"
      ]
     },
     "execution_count": 9,
     "metadata": {},
     "output_type": "execute_result"
    }
   ],
   "source": [
    "b2"
   ]
  },
  {
   "cell_type": "code",
   "execution_count": 10,
   "metadata": {},
   "outputs": [
    {
     "data": {
      "text/plain": [
       "0.0"
      ]
     },
     "execution_count": 10,
     "metadata": {},
     "output_type": "execute_result"
    }
   ],
   "source": [
    "np.dot(b2[:,0], b2[:,1])"
   ]
  },
  {
   "cell_type": "markdown",
   "metadata": {},
   "source": [
    "---\n",
    "*(예제)*\n",
    "다음 행렬의 고유값, 고유벡터를 구하라.\n",
    "\n",
    "\\begin{equation*}\n",
    "\\begin{bmatrix}\n",
    "2 & 3 \\\\\n",
    "2 & 1 \\\\\n",
    "\\end{bmatrix}\n",
    "\\end{equation*}\n",
    "\n",
    "\\begin{equation*}\n",
    "\\begin{bmatrix}\n",
    "1 & 1 \\\\\n",
    "0 & 1 \\\\\n",
    "\\end{bmatrix}\n",
    "\\end{equation*}\n",
    "\n",
    "---"
   ]
  },
  {
   "cell_type": "markdown",
   "metadata": {},
   "source": [
    "## 3. 대각화 \n",
    "\n",
    "- 대각화는 정방행렬에서 존재함을 기억하라.\n",
    "- 행렬이 대각화가능하려면 고유벡터는 선형독립이어야 한다.\n",
    "- **대칭행렬**은 대각화가능하다.\n",
    "$$A=V \\Sigma V^{-1}$$"
   ]
  },
  {
   "cell_type": "code",
   "execution_count": 11,
   "metadata": {},
   "outputs": [],
   "source": [
    "C = np.array([[1,2,3],[2,4,5],[3,5,6]])"
   ]
  },
  {
   "cell_type": "code",
   "execution_count": 12,
   "metadata": {},
   "outputs": [],
   "source": [
    "eigen_val, eigen_vec = np.linalg.eig(C)"
   ]
  },
  {
   "cell_type": "code",
   "execution_count": 13,
   "metadata": {},
   "outputs": [
    {
     "data": {
      "text/plain": [
       "array([[-0.32798528, -0.73697623,  0.59100905],\n",
       "       [-0.59100905, -0.32798528, -0.73697623],\n",
       "       [-0.73697623,  0.59100905,  0.32798528]])"
      ]
     },
     "execution_count": 13,
     "metadata": {},
     "output_type": "execute_result"
    }
   ],
   "source": [
    "eigen_vec"
   ]
  },
  {
   "cell_type": "code",
   "execution_count": 14,
   "metadata": {},
   "outputs": [
    {
     "data": {
      "text/plain": [
       "array([11.34481428, -0.51572947,  0.17091519])"
      ]
     },
     "execution_count": 14,
     "metadata": {},
     "output_type": "execute_result"
    }
   ],
   "source": [
    "eigen_val"
   ]
  },
  {
   "cell_type": "code",
   "execution_count": 15,
   "metadata": {},
   "outputs": [
    {
     "data": {
      "text/plain": [
       "array([[1., 2., 3.],\n",
       "       [2., 4., 5.],\n",
       "       [3., 5., 6.]])"
      ]
     },
     "execution_count": 15,
     "metadata": {},
     "output_type": "execute_result"
    }
   ],
   "source": [
    "eigen_vec.dot(np.diag(eigen_val)).dot(np.linalg.inv(eigen_vec))"
   ]
  },
  {
   "cell_type": "markdown",
   "metadata": {},
   "source": [
    "---"
   ]
  },
  {
   "cell_type": "markdown",
   "metadata": {},
   "source": [
    "# Latent Semantic Analysis"
   ]
  },
  {
   "cell_type": "markdown",
   "metadata": {},
   "source": [
    "(예제) 다음과 같이 document와 query가 주어졌다.\n",
    "\n",
    "$d_1$ : Romeo and Juliet.\n",
    "\n",
    "$d_2$ : Juliet: O happy dagger!\n",
    "\n",
    "$d_3$ : Romeo died by dagger.\n",
    "\n",
    "$d_4$ : \"Live free or die\", that's the motto of New-Hampshire \n",
    "\n",
    "$d_5$ : Did you know, New-Hampshire is in New-England\n",
    "\n",
    "$Query$ : dies and dagger"
   ]
  },
  {
   "cell_type": "code",
   "execution_count": 16,
   "metadata": {},
   "outputs": [],
   "source": [
    "# Matrix를 생성하기 위하여, index의 고정이 필요하고, 이를 위해서 순서를 정확히 보장하기 위해 OrderDict을 사용한다.\n",
    "from collections import OrderedDict\n",
    "\n",
    "# Corpus (단어 전체 셋)을 생성\n",
    "corpus = OrderedDict(\n",
    "    {'romeo': 0, 'juliet': 1, 'happy': 2, 'dagger': 3, 'live': 4, 'die': 5, 'free': 6, 'new-hampshire': 7}\n",
    ")"
   ]
  },
  {
   "cell_type": "code",
   "execution_count": 17,
   "metadata": {},
   "outputs": [],
   "source": [
    "d1 = 'Romeo and Juliet.'\n",
    "d2 = 'Juliet: O happy dagger!'\n",
    "d3 = 'Romeo die by dagger.'  # 주의! 원래는 과거형이므로 died를 써야하나, 형태소분석기 과정을 거치지 않을 것이므로, 그냥 평서문을 사용한다.\n",
    "d4 = \"'Live free or die', that's the motto of New-Hampshire\"\n",
    "d5 = 'Did you know, New-Hampshire is in New-England'\n",
    "\n",
    "docs = [d1, d2, d3, d4, d5]"
   ]
  },
  {
   "cell_type": "markdown",
   "metadata": {},
   "source": [
    "## 1. Document-Word matrix 생성"
   ]
  },
  {
   "cell_type": "markdown",
   "metadata": {},
   "source": [
    "### 1.1. 전처리 (Python 진영에서는 전문적인 형태소분석기 konlpy를 사용하면 된다.)"
   ]
  },
  {
   "cell_type": "code",
   "execution_count": 19,
   "metadata": {},
   "outputs": [
    {
     "data": {
      "text/plain": [
       "['Romeo', 'and', 'Juliet.']"
      ]
     },
     "execution_count": 19,
     "metadata": {},
     "output_type": "execute_result"
    }
   ],
   "source": [
    "# 각 문서를 빈 여백을 기준으로 나눈다.\n",
    "d1_tokens = d1.split(' ')\n",
    "d1_tokens"
   ]
  },
  {
   "cell_type": "code",
   "execution_count": 20,
   "metadata": {},
   "outputs": [
    {
     "data": {
      "text/plain": [
       "['romeo', 'and', 'juliet.']"
      ]
     },
     "execution_count": 20,
     "metadata": {},
     "output_type": "execute_result"
    }
   ],
   "source": [
    "# 대소문자의 구분을 없앤다.\n",
    "d1_tokens = map(str.lower, d1_tokens)  # 또는 [s.lower for s in d1_tokens]를 사용\n",
    "d1_tokens = list(d1_tokens)\n",
    "d1_tokens"
   ]
  },
  {
   "cell_type": "code",
   "execution_count": 21,
   "metadata": {},
   "outputs": [],
   "source": [
    "import re"
   ]
  },
  {
   "cell_type": "code",
   "execution_count": 8,
   "metadata": {},
   "outputs": [
    {
     "data": {
      "text/plain": [
       "['romeo', 'and', 'juliet']"
      ]
     },
     "execution_count": 8,
     "metadata": {},
     "output_type": "execute_result"
    }
   ],
   "source": [
    "# '-'를 제외한 구두점만 제거한다. (아주 간단하게)\n",
    "d1_tokens = [re.sub(r'[^a-zA-Z0-9-]', '', token) for token in d1_tokens]\n",
    "d1_tokens"
   ]
  },
  {
   "cell_type": "markdown",
   "metadata": {},
   "source": [
    "---\n",
    "\n",
    "(Advanced)"
   ]
  },
  {
   "cell_type": "code",
   "execution_count": 9,
   "metadata": {},
   "outputs": [
    {
     "name": "stdout",
     "output_type": "stream",
     "text": [
      "!\"#$%&'()*+,-./:;<=>?@[\\]^_`{|}~\n"
     ]
    },
    {
     "data": {
      "text/plain": [
       "'teststringwowgood'"
      ]
     },
     "execution_count": 9,
     "metadata": {},
     "output_type": "execute_result"
    }
   ],
   "source": [
    "# 구두점을 제거하는 방법은 다음과 같이 하면 된다.\n",
    "import string\n",
    "print(string.punctuation)\n",
    "\n",
    "s = 'test-string,wow.good!'\n",
    "translator=str.maketrans('','',string.punctuation)\n",
    "s.translate(translator)"
   ]
  },
  {
   "cell_type": "code",
   "execution_count": 10,
   "metadata": {},
   "outputs": [
    {
     "data": {
      "text/plain": [
       "'asd-'"
      ]
     },
     "execution_count": 10,
     "metadata": {},
     "output_type": "execute_result"
    }
   ],
   "source": [
    "# a-z and A-Z and 0-9 and -를 제외한(^) 단어는 empty string과 교체한다.\n",
    "re.sub(r'[^a-zA-Z0-9-]', '','asd-')"
   ]
  },
  {
   "cell_type": "markdown",
   "metadata": {},
   "source": [
    "---"
   ]
  },
  {
   "cell_type": "code",
   "execution_count": 25,
   "metadata": {},
   "outputs": [],
   "source": [
    "# 함수로 정의한다.\n",
    "def parse_document(doc):\n",
    "    tokens = doc.split(' ')\n",
    "    tokens = map(str.lower, tokens)\n",
    "    tokens = list(tokens)\n",
    "    tokens = [re.sub(r'[^a-zA-Z0-9-]', '', token) for token in tokens]\n",
    "    \n",
    "    return tokens"
   ]
  },
  {
   "cell_type": "code",
   "execution_count": 26,
   "metadata": {},
   "outputs": [
    {
     "name": "stdout",
     "output_type": "stream",
     "text": [
      "['romeo', 'and', 'juliet.']\n",
      "['juliet', 'o', 'happy', 'dagger']\n",
      "['romeo', 'die', 'by', 'dagger']\n",
      "['live', 'free', 'or', 'die', 'thats', 'the', 'motto', 'of', 'new-hampshire']\n",
      "['did', 'you', 'know', 'new-hampshire', 'is', 'in', 'new-england']\n"
     ]
    }
   ],
   "source": [
    "# 사실 이 과정에서, 과거형은 현재형으로, 축약형 that's는 that is로 변경해주는 등\n",
    "# \"형태소 분석\" 과정이 필요하나 그것은 NLP 전처리 과정에 속함으로 우선은 여기까지만 작업한다.\n",
    "d2_tokens = parse_document(d2)\n",
    "d3_tokens = parse_document(d3)\n",
    "d4_tokens = parse_document(d4)\n",
    "d5_tokens = parse_document(d5)\n",
    "\n",
    "print(d1_tokens)\n",
    "print(d2_tokens)\n",
    "print(d3_tokens)\n",
    "print(d4_tokens)\n",
    "print(d5_tokens)"
   ]
  },
  {
   "cell_type": "markdown",
   "metadata": {},
   "source": [
    "### 1.2. Document vector를 생성한다."
   ]
  },
  {
   "cell_type": "code",
   "execution_count": 27,
   "metadata": {},
   "outputs": [
    {
     "name": "stdout",
     "output_type": "stream",
     "text": [
      "['romeo', 'and', 'juliet.']\n"
     ]
    }
   ],
   "source": [
    "print(d1_tokens)"
   ]
  },
  {
   "cell_type": "code",
   "execution_count": 28,
   "metadata": {},
   "outputs": [
    {
     "name": "stdout",
     "output_type": "stream",
     "text": [
      "romeo 0\n",
      "juliet 1\n",
      "happy 2\n",
      "dagger 3\n",
      "live 4\n",
      "die 5\n",
      "free 6\n",
      "new-hampshire 7\n"
     ]
    }
   ],
   "source": [
    "# 먼저 corpus내의 iterator 내용을 확인하자.\n",
    "for v, i in corpus.items():\n",
    "    print(v, i)"
   ]
  },
  {
   "cell_type": "markdown",
   "metadata": {},
   "source": [
    "#### <font color=red>Document를 구성하는 vector의 길이는 corpus의 길이와 같다.</font>"
   ]
  },
  {
   "cell_type": "code",
   "execution_count": 29,
   "metadata": {},
   "outputs": [
    {
     "data": {
      "text/plain": [
       "odict_values([0, 1, 2, 3, 4, 5, 6, 7])"
      ]
     },
     "execution_count": 29,
     "metadata": {},
     "output_type": "execute_result"
    }
   ],
   "source": [
    "corpus.values()"
   ]
  },
  {
   "cell_type": "markdown",
   "metadata": {},
   "source": [
    "- 첫번째 문장 `Romeo and Juliet`은,\n",
    "\n",
    "- 전처리 후 `romeo, juliet` tokens가 되며,\n",
    "\n",
    "- 전체 corpus을 entry로 가진 vector `romeo juliet (hayyp:없음) (dagger:없음) (live:없음) (die:없음) (free:없음) (new-hampshire:없음)`에 대응되고,\n",
    "\n",
    "- 최종적으로 document vector `1 1 0 0 0 0`에 대응된다."
   ]
  },
  {
   "cell_type": "code",
   "execution_count": 30,
   "metadata": {},
   "outputs": [
    {
     "data": {
      "text/plain": [
       "[1, 0, 0, 0, 0, 0, 0, 0]"
      ]
     },
     "execution_count": 30,
     "metadata": {},
     "output_type": "execute_result"
    }
   ],
   "source": [
    "# d1 vector를 생성해보자.\n",
    "d1_vec = []\n",
    "for v, i in corpus.items():\n",
    "    if v in d1_tokens:\n",
    "        d1_vec.append(1)\n",
    "    else:\n",
    "        d1_vec.append(0)\n",
    "d1_vec"
   ]
  },
  {
   "cell_type": "code",
   "execution_count": 31,
   "metadata": {},
   "outputs": [],
   "source": [
    "# Document vector를 생성하는 코드를 함수로 바꿔보자.\n",
    "def get_doc_vector(tokens):\n",
    "    doc_vec = [1 if v in tokens else 0 for v, i in corpus.items()]\n",
    "    return doc_vec"
   ]
  },
  {
   "cell_type": "code",
   "execution_count": 32,
   "metadata": {},
   "outputs": [
    {
     "name": "stdout",
     "output_type": "stream",
     "text": [
      "[1, 0, 0, 0, 0, 0, 0, 0]\n",
      "[0, 1, 1, 1, 0, 0, 0, 0]\n",
      "[1, 0, 0, 1, 0, 1, 0, 0]\n",
      "[0, 0, 0, 0, 1, 1, 1, 1]\n",
      "[0, 0, 0, 0, 0, 0, 0, 1]\n"
     ]
    }
   ],
   "source": [
    "d2_vec = get_doc_vector(d2_tokens)\n",
    "d3_vec = get_doc_vector(d3_tokens)\n",
    "d4_vec = get_doc_vector(d4_tokens)\n",
    "d5_vec = get_doc_vector(d5_tokens)\n",
    "\n",
    "print(d1_vec)\n",
    "print(d2_vec)\n",
    "print(d3_vec)\n",
    "print(d4_vec)\n",
    "print(d5_vec)"
   ]
  },
  {
   "cell_type": "markdown",
   "metadata": {},
   "source": [
    "### 1.3. Document-Word matrix를 생성한다."
   ]
  },
  {
   "cell_type": "code",
   "execution_count": 33,
   "metadata": {},
   "outputs": [
    {
     "data": {
      "text/plain": [
       "array([[1, 0, 0, 0, 0, 0, 0, 0],\n",
       "       [0, 1, 1, 1, 0, 0, 0, 0],\n",
       "       [1, 0, 0, 1, 0, 1, 0, 0],\n",
       "       [0, 0, 0, 0, 1, 1, 1, 1],\n",
       "       [0, 0, 0, 0, 0, 0, 0, 1]])"
      ]
     },
     "execution_count": 33,
     "metadata": {},
     "output_type": "execute_result"
    }
   ],
   "source": [
    "# 최종 matrix Word-Document matrix\n",
    "A = np.array([d1_vec, d2_vec, d3_vec, d4_vec, d5_vec])\n",
    "A"
   ]
  },
  {
   "cell_type": "markdown",
   "metadata": {},
   "source": [
    "## 2. Doc-Doc matrix 와 Word-Word matrix를 생성한다."
   ]
  },
  {
   "cell_type": "markdown",
   "metadata": {},
   "source": [
    "### 2.1. Doc-Doc matrix $AA^T$ :  문서 $i$와 문서 $j$가 $b$개의 공통 단어를 가지고 있으면 $B[i, j]=b$"
   ]
  },
  {
   "cell_type": "code",
   "execution_count": 35,
   "metadata": {},
   "outputs": [
    {
     "data": {
      "text/plain": [
       "array([[1, 0, 1, 0, 0],\n",
       "       [0, 3, 1, 0, 0],\n",
       "       [1, 1, 3, 1, 0],\n",
       "       [0, 0, 1, 4, 1],\n",
       "       [0, 0, 0, 1, 1]])"
      ]
     },
     "execution_count": 35,
     "metadata": {},
     "output_type": "execute_result"
    }
   ],
   "source": [
    "doc_mat = np.dot(A, A.T)\n",
    "doc_mat"
   ]
  },
  {
   "cell_type": "markdown",
   "metadata": {},
   "source": [
    "### 2.2. Word-Word matrix $A^TA$ : 단어 $i$와 단어 $j$가 문서 $c$개 에서 함께 발생했으면 $C[i,j]=c$"
   ]
  },
  {
   "cell_type": "code",
   "execution_count": 36,
   "metadata": {},
   "outputs": [
    {
     "data": {
      "text/plain": [
       "array([[2, 0, 0, 1, 0, 1, 0, 0],\n",
       "       [0, 1, 1, 1, 0, 0, 0, 0],\n",
       "       [0, 1, 1, 1, 0, 0, 0, 0],\n",
       "       [1, 1, 1, 2, 0, 1, 0, 0],\n",
       "       [0, 0, 0, 0, 1, 1, 1, 1],\n",
       "       [1, 0, 0, 1, 1, 2, 1, 1],\n",
       "       [0, 0, 0, 0, 1, 1, 1, 1],\n",
       "       [0, 0, 0, 0, 1, 1, 1, 2]])"
      ]
     },
     "execution_count": 36,
     "metadata": {},
     "output_type": "execute_result"
    }
   ],
   "source": [
    "word_mat = np.dot(A.T, A)\n",
    "word_mat"
   ]
  },
  {
   "cell_type": "markdown",
   "metadata": {},
   "source": [
    "## 3. SVD(Singular Value Decomposition)"
   ]
  },
  {
   "cell_type": "markdown",
   "metadata": {},
   "source": [
    "### $$A=U \\Sigma V^T$$"
   ]
  },
  {
   "cell_type": "code",
   "execution_count": 37,
   "metadata": {},
   "outputs": [],
   "source": [
    "U, sig, V_T = np.linalg.svd(A)"
   ]
  },
  {
   "cell_type": "markdown",
   "metadata": {},
   "source": [
    "### 3.1. $U$의 컬럼은 $AA^T$의 고유벡터들이다."
   ]
  },
  {
   "cell_type": "code",
   "execution_count": 39,
   "metadata": {},
   "outputs": [
    {
     "data": {
      "text/plain": [
       "array([[ 0.1420201 , -0.15926724,  0.44478434, -0.43991404, -0.7504044 ],\n",
       "       [ 0.28217347, -0.66423004, -0.6686015 , -0.05143154, -0.17176556],\n",
       "       [ 0.57186359, -0.41900149,  0.53419662,  0.11648122,  0.44550631],\n",
       "       [ 0.73476714,  0.55918788, -0.20299317,  0.22754103, -0.23333456],\n",
       "       [ 0.18247656,  0.21255368, -0.16901676, -0.85935303,  0.39302536]])"
      ]
     },
     "execution_count": 39,
     "metadata": {},
     "output_type": "execute_result"
    }
   ],
   "source": [
    "U"
   ]
  },
  {
   "cell_type": "markdown",
   "metadata": {},
   "source": [
    "> $AA^T$ 의 eigenvector (컬럼들)"
   ]
  },
  {
   "cell_type": "code",
   "execution_count": 40,
   "metadata": {},
   "outputs": [
    {
     "data": {
      "text/plain": [
       "(array([5.02663839, 3.63080779, 2.2010239 , 0.4063117 , 0.73521822]),\n",
       " array([[ 0.1420201 ,  0.15926724,  0.44478434, -0.7504044 ,  0.43991404],\n",
       "        [ 0.28217347,  0.66423004, -0.6686015 , -0.17176556,  0.05143154],\n",
       "        [ 0.57186359,  0.41900149,  0.53419662,  0.44550631, -0.11648122],\n",
       "        [ 0.73476714, -0.55918788, -0.20299317, -0.23333456, -0.22754103],\n",
       "        [ 0.18247656, -0.21255368, -0.16901676,  0.39302536,  0.85935303]]))"
      ]
     },
     "execution_count": 40,
     "metadata": {},
     "output_type": "execute_result"
    }
   ],
   "source": [
    "np.linalg.eig(np.dot(A, A.T))"
   ]
  },
  {
   "cell_type": "markdown",
   "metadata": {},
   "source": [
    "### 3.2. $V$의 컬럼은 $A^TA$의 고유벡터들이다."
   ]
  },
  {
   "cell_type": "code",
   "execution_count": 41,
   "metadata": {},
   "outputs": [
    {
     "data": {
      "text/plain": [
       "array([[ 3.18411425e-01, -3.03478602e-01,  6.59875291e-01,\n",
       "        -3.77203708e-01, -4.78327154e-01,  0.00000000e+00,\n",
       "         0.00000000e+00,  0.00000000e+00],\n",
       "       [ 1.25856996e-01, -3.48591575e-01, -4.50666181e-01,\n",
       "        -5.99820682e-02, -2.69467515e-01,  6.68804465e-01,\n",
       "         7.03363092e-02,  3.62059008e-01],\n",
       "       [ 1.25856996e-01, -3.48591575e-01, -4.50666181e-01,\n",
       "        -5.99820682e-02, -2.69467515e-01, -2.25730227e-01,\n",
       "        -2.51128863e-01, -6.85064589e-01],\n",
       "       [ 3.80923616e-01, -5.68485856e-01, -9.05946733e-02,\n",
       "         7.58642273e-02,  4.29447227e-01, -4.43074237e-01,\n",
       "         1.80792554e-01,  3.23005582e-01],\n",
       "       [ 3.27726006e-01,  2.93464869e-01, -1.36826131e-01,\n",
       "         2.65369857e-01, -3.66057580e-01, -2.95562463e-01,\n",
       "        -5.61628350e-01,  4.24911474e-01],\n",
       "       [ 5.82792626e-01,  7.35705874e-02,  2.23245378e-01,\n",
       "         4.01216152e-01,  3.32857163e-01,  4.43074237e-01,\n",
       "        -1.80792554e-01, -3.23005582e-01],\n",
       "       [ 3.27726006e-01,  2.93464869e-01, -1.36826131e-01,\n",
       "         2.65369857e-01, -3.66057580e-01, -1.47511775e-01,\n",
       "         7.42420904e-01, -1.01905892e-01],\n",
       "       [ 4.09115486e-01,  4.05014207e-01, -2.50750700e-01,\n",
       "        -7.36851113e-01,  2.50524520e-01, -2.77555756e-17,\n",
       "         4.16333634e-17, -1.11022302e-16]])"
      ]
     },
     "execution_count": 41,
     "metadata": {},
     "output_type": "execute_result"
    }
   ],
   "source": [
    "# V의 각 컬럼은 A^T*A의 eigenvector 이다.\n",
    "V_T.T"
   ]
  },
  {
   "cell_type": "markdown",
   "metadata": {},
   "source": [
    "> $A^TA$의 eigenvector (컬럼들)"
   ]
  },
  {
   "cell_type": "code",
   "execution_count": 56,
   "metadata": {},
   "outputs": [
    {
     "data": {
      "text/plain": [
       "(array([ 5.02663839e+00,  3.63080779e+00,  2.20102390e+00,  4.06311698e-01,\n",
       "         7.35218216e-01, -4.59651894e-16,  2.48330325e-16,  2.91391961e-33]),\n",
       " array([[ 3.18411425e-01,  3.03478602e-01,  6.59875291e-01,\n",
       "         -4.78327154e-01, -3.77203708e-01,  2.90152184e-16,\n",
       "         -2.23557634e-16, -2.88942819e-17],\n",
       "        [ 1.25856996e-01,  3.48591575e-01, -4.50666181e-01,\n",
       "         -2.69467515e-01, -5.99820682e-02,  4.18225344e-01,\n",
       "          3.95367853e-01,  2.61792156e-02],\n",
       "        [ 1.25856996e-01,  3.48591575e-01, -4.50666181e-01,\n",
       "         -2.69467515e-01, -5.99820682e-02, -7.45993931e-01,\n",
       "          1.74925206e-01,  3.96472186e-02],\n",
       "        [ 3.80923616e-01,  5.68485856e-01, -9.05946733e-02,\n",
       "          4.29447227e-01,  7.58642273e-02,  3.27768587e-01,\n",
       "         -5.70293059e-01, -6.58264342e-02],\n",
       "        [ 3.27726006e-01, -2.93464869e-01, -1.36826131e-01,\n",
       "         -3.66057580e-01,  2.65369857e-01,  1.63884293e-01,\n",
       "         -2.85146530e-01,  6.69550287e-01],\n",
       "        [ 5.82792626e-01, -7.35705874e-02,  2.23245378e-01,\n",
       "          3.32857163e-01,  4.01216152e-01, -3.27768587e-01,\n",
       "          5.70293059e-01,  6.58264342e-02],\n",
       "        [ 3.27726006e-01, -2.93464869e-01, -1.36826131e-01,\n",
       "         -3.66057580e-01,  2.65369857e-01,  1.63884293e-01,\n",
       "         -2.85146530e-01, -7.35376721e-01],\n",
       "        [ 4.09115486e-01, -4.05014207e-01, -2.50750700e-01,\n",
       "          2.50524520e-01, -7.36851113e-01,  6.55158719e-17,\n",
       "         -3.05751038e-17, -7.65377862e-17]]))"
      ]
     },
     "execution_count": 56,
     "metadata": {},
     "output_type": "execute_result"
    }
   ],
   "source": [
    "np.linalg.eig(np.dot(A.T, A))"
   ]
  },
  {
   "cell_type": "markdown",
   "metadata": {},
   "source": [
    "## 4. Word vector와 Document vector 생성하기"
   ]
  },
  {
   "cell_type": "markdown",
   "metadata": {},
   "source": [
    "Word vector와 document vector를 생성할 때, 선택하는 singular value의 수가 중요하다. 2차원으로 보여주기 위해 $k=2$로 표현하자."
   ]
  },
  {
   "cell_type": "markdown",
   "metadata": {},
   "source": [
    "### 4.1. Words Vectors"
   ]
  },
  {
   "cell_type": "code",
   "execution_count": 44,
   "metadata": {},
   "outputs": [],
   "source": [
    "word_eigen_val, word_eigen_vec = np.linalg.eig(np.dot(A.T, A))"
   ]
  },
  {
   "cell_type": "code",
   "execution_count": 45,
   "metadata": {},
   "outputs": [],
   "source": [
    "x = word_eigen_vec[:,0] "
   ]
  },
  {
   "cell_type": "code",
   "execution_count": 46,
   "metadata": {},
   "outputs": [],
   "source": [
    "y = word_eigen_vec[:,1]"
   ]
  },
  {
   "cell_type": "code",
   "execution_count": 49,
   "metadata": {},
   "outputs": [
    {
     "data": {
      "text/plain": [
       "odict_keys(['romeo', 'juliet', 'happy', 'dagger', 'live', 'die', 'free', 'new-hampshire'])"
      ]
     },
     "execution_count": 49,
     "metadata": {},
     "output_type": "execute_result"
    }
   ],
   "source": [
    "words = corpus.keys()\n",
    "words"
   ]
  },
  {
   "cell_type": "code",
   "execution_count": 50,
   "metadata": {},
   "outputs": [
    {
     "data": {
      "text/plain": [
       "array([[ 0.31841142,  0.3034786 ],\n",
       "       [ 0.125857  ,  0.34859157],\n",
       "       [ 0.125857  ,  0.34859157],\n",
       "       [ 0.38092362,  0.56848586],\n",
       "       [ 0.32772601, -0.29346487],\n",
       "       [ 0.58279263, -0.07357059],\n",
       "       [ 0.32772601, -0.29346487],\n",
       "       [ 0.40911549, -0.40501421]])"
      ]
     },
     "execution_count": 50,
     "metadata": {},
     "output_type": "execute_result"
    }
   ],
   "source": [
    "# Word-Word matrix의 eigenvectors\n",
    "word_eigen_vec[:, :2]"
   ]
  },
  {
   "cell_type": "code",
   "execution_count": 51,
   "metadata": {},
   "outputs": [
    {
     "data": {
      "text/plain": [
       "array([2.24201659e+00, 1.90546787e+00, 1.48358481e+00, 6.37425837e-01,\n",
       "       8.57448666e-01,            nan, 1.57585001e-08, 5.39807337e-17])"
      ]
     },
     "execution_count": 51,
     "metadata": {},
     "output_type": "execute_result"
    }
   ],
   "source": [
    "# Word-Word matrix의 eigenvalue의 root\n",
    "np.sqrt(word_eigen_val)"
   ]
  },
  {
   "cell_type": "code",
   "execution_count": 53,
   "metadata": {},
   "outputs": [
    {
     "data": {
      "text/plain": [
       "array([2.24201659, 1.90546787, 1.48358481, 0.85744867, 0.63742584])"
      ]
     },
     "execution_count": 53,
     "metadata": {},
     "output_type": "execute_result"
    }
   ],
   "source": [
    "# Singular value\n",
    "sig"
   ]
  },
  {
   "cell_type": "markdown",
   "metadata": {},
   "source": [
    "$$\\text{word vector} = \\Sigma V^T$$"
   ]
  },
  {
   "cell_type": "code",
   "execution_count": 90,
   "metadata": {},
   "outputs": [
    {
     "data": {
      "text/plain": [
       "array([[ 0.7138837 ,  0.28217347,  0.28217347,  0.85403707,  0.73476714,\n",
       "         1.30663074,  0.73476714,  0.91724371],\n",
       "       [ 0.57826872,  0.66423004,  0.66423004,  1.08323153, -0.55918788,\n",
       "        -0.14018639, -0.55918788, -0.77174156]])"
      ]
     },
     "execution_count": 90,
     "metadata": {},
     "output_type": "execute_result"
    }
   ],
   "source": [
    "word_vec = np.dot(np.diag(sig[:2]), word_eigen_vec[:, :2].T)\n",
    "word_vec"
   ]
  },
  {
   "cell_type": "code",
   "execution_count": 59,
   "metadata": {},
   "outputs": [
    {
     "data": {
      "text/plain": [
       "array([[ 0.7138837 ,  0.57826872],\n",
       "       [ 0.28217347,  0.66423004],\n",
       "       [ 0.28217347,  0.66423004],\n",
       "       [ 0.85403707,  1.08323153],\n",
       "       [ 0.73476714, -0.55918788],\n",
       "       [ 1.30663074, -0.14018639],\n",
       "       [ 0.73476714, -0.55918788],\n",
       "       [ 0.91724371, -0.77174156]])"
      ]
     },
     "execution_count": 59,
     "metadata": {},
     "output_type": "execute_result"
    }
   ],
   "source": [
    "# Sigular value가 weight로 사용된 word vector\n",
    "word_vec.T"
   ]
  },
  {
   "cell_type": "code",
   "execution_count": 61,
   "metadata": {},
   "outputs": [],
   "source": [
    "w_x = word_vec[0]\n",
    "w_y = word_vec[1]"
   ]
  },
  {
   "cell_type": "code",
   "execution_count": 73,
   "metadata": {},
   "outputs": [
    {
     "data": {
      "image/png": "[encoded data removed]",
      "text/plain": [
       "<Figure size 432x432 with 1 Axes>"
      ]
     },
     "metadata": {
      "needs_background": "light"
     },
     "output_type": "display_data"
    }
   ],
   "source": [
    "import seaborn as sns\n",
    "import matplotlib.pyplot as plt\n",
    "import matplotlib as mpl\n",
    "\n",
    "mpl.rcParams['figure.figsize'] = (6, 6)\n",
    "\n",
    "fig, ax = plt.subplots()\n",
    "\n",
    "# Scatter\n",
    "ax.scatter(w_x, w_y, s=100)\n",
    "\n",
    "# Scatter에 라벨링을 한다.\n",
    "for i, txt in enumerate(words):\n",
    "    ax.annotate(txt, (w_x[i], w_y[i]), fontsize=15)  # free와 live가 겹쳐지는 위치"
   ]
  },
  {
   "cell_type": "markdown",
   "metadata": {},
   "source": [
    "### 4.2. Document Vectors"
   ]
  },
  {
   "cell_type": "code",
   "execution_count": 74,
   "metadata": {},
   "outputs": [],
   "source": [
    "doc_eigen_val, doc_eigen_vec = np.linalg.eig(np.dot(A, A.T))"
   ]
  },
  {
   "cell_type": "code",
   "execution_count": 75,
   "metadata": {},
   "outputs": [
    {
     "data": {
      "text/plain": [
       "array([[ 0.1420201 ,  0.15926724,  0.44478434, -0.7504044 ,  0.43991404],\n",
       "       [ 0.28217347,  0.66423004, -0.6686015 , -0.17176556,  0.05143154],\n",
       "       [ 0.57186359,  0.41900149,  0.53419662,  0.44550631, -0.11648122],\n",
       "       [ 0.73476714, -0.55918788, -0.20299317, -0.23333456, -0.22754103],\n",
       "       [ 0.18247656, -0.21255368, -0.16901676,  0.39302536,  0.85935303]])"
      ]
     },
     "execution_count": 75,
     "metadata": {},
     "output_type": "execute_result"
    }
   ],
   "source": [
    "# Doc-Doc matrix의 eigenvectors\n",
    "doc_eigen_vec"
   ]
  },
  {
   "cell_type": "code",
   "execution_count": 76,
   "metadata": {},
   "outputs": [
    {
     "data": {
      "text/plain": [
       "array([2.24201659, 1.90546787, 1.48358481, 0.63742584, 0.85744867])"
      ]
     },
     "execution_count": 76,
     "metadata": {},
     "output_type": "execute_result"
    }
   ],
   "source": [
    "# Word-Word matrix의 eigenvalue의 root\n",
    "np.sqrt(doc_eigen_val)"
   ]
  },
  {
   "cell_type": "code",
   "execution_count": 77,
   "metadata": {},
   "outputs": [
    {
     "data": {
      "text/plain": [
       "array([2.24201659, 1.90546787, 1.48358481, 0.85744867, 0.63742584])"
      ]
     },
     "execution_count": 77,
     "metadata": {},
     "output_type": "execute_result"
    }
   ],
   "source": [
    "# Singular value\n",
    "sig"
   ]
  },
  {
   "cell_type": "code",
   "execution_count": 80,
   "metadata": {},
   "outputs": [],
   "source": [
    "# Sigular value가 weight로 사용된 doc vector\n",
    "doc_vec = np.dot(doc_eigen_vec[:, :2], np.diag(sig[:2]))"
   ]
  },
  {
   "cell_type": "code",
   "execution_count": 81,
   "metadata": {},
   "outputs": [
    {
     "data": {
      "text/plain": [
       "array([[ 0.31841142,  0.3034786 ],\n",
       "       [ 0.63263761,  1.26566901],\n",
       "       [ 1.28212767,  0.79839387],\n",
       "       [ 1.64736012, -1.06551453],\n",
       "       [ 0.40911549, -0.40501421]])"
      ]
     },
     "execution_count": 81,
     "metadata": {},
     "output_type": "execute_result"
    }
   ],
   "source": [
    "doc_vec"
   ]
  },
  {
   "cell_type": "code",
   "execution_count": 82,
   "metadata": {},
   "outputs": [],
   "source": [
    "doc_x = doc_vec[:, 0]\n",
    "doc_y = doc_vec[:, 1]"
   ]
  },
  {
   "cell_type": "code",
   "execution_count": 84,
   "metadata": {},
   "outputs": [
    {
     "data": {
      "image/png": "[encoded data removed]",
      "text/plain": [
       "<Figure size 432x432 with 1 Axes>"
      ]
     },
     "metadata": {
      "needs_background": "light"
     },
     "output_type": "display_data"
    }
   ],
   "source": [
    "mpl.rcParams['figure.figsize'] = (6, 6)\n",
    "\n",
    "fig, ax = plt.subplots()\n",
    "\n",
    "# Scatter\n",
    "ax.scatter(doc_x, doc_y, marker='*', s=100)\n",
    "\n",
    "# Scatter에 라벨링을 한다.\n",
    "for i, txt in enumerate(['d1', 'd2', 'd3', 'd4', 'd5']):\n",
    "    ax.annotate(txt, (doc_x[i], doc_y[i]), fontsize=15)"
   ]
  },
  {
   "cell_type": "code",
   "execution_count": 85,
   "metadata": {},
   "outputs": [
    {
     "data": {
      "image/png": "[encoded data removed]",
      "text/plain": [
       "<Figure size 432x432 with 1 Axes>"
      ]
     },
     "metadata": {
      "needs_background": "light"
     },
     "output_type": "display_data"
    }
   ],
   "source": [
    "fig, ax = plt.subplots()\n",
    "ax.scatter(w_x, w_y, s=100)\n",
    "for i, txt in enumerate(words):\n",
    "    ax.annotate(txt, (w_x[i], w_y[i]), fontsize=20)\n",
    "    \n",
    "ax.scatter(doc_x, doc_y, marker='*', s=100)\n",
    "for i, txt in enumerate(['d1', 'd2', 'd3', 'd4', 'd5']):\n",
    "    ax.annotate(txt, (doc_x[i], doc_y[i]), fontsize=20)"
   ]
  },
  {
   "cell_type": "markdown",
   "metadata": {},
   "source": [
    "## 5. Query, document distance 구하기"
   ]
  },
  {
   "cell_type": "markdown",
   "metadata": {},
   "source": [
    "### 5.1. Query"
   ]
  },
  {
   "cell_type": "code",
   "execution_count": 91,
   "metadata": {},
   "outputs": [
    {
     "name": "stdout",
     "output_type": "stream",
     "text": [
      "dagger [0.85403707 1.08323153]\n",
      "die [ 1.30663074 -0.14018639]\n"
     ]
    }
   ],
   "source": [
    "# Query : die, dagger\n",
    "q1 = word_vec[:, 3]\n",
    "print('dagger', q1)\n",
    "\n",
    "q2 = word_vec[:, 5]\n",
    "print('die', q2)"
   ]
  },
  {
   "cell_type": "code",
   "execution_count": 92,
   "metadata": {},
   "outputs": [
    {
     "name": "stdout",
     "output_type": "stream",
     "text": [
      "dagger and die : [1.0803339  0.47152257]\n"
     ]
    }
   ],
   "source": [
    "query = (q1 + q2) / 2\n",
    "print('dagger and die :', query)"
   ]
  },
  {
   "cell_type": "markdown",
   "metadata": {},
   "source": [
    "### 5.2. Query와 document의 거리 : Word embedding 공간에서는 cosine similarity를 사용\n",
    "$$\\text{Cosine Similarity} = \\frac{d_i q}{|d_i| |q|}$$"
   ]
  },
  {
   "cell_type": "code",
   "execution_count": 96,
   "metadata": {},
   "outputs": [],
   "source": [
    "def get_consine_similarity(doc, query):\n",
    "    dot_prod = np.dot(doc, query)\n",
    "    len_doc = np.sqrt(sum(doc ** 2))\n",
    "    len_query = np.sqrt(sum(query ** 2))\n",
    "    \n",
    "    return dot_prod / (len_doc * len_query)"
   ]
  },
  {
   "cell_type": "code",
   "execution_count": 97,
   "metadata": {},
   "outputs": [],
   "source": [
    "result = {}\n",
    "for idx, doc in zip(docs, doc_vec):\n",
    "    result[get_consine_similarity(doc, query)] = idx"
   ]
  },
  {
   "cell_type": "code",
   "execution_count": 142,
   "metadata": {},
   "outputs": [
    {
     "data": {
      "text/plain": [
       "{0.9394229167549284: 'Romeo and Juliet.',\n",
       " 0.7675821958223485: 'Juliet: O happy dagger!',\n",
       " 0.9894460380775614: 'Romeo die by dagger.',\n",
       " 0.5523126634177865: \"'Live free or die', that's the motto of New-Hampshire\",\n",
       " 0.3698973450185458: 'Did you know, New-Hampshire is in New-England'}"
      ]
     },
     "execution_count": 142,
     "metadata": {},
     "output_type": "execute_result"
    }
   ],
   "source": [
    "result"
   ]
  },
  {
   "cell_type": "markdown",
   "metadata": {},
   "source": [
    "### 5.3. 최종 결과"
   ]
  },
  {
   "cell_type": "code",
   "execution_count": 140,
   "metadata": {},
   "outputs": [
    {
     "ename": "TypeError",
     "evalue": "'<' not supported between instances of 'numpy.ndarray' and 'str'",
     "output_type": "error",
     "traceback": [
      "\u001b[1;31m---------------------------------------------------------------------------\u001b[0m",
      "\u001b[1;31mTypeError\u001b[0m                                 Traceback (most recent call last)",
      "\u001b[1;32m<ipython-input-140-9cbefbcaf557>\u001b[0m in \u001b[0;36m<module>\u001b[1;34m()\u001b[0m\n\u001b[0;32m      2\u001b[0m \u001b[1;33m\u001b[0m\u001b[0m\n\u001b[0;32m      3\u001b[0m \u001b[1;31m# 최종결과를 sorting하라!\u001b[0m\u001b[1;33m\u001b[0m\u001b[1;33m\u001b[0m\u001b[0m\n\u001b[1;32m----> 4\u001b[1;33m \u001b[0msorted\u001b[0m\u001b[1;33m(\u001b[0m\u001b[0mresult\u001b[0m\u001b[1;33m.\u001b[0m\u001b[0mitems\u001b[0m\u001b[1;33m(\u001b[0m\u001b[1;33m)\u001b[0m\u001b[1;33m,\u001b[0m \u001b[0mkey\u001b[0m\u001b[1;33m=\u001b[0m\u001b[0moperator\u001b[0m\u001b[1;33m.\u001b[0m\u001b[0mitemgetter\u001b[0m\u001b[1;33m(\u001b[0m\u001b[1;36m0\u001b[0m\u001b[1;33m)\u001b[0m\u001b[1;33m,\u001b[0m \u001b[0mreverse\u001b[0m\u001b[1;33m=\u001b[0m\u001b[1;32mTrue\u001b[0m\u001b[1;33m)\u001b[0m\u001b[1;33m\u001b[0m\u001b[0m\n\u001b[0m",
      "\u001b[1;31mTypeError\u001b[0m: '<' not supported between instances of 'numpy.ndarray' and 'str'"
     ]
    }
   ],
   "source": [
    "import operator\n",
    "\n",
    "# 최종결과를 sorting하라!\n",
    "sorted(result.items(), key=operator.itemgetter(0), reverse=True)\n"
   ]
  },
  {
   "cell_type": "code",
   "execution_count": 111,
   "metadata": {},
   "outputs": [
    {
     "data": {
      "text/plain": [
       "Text(1.0803339027046133, 0.4715225705444865, 'query')"
      ]
     },
     "execution_count": 111,
     "metadata": {},
     "output_type": "execute_result"
    },
    {
     "data": {
      "image/png": "[encoded data removed]",
      "text/plain": [
       "<Figure size 432x432 with 1 Axes>"
      ]
     },
     "metadata": {
      "needs_background": "light"
     },
     "output_type": "display_data"
    }
   ],
   "source": [
    "fig, ax = plt.subplots()\n",
    "ax.scatter(w_x, w_y, s=100)\n",
    "for i, txt in enumerate(words):\n",
    "    ax.annotate(txt, (w_x[i], w_y[i]), fontsize=20)\n",
    "    \n",
    "ax.scatter(doc_x, doc_y, marker='*', s=100)\n",
    "for i, txt in enumerate(['d1', 'd2', 'd3', 'd4', 'd5']):\n",
    "    ax.annotate(txt, (doc_x[i], doc_y[i]), fontsize=20)\n",
    "    \n",
    "ax.scatter(query[0], query[1], marker='v', s=200, color='red')\n",
    "ax.annotate('query', (query[0], query[1]), fontsize=20)"
   ]
  },
  {
   "cell_type": "markdown",
   "metadata": {},
   "source": [
    "---\n",
    "(예제) 다음이 주어졌을 때, word와 document를 2차원으로 그려보고, `python` 과 가까운 단어를 순서대로 나열해보라."
   ]
  },
  {
   "cell_type": "code",
   "execution_count": 86,
   "metadata": {},
   "outputs": [],
   "source": [
    "example = [\n",
    "    \"Machine learning is super fun\",\n",
    "    \"Python is super, super cool\",\n",
    "    \"Statistics is cool, too\",\n",
    "    \"Data science is fun\",\n",
    "    \"Python is great for machine learning\",\n",
    "    \"I like football\",\n",
    "    \"Football is great to watch\"\n",
    "]"
   ]
  },
  {
   "cell_type": "code",
   "execution_count": 87,
   "metadata": {},
   "outputs": [],
   "source": [
    "from collections import OrderedDict\n",
    "corpus = OrderedDict(\n",
    "    {\n",
    "        'cool':0, \n",
    "        'data':1,\n",
    "        'football':2,\n",
    "        'fun':3,\n",
    "        'great':4,\n",
    "        'learning':5,\n",
    "        'like':6,\n",
    "        'machine':7,\n",
    "        'python':8,\n",
    "        'science':9,\n",
    "        'statistics':10,\n",
    "        'super':11,\n",
    "        'watch':12\n",
    "    }\n",
    ")"
   ]
  },
  {
   "cell_type": "markdown",
   "metadata": {},
   "source": [
    "---"
   ]
  },
  {
   "cell_type": "markdown",
   "metadata": {},
   "source": [
    "(예제 : 네이버 영화 리뷰 분석)\n",
    "\n",
    "`inputs/selected_review`의 데이터를 load 하여, 해당 리뷰를 아래와 같이 분석하라.\n",
    " - corpus는 리뷰 중 가장 많이 나온 단어 상위 20개를 사용하여 구성하라.\n",
    " - `사랑`이라는 단어와 가장 가까운 리뷰를 cosine similarity를 이용하여 상위 10개까지 구하라.\n",
    " - `사랑`이라는 단어와 가장 가까운 단어를 cosine similarity를 이용하여 상위 10개까지 구하라.\n",
    " - 리뷰 중 가장 많이 나온 단어 상위 20개를 scatter 를 사용하여 plot 하라."
   ]
  },
  {
   "cell_type": "code",
   "execution_count": 1,
   "metadata": {},
   "outputs": [],
   "source": [
    "import pandas as pd"
   ]
  },
  {
   "cell_type": "code",
   "execution_count": 14,
   "metadata": {},
   "outputs": [],
   "source": [
    "# 영화 리뷰를 load한다. 사랑/장르라는 단어를 포함하고 있는 document를 load 한다.\n",
    "review = pd.read_csv('./inputs/ratings_train.txt', delimiter='\\t')\n",
    "\n",
    "love_review = review[review.document.str.contains('사랑')==True].head(100)\n",
    "type_review = review[review.document.str.contains('장르')==True].head(100)\n",
    "\n",
    "df = pd.concat([love_review, type_review], axis=0)"
   ]
  },
  {
   "cell_type": "code",
   "execution_count": 17,
   "metadata": {},
   "outputs": [],
   "source": [
    "# 형태소 분석기\n",
    "import konlpy\n",
    "from konlpy.tag import Komoran\n",
    "\n",
    "komoran = Komoran()\n",
    "documents = [komoran.nouns(elem) for elem in df.document.values]"
   ]
  },
  {
   "cell_type": "code",
   "execution_count": 24,
   "metadata": {},
   "outputs": [
    {
     "data": {
      "text/plain": [
       "[['영화', '사랑합니다'],\n",
       " ['사랑', '가슴속', '온', '감정', '영화', '예', '요정', '말', '최고'],\n",
       " ['년', '영화', '순수', '사랑', '감동', '숀펜', '연기'],\n",
       " ['사랑비', '서주', '초', '절대', '후회', '도안', '할거'],\n",
       " ['넘', '사랑', '영화', '보고', '넘']]"
      ]
     },
     "execution_count": 24,
     "metadata": {},
     "output_type": "execute_result"
    }
   ],
   "source": [
    "documents[:5]"
   ]
  },
  {
   "cell_type": "code",
   "execution_count": 27,
   "metadata": {},
   "outputs": [],
   "source": [
    "import pickle\n",
    "\n",
    "# 데이터를 파일로 저장하기\n",
    "with open('./inputs/selected_reviews', 'wb') as handle:\n",
    "    pickle.dump(documents, handle)"
   ]
  },
  {
   "cell_type": "code",
   "execution_count": 29,
   "metadata": {},
   "outputs": [],
   "source": [
    "# 데이터 불러오기\n",
    "with open('./inputs/selected_reviews', 'rb') as handle:\n",
    "    loaded_doc = pickle.load(handle)"
   ]
  },
  {
   "cell_type": "markdown",
   "metadata": {},
   "source": [
    "---"
   ]
  }
 ],
 "metadata": {
  "kernelspec": {
   "display_name": "Python 3",
   "language": "python",
   "name": "python3"
  },
  "language_info": {
   "codemirror_mode": {
    "name": "ipython",
    "version": 3
   },
   "file_extension": ".py",
   "mimetype": "text/x-python",
   "name": "python",
   "nbconvert_exporter": "python",
   "pygments_lexer": "ipython3",
   "version": "3.7.0"
  }
 },
 "nbformat": 4,
 "nbformat_minor": 2
}
